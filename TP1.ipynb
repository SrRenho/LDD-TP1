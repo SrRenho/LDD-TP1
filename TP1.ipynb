{
  "cells": [
    {
      "cell_type": "markdown",
      "id": "s2w9pPvGs9g9",
      "metadata": {
        "id": "s2w9pPvGs9g9"
      },
      "source": [
        "TP1\n",
        "\n",
        "Laboratorio de Datos\n",
        "\n",
        "1er Cuatrimestre - 2024\n",
        "\n",
        "Iván Exequiel Pintos - Joaquín Rovner - Juan José García Vizioli"
      ]
    },
    {
      "cell_type": "markdown",
      "id": "711a03a3",
      "metadata": {
        "id": "711a03a3"
      },
      "source": [
        "- Importamos todas las librerías que venimos usando:"
      ]
    },
    {
      "cell_type": "code",
      "execution_count": null,
      "id": "6b39afcc",
      "metadata": {
        "id": "6b39afcc"
      },
      "outputs": [],
      "source": [
        "import numpy as np\n",
        "\n",
        "import pandas as pd\n",
        "\n",
        "import seaborn as sns\n",
        "import seaborn.objects as so\n",
        "import matplotlib.pyplot as plt\n",
        "\n",
        "from scipy import stats\n",
        "\n",
        "from sklearn.model_selection import KFold\n",
        "from sklearn.linear_model import LinearRegression\n",
        "from sklearn.model_selection import train_test_split\n",
        "from sklearn.metrics import mean_squared_error, r2_score    # Medidas de desempeño\n",
        "\n",
        "from formulaic import model_matrix\n",
        "from formulaic import Formula"
      ]
    },
    {
      "cell_type": "markdown",
      "id": "c4694286",
      "metadata": {
        "id": "c4694286"
      },
      "source": [
        "- Leemos los dataset:"
      ]
    },
    {
      "cell_type": "code",
      "execution_count": null,
      "id": "raKXEkiYvB_j",
      "metadata": {
        "id": "raKXEkiYvB_j"
      },
      "outputs": [],
      "source": [
        "sube_2023_file_path = '../LDD-TP1/sube-2023.csv'\n",
        "sube_2023_regresion_file_path = '../LDD-TP1/sube-2023-regresion.csv'\n",
        "\n",
        "SUBE_2023 = pd.read_csv(sube_2023_file_path)\n",
        "SUBE_2023_regresion = pd.read_csv(sube_2023_regresion_file_path)"
      ]
    },
    {
      "cell_type": "markdown",
      "id": "0QRFRjYj2Q2Y",
      "metadata": {
        "id": "0QRFRjYj2Q2Y"
      },
      "source": [
        "#Procesamiento de Datos"
      ]
    },
    {
      "cell_type": "markdown",
      "id": "a8a1134a",
      "metadata": {
        "id": "a8a1134a"
      },
      "source": [
        "##1)"
      ]
    },
    {
      "cell_type": "markdown",
      "id": "6574211a",
      "metadata": {
        "id": "6574211a"
      },
      "source": [
        "###a)"
      ]
    },
    {
      "cell_type": "markdown",
      "id": "ld6A6pen-VnC",
      "metadata": {
        "id": "ld6A6pen-VnC"
      },
      "source": [
        "Visualizamos el tipo de dato de cada columna:"
      ]
    },
    {
      "cell_type": "code",
      "source": [
        "#Definimos una función que nos permita ver el tipo de dato correspondiente a cada columna del DataFrame.\n",
        "\n",
        "def ver_tipos_datos_columnas(df):\n",
        "    if not isinstance(df, pd.DataFrame):\n",
        "        df = pd.DataFrame(df)\n",
        "    lista = []\n",
        "    for col in df:\n",
        "        lista.append([col,type(df[col][0])])\n",
        "    display(pd.DataFrame(lista, columns = [\"COLUMNA\",\"TIPO DE DATO\"]))\n",
        "\n",
        "ver_tipos_datos_columnas(SUBE_2023)"
      ],
      "metadata": {
        "id": "0gLIl5NRAYIl"
      },
      "id": "0gLIl5NRAYIl",
      "execution_count": null,
      "outputs": []
    },
    {
      "cell_type": "markdown",
      "source": [
        "Luego, le cambiamos el formato a la columna DIA_TRANSPORTE:"
      ],
      "metadata": {
        "id": "2eOfaA30Ad_0"
      },
      "id": "2eOfaA30Ad_0"
    },
    {
      "cell_type": "code",
      "source": [
        "SUBE_2023['DIA_TRANSPORTE'] = pd.to_datetime(SUBE_2023['DIA_TRANSPORTE']) #investigar argumento \"format\""
      ],
      "metadata": {
        "id": "wt-0pAfrAemD"
      },
      "id": "wt-0pAfrAemD",
      "execution_count": null,
      "outputs": []
    },
    {
      "cell_type": "markdown",
      "source": [
        "Corroboramos que el tipo de dato de la columna ahora es un time_stamp:"
      ],
      "metadata": {
        "id": "Xb3KX1UuAgZN"
      },
      "id": "Xb3KX1UuAgZN"
    },
    {
      "cell_type": "code",
      "source": [
        "ver_tipos_datos_columnas(SUBE_2023)"
      ],
      "metadata": {
        "id": "RqbkAVHjAity"
      },
      "id": "RqbkAVHjAity",
      "execution_count": null,
      "outputs": []
    },
    {
      "cell_type": "markdown",
      "id": "3JrkI3ewwXtJ",
      "metadata": {
        "id": "3JrkI3ewwXtJ"
      },
      "source": [
        "###b)"
      ]
    },
    {
      "cell_type": "markdown",
      "id": "PMKNBQfI1lEH",
      "metadata": {
        "id": "PMKNBQfI1lEH"
      },
      "source": [
        "####i)"
      ]
    },
    {
      "cell_type": "markdown",
      "id": "iQ_4LHcU10Yc",
      "metadata": {
        "id": "iQ_4LHcU10Yc"
      },
      "source": [
        "Agregamos la columna FECHA_DIA a partir de DIA_TRANSPORTE"
      ]
    },
    {
      "cell_type": "code",
      "source": [
        "SUBE_2023[\"FECHA_DIA\"] = SUBE_2023['DIA_TRANSPORTE'].apply(lambda x : x.strftime('%a'))"
      ],
      "metadata": {
        "id": "w__9gwEoAqdi"
      },
      "id": "w__9gwEoAqdi",
      "execution_count": null,
      "outputs": []
    },
    {
      "cell_type": "markdown",
      "source": [
        "Vemos que la columna sigue el formato de 3 letras en inglés pedido:"
      ],
      "metadata": {
        "id": "0JIVV0dsAsIY"
      },
      "id": "0JIVV0dsAsIY"
    },
    {
      "cell_type": "code",
      "source": [
        "SUBE_2023.head()"
      ],
      "metadata": {
        "id": "I8-EYl3wAtTd"
      },
      "id": "I8-EYl3wAtTd",
      "execution_count": null,
      "outputs": []
    },
    {
      "cell_type": "markdown",
      "id": "DHUrGU0b1_-b",
      "metadata": {
        "id": "DHUrGU0b1_-b"
      },
      "source": [
        "####ii)\n"
      ]
    },
    {
      "cell_type": "markdown",
      "id": "HFs_uk925o0J",
      "metadata": {
        "id": "HFs_uk925o0J"
      },
      "source": [
        "Agregamos la columna FECHA_ORDINAL a partir de DIA_TRANSPORTE, que numera los días desde 1 hasta 365."
      ]
    },
    {
      "cell_type": "code",
      "source": [
        "SUBE_2023[\"FECHA_ORDINAL\"] = SUBE_2023['DIA_TRANSPORTE'].apply(lambda x : int(x.strftime('%-j')))"
      ],
      "metadata": {
        "id": "36Yc8tmAAyGi"
      },
      "id": "36Yc8tmAAyGi",
      "execution_count": null,
      "outputs": []
    },
    {
      "cell_type": "markdown",
      "source": [
        "Vemos que la columna FECHA_ORDINAL tiene el formato pedido y que además sus datos son del tipo int:"
      ],
      "metadata": {
        "id": "VNV4tSr5BEAj"
      },
      "id": "VNV4tSr5BEAj"
    },
    {
      "cell_type": "code",
      "source": [
        "display(SUBE_2023.head())\n",
        "ver_tipos_datos_columnas(SUBE_2023[\"FECHA_ORDINAL\"])"
      ],
      "metadata": {
        "id": "pCjsKEgXBEs9"
      },
      "id": "pCjsKEgXBEs9",
      "execution_count": null,
      "outputs": []
    },
    {
      "cell_type": "markdown",
      "id": "06fbDLkW2W6s",
      "metadata": {
        "id": "06fbDLkW2W6s"
      },
      "source": [
        "####iii)"
      ]
    },
    {
      "cell_type": "markdown",
      "id": "rvEvSgpH2kDd",
      "metadata": {
        "id": "rvEvSgpH2kDd"
      },
      "source": [
        "Agregamos la columna FECHA_MES a partir de DIA_TRANSPORTE"
      ]
    },
    {
      "cell_type": "code",
      "source": [
        "SUBE_2023[\"FECHA_MES\"] = SUBE_2023['DIA_TRANSPORTE'].apply(lambda x : x.strftime('%m'))"
      ],
      "metadata": {
        "id": "HxrSSMcHBJpi"
      },
      "id": "HxrSSMcHBJpi",
      "execution_count": null,
      "outputs": []
    },
    {
      "cell_type": "markdown",
      "source": [
        "Vemos que la columna sigue el formato de string de número de 2 dígitos pedido"
      ],
      "metadata": {
        "id": "VXnV-VdzBLSA"
      },
      "id": "VXnV-VdzBLSA"
    },
    {
      "cell_type": "code",
      "source": [
        "SUBE_2023.head()"
      ],
      "metadata": {
        "id": "udx6qXBpBMrM"
      },
      "id": "udx6qXBpBMrM",
      "execution_count": null,
      "outputs": []
    },
    {
      "cell_type": "markdown",
      "id": "Cjg1AMFl-pU9",
      "metadata": {
        "id": "Cjg1AMFl-pU9"
      },
      "source": [
        "##2)"
      ]
    },
    {
      "cell_type": "markdown",
      "id": "GOTM_0hy-uBJ",
      "metadata": {
        "id": "GOTM_0hy-uBJ"
      },
      "source": [
        "Creamos el DataFrame datos_amba, el cual solo contiene datos de AMBA y excluye los datos preliminares."
      ]
    },
    {
      "cell_type": "code",
      "source": [
        "datos_amba = SUBE_2023[(SUBE_2023['AMBA'] == 'SI') & (SUBE_2023['DATO_PRELIMINAR'] == 'NO')]\n",
        "\n",
        "columnas_datos_amba = ['DIA_TRANSPORTE','FECHA_DIA','FECHA_MES','FECHA_ORDINAL','JURISDICCION','LINEA','CANTIDAD','TIPO_TRANSPORTE']\n",
        "\n",
        "datos_amba = (datos_amba[columnas_datos_amba].rename(columns = {'DIA_TRANSPORTE' : 'FECHA', 'CANTIDAD' : 'PASAJEROS'})\n",
        "            .rename(columns=str.lower).reset_index().drop([\"index\"], axis = 1)) #transformamos en minúsculas y reseteamos índices.\n",
        "\n",
        "datos_amba.head()"
      ],
      "metadata": {
        "id": "vxaJSXTnBSU3"
      },
      "id": "vxaJSXTnBSU3",
      "execution_count": null,
      "outputs": []
    },
    {
      "cell_type": "markdown",
      "id": "926oH1DB-270",
      "metadata": {
        "id": "926oH1DB-270"
      },
      "source": [
        "##3)"
      ]
    },
    {
      "cell_type": "markdown",
      "id": "1J9Xnv5C-3tw",
      "metadata": {
        "id": "1J9Xnv5C-3tw"
      },
      "source": [
        "###a)"
      ]
    },
    {
      "cell_type": "markdown",
      "id": "msx9Mz6I-8We",
      "metadata": {
        "id": "msx9Mz6I-8We"
      },
      "source": [
        "Identificamos la proporción de la cantidad total anual de pasajeros que le corresponde a cada medio de transporte"
      ]
    },
    {
      "cell_type": "code",
      "source": [
        "datos_amba['tipo_transporte'].unique() #Ver qué tipos de transporte hay"
      ],
      "metadata": {
        "id": "RoTgQjn2BgdJ"
      },
      "id": "RoTgQjn2BgdJ",
      "execution_count": null,
      "outputs": []
    },
    {
      "cell_type": "code",
      "source": [
        "total_pasajeros_amba = datos_amba['pasajeros'].sum()\n",
        "\n",
        "datos_amba_colectivo = datos_amba[datos_amba['tipo_transporte'] == 'COLECTIVO']\n",
        "datos_amba_tren = datos_amba[datos_amba['tipo_transporte'] == 'TREN']\n",
        "datos_amba_subte = datos_amba[datos_amba['tipo_transporte'] == 'SUBTE']\n",
        "\n",
        "pasajeros_colectivo_amba = datos_amba_colectivo['pasajeros'].sum()\n",
        "pasajeros_tren_amba = datos_amba_tren['pasajeros'].sum()\n",
        "pasajeros_subte_amba = datos_amba_subte['pasajeros'].sum()\n",
        "\n",
        "porcentaje_pasajeros_colectivo = pasajeros_colectivo_amba * 100 / total_pasajeros_amba\n",
        "porcentaje_pasajeros_tren = pasajeros_tren_amba * 100 / total_pasajeros_amba\n",
        "porcentaje_pasajeros_subte = pasajeros_subte_amba * 100 / total_pasajeros_amba\n",
        "\n",
        "print('\\033[1mPorcentaje anual en colectivo:\\033[0m', str(round(porcentaje_pasajeros_colectivo, 2)) + '%')\n",
        "print('\\033[1mPorcentaje anual en tren:\\033[0m', str(round(porcentaje_pasajeros_tren, 2)) + '%')\n",
        "print('\\033[1mPorcentaje anual en subte:\\033[0m', str(round(porcentaje_pasajeros_subte, 2)) + '%')"
      ],
      "metadata": {
        "id": "LcVZ0O3dBkBB"
      },
      "id": "LcVZ0O3dBkBB",
      "execution_count": null,
      "outputs": []
    },
    {
      "cell_type": "markdown",
      "id": "5iUzIPLQ-4vW",
      "metadata": {
        "id": "5iUzIPLQ-4vW"
      },
      "source": [
        "###b)"
      ]
    },
    {
      "cell_type": "markdown",
      "id": "5XWNlGIA-__Q",
      "metadata": {
        "id": "5XWNlGIA-__Q"
      },
      "source": [
        "Identificamos la tupla (mes, línea de subte) donde viajó la mayor cantidad de pasajeros"
      ]
    },
    {
      "cell_type": "code",
      "source": [
        "fila_record_subte_amba = datos_amba_subte.nlargest(1, 'pasajeros').iloc[0]\n",
        "\n",
        "record_subte = mes_record_subte, linea_record_subte = fila_record_subte_amba['fecha_mes'], fila_record_subte_amba['linea']\n",
        "\n",
        "print('\\033[1mMes y linea con mayor cantidad de pasajeros en subte:\\033[0m', record_subte)"
      ],
      "metadata": {
        "id": "8thkL8yTBq9O"
      },
      "id": "8thkL8yTBq9O",
      "execution_count": null,
      "outputs": []
    },
    {
      "cell_type": "markdown",
      "id": "Xz0xsKkN_BNz",
      "metadata": {
        "id": "Xz0xsKkN_BNz"
      },
      "source": [
        "###c)"
      ]
    },
    {
      "cell_type": "markdown",
      "id": "u1RHrRf0_DAO",
      "metadata": {
        "id": "u1RHrRf0_DAO"
      },
      "source": [
        "Identificamos el día hábil con menor desvío estándar en cantidad de pasajeros"
      ]
    },
    {
      "cell_type": "code",
      "source": [
        "dia_habil_menor_std = datos_amba.groupby('fecha_dia')['pasajeros'].std().drop(['Sun','Sat']).idxmin()\n",
        "\n",
        "dias_completos_esp = {\n",
        "    'Mon': 'Lunes',\n",
        "    'Tue': 'Martes',\n",
        "    'Wed': 'Miércoles',\n",
        "    'Thu': 'Jueves',\n",
        "    'Fri': 'Viernes',\n",
        "    'Sat': 'Sábado',\n",
        "    'Sun': 'Domingo'\n",
        "}\n",
        "\n",
        "print('\\033[1mDía hábil con menor desvío estándar en cantidad de pasajeros:\\033[0m',dias_completos_esp[dia_habil_menor_std])"
      ],
      "metadata": {
        "id": "gX4SqNDEB2r_"
      },
      "id": "gX4SqNDEB2r_",
      "execution_count": null,
      "outputs": []
    },
    {
      "cell_type": "markdown",
      "id": "ESVG_e6j_Gk9",
      "metadata": {
        "id": "ESVG_e6j_Gk9"
      },
      "source": [
        "#Análisis Exploratorio"
      ]
    },
    {
      "cell_type": "markdown",
      "id": "eXeFBHUm_JNa",
      "metadata": {
        "id": "eXeFBHUm_JNa"
      },
      "source": [
        "##4)"
      ]
    },
    {
      "cell_type": "code",
      "source": [
        "#Ocultamos las advertencias para una visualización más clara y limpia de los gráficos\n",
        "\n",
        "import warnings\n",
        "warnings.filterwarnings('ignore')"
      ],
      "metadata": {
        "id": "QSuxMzHqCDXi"
      },
      "id": "QSuxMzHqCDXi",
      "execution_count": null,
      "outputs": []
    },
    {
      "cell_type": "markdown",
      "source": [
        "En primer lugar, observamos la proporción de pasajeros transportados en el AMBA vs el resto del país."
      ],
      "metadata": {
        "id": "q9LOfS89CFfN"
      },
      "id": "q9LOfS89CFfN"
    },
    {
      "cell_type": "code",
      "source": [
        "df_agrupado = SUBE_2023.groupby('AMBA')['CANTIDAD'].sum().reset_index()\n",
        "(\n",
        "    so.Plot(data = df_agrupado, x = \"AMBA\", y = \"CANTIDAD\")\n",
        "    .add(so.Bar())\n",
        ")"
      ],
      "metadata": {
        "id": "i1qvGjIYCGUw"
      },
      "id": "i1qvGjIYCGUw",
      "execution_count": null,
      "outputs": []
    },
    {
      "cell_type": "markdown",
      "source": [
        "Vemos que efectivamente la mayor cantidad de pasajeros transportados se concentra en el AMBA.\n",
        "Por lo tanto, nos concentraremos en comparar el comportamiento de los distintos tipos de transporte del AMBA a lo largo de 2023."
      ],
      "metadata": {
        "id": "_Pn1WmHLCK4q"
      },
      "id": "_Pn1WmHLCK4q"
    },
    {
      "cell_type": "markdown",
      "source": [
        "### Evolución de los pasajeros transportados en SUBTE a lo largo del año 2023"
      ],
      "metadata": {
        "id": "bgcyihZkCPgo"
      },
      "id": "bgcyihZkCPgo"
    },
    {
      "cell_type": "code",
      "source": [
        "#Creamos un nuevo DataFrame a partir de datos_amba para estudiar el comportamiento de los subtes.\n",
        "\n",
        "subtes = datos_amba[datos_amba[\"tipo_transporte\"]==\"SUBTE\"].reset_index().drop([\"index\"], axis = 1)\n",
        "subtes = subtes[subtes[\"linea\"] != \"LIN_PREMETRO\"] #Excluímos el premetro por la escases de datos en comparación con las otras líneas.\n",
        "subtes[\"linea\"].replace({\"LINEA_A\": \"LINEA SUBTE A\", \"LINEA_B\": \"LINEA SUBTE B\"}, inplace = True) #Normalizamos los nombres de las columnas."
      ],
      "metadata": {
        "id": "iJb-mHZNCWFs"
      },
      "id": "iJb-mHZNCWFs",
      "execution_count": null,
      "outputs": []
    },
    {
      "cell_type": "markdown",
      "id": "BnPK3vXB_R8K",
      "metadata": {
        "id": "BnPK3vXB_R8K"
      },
      "source": [
        "#Modelado"
      ]
    },
    {
      "cell_type": "markdown",
      "id": "yLkmQvXT_Tk4",
      "metadata": {
        "id": "yLkmQvXT_Tk4"
      },
      "source": [
        "## Ejercicio 5)"
      ]
    },
    {
      "cell_type": "markdown",
      "id": "3_TQOHFi_ZmW",
      "metadata": {
        "id": "3_TQOHFi_ZmW"
      },
      "source": [
        "### a)"
      ]
    },
    {
      "cell_type": "markdown",
      "id": "e67c2524-022e-4774-b07b-32b079197a88",
      "metadata": {
        "id": "e67c2524-022e-4774-b07b-32b079197a88"
      },
      "source": [
        "Visualizamos el dataset a utilizar"
      ]
    },
    {
      "cell_type": "code",
      "execution_count": null,
      "id": "nXmSgm61l648",
      "metadata": {
        "colab": {
          "base_uri": "https://localhost:8080/",
          "height": 206
        },
        "id": "nXmSgm61l648",
        "outputId": "c753a60f-ffd2-41e4-8104-07a2da30a680"
      },
      "outputs": [
        {
          "data": {
            "text/html": [
              "<div>\n",
              "<style scoped>\n",
              "    .dataframe tbody tr th:only-of-type {\n",
              "        vertical-align: middle;\n",
              "    }\n",
              "\n",
              "    .dataframe tbody tr th {\n",
              "        vertical-align: top;\n",
              "    }\n",
              "\n",
              "    .dataframe thead th {\n",
              "        text-align: right;\n",
              "    }\n",
              "</style>\n",
              "<table border=\"1\" class=\"dataframe\">\n",
              "  <thead>\n",
              "    <tr style=\"text-align: right;\">\n",
              "      <th></th>\n",
              "      <th>DIA_TRANSPORTE</th>\n",
              "      <th>NOMBRE_EMPRESA</th>\n",
              "      <th>LINEA</th>\n",
              "      <th>AMBA</th>\n",
              "      <th>TIPO_TRANSPORTE</th>\n",
              "      <th>JURISDICCION</th>\n",
              "      <th>PROVINCIA</th>\n",
              "      <th>MUNICIPIO</th>\n",
              "      <th>CANTIDAD</th>\n",
              "      <th>DATO_PRELIMINAR</th>\n",
              "    </tr>\n",
              "  </thead>\n",
              "  <tbody>\n",
              "    <tr>\n",
              "      <th>0</th>\n",
              "      <td>2023-01-01</td>\n",
              "      <td>MUNICIPALIDAD DE MERCEDES PROVINCIA DE BUENOS ...</td>\n",
              "      <td>1</td>\n",
              "      <td>SI</td>\n",
              "      <td>COLECTIVO</td>\n",
              "      <td>MUNICIPAL</td>\n",
              "      <td>BUENOS AIRES</td>\n",
              "      <td>MERCEDES</td>\n",
              "      <td>61</td>\n",
              "      <td>NO</td>\n",
              "    </tr>\n",
              "    <tr>\n",
              "      <th>1</th>\n",
              "      <td>2023-01-01</td>\n",
              "      <td>MUNICIPALIDAD DE MERCEDES PROVINCIA DE BUENOS ...</td>\n",
              "      <td>2B</td>\n",
              "      <td>SI</td>\n",
              "      <td>COLECTIVO</td>\n",
              "      <td>MUNICIPAL</td>\n",
              "      <td>BUENOS AIRES</td>\n",
              "      <td>MERCEDES</td>\n",
              "      <td>11</td>\n",
              "      <td>NO</td>\n",
              "    </tr>\n",
              "    <tr>\n",
              "      <th>2</th>\n",
              "      <td>2023-01-01</td>\n",
              "      <td>EMPRESA BATAN S.A.</td>\n",
              "      <td>BS_AS_LINEA 715M</td>\n",
              "      <td>NO</td>\n",
              "      <td>COLECTIVO</td>\n",
              "      <td>MUNICIPAL</td>\n",
              "      <td>BUENOS AIRES</td>\n",
              "      <td>GENERAL PUEYRREDON</td>\n",
              "      <td>1707</td>\n",
              "      <td>NO</td>\n",
              "    </tr>\n",
              "    <tr>\n",
              "      <th>3</th>\n",
              "      <td>2023-01-01</td>\n",
              "      <td>COMPAÑIA  DE TRANSPORTE VECINAL S.A.</td>\n",
              "      <td>BS_AS_LINEA_326</td>\n",
              "      <td>SI</td>\n",
              "      <td>COLECTIVO</td>\n",
              "      <td>PROVINCIAL</td>\n",
              "      <td>BUENOS AIRES</td>\n",
              "      <td>SN</td>\n",
              "      <td>438</td>\n",
              "      <td>NO</td>\n",
              "    </tr>\n",
              "    <tr>\n",
              "      <th>4</th>\n",
              "      <td>2023-01-01</td>\n",
              "      <td>EMPRESA DE TRANSPORTE PERALTA RAMOS SACI</td>\n",
              "      <td>BS_AS_LINEA_512</td>\n",
              "      <td>NO</td>\n",
              "      <td>COLECTIVO</td>\n",
              "      <td>MUNICIPAL</td>\n",
              "      <td>BUENOS AIRES</td>\n",
              "      <td>GENERAL PUEYRREDON</td>\n",
              "      <td>1189</td>\n",
              "      <td>NO</td>\n",
              "    </tr>\n",
              "  </tbody>\n",
              "</table>\n",
              "</div>"
            ],
            "text/plain": [
              "  DIA_TRANSPORTE                                     NOMBRE_EMPRESA  \\\n",
              "0     2023-01-01  MUNICIPALIDAD DE MERCEDES PROVINCIA DE BUENOS ...   \n",
              "1     2023-01-01  MUNICIPALIDAD DE MERCEDES PROVINCIA DE BUENOS ...   \n",
              "2     2023-01-01                                 EMPRESA BATAN S.A.   \n",
              "3     2023-01-01               COMPAÑIA  DE TRANSPORTE VECINAL S.A.   \n",
              "4     2023-01-01           EMPRESA DE TRANSPORTE PERALTA RAMOS SACI   \n",
              "\n",
              "              LINEA AMBA TIPO_TRANSPORTE JURISDICCION     PROVINCIA  \\\n",
              "0                 1   SI       COLECTIVO    MUNICIPAL  BUENOS AIRES   \n",
              "1                2B   SI       COLECTIVO    MUNICIPAL  BUENOS AIRES   \n",
              "2  BS_AS_LINEA 715M   NO       COLECTIVO    MUNICIPAL  BUENOS AIRES   \n",
              "3   BS_AS_LINEA_326   SI       COLECTIVO   PROVINCIAL  BUENOS AIRES   \n",
              "4   BS_AS_LINEA_512   NO       COLECTIVO    MUNICIPAL  BUENOS AIRES   \n",
              "\n",
              "            MUNICIPIO  CANTIDAD DATO_PRELIMINAR  \n",
              "0            MERCEDES        61              NO  \n",
              "1            MERCEDES        11              NO  \n",
              "2  GENERAL PUEYRREDON      1707              NO  \n",
              "3                  SN       438              NO  \n",
              "4  GENERAL PUEYRREDON      1189              NO  "
            ]
          },
          "execution_count": 4,
          "metadata": {},
          "output_type": "execute_result"
        }
      ],
      "source": [
        "SUBE_2023_regresion.head()"
      ]
    },
    {
      "cell_type": "markdown",
      "id": "VTNDuYYgpcG8",
      "metadata": {
        "id": "VTNDuYYgpcG8"
      },
      "source": [
        "Completamos el código filtrando la base de datos con las 4 condiciones pedidas. Además, reemplazamos los espacios por guiones bajos en los nombres de las columnas para evitar eventuales problemas con formulaic."
      ]
    },
    {
      "cell_type": "code",
      "execution_count": null,
      "id": "nf6bIn8v45H0",
      "metadata": {
        "colab": {
          "base_uri": "https://localhost:8080/",
          "height": 287
        },
        "id": "nf6bIn8v45H0",
        "outputId": "d5593a0b-0292-4eea-f34e-6c6844936a20"
      },
      "outputs": [
        {
          "data": {
            "text/html": [
              "<div>\n",
              "<style scoped>\n",
              "    .dataframe tbody tr th:only-of-type {\n",
              "        vertical-align: middle;\n",
              "    }\n",
              "\n",
              "    .dataframe tbody tr th {\n",
              "        vertical-align: top;\n",
              "    }\n",
              "\n",
              "    .dataframe thead th {\n",
              "        text-align: right;\n",
              "    }\n",
              "</style>\n",
              "<table border=\"1\" class=\"dataframe\">\n",
              "  <thead>\n",
              "    <tr style=\"text-align: right;\">\n",
              "      <th></th>\n",
              "      <th>BS_ASLINEA_123</th>\n",
              "      <th>BSAS_LINEA_002</th>\n",
              "      <th>BSAS_LINEA_009</th>\n",
              "      <th>BSAS_LINEA_010</th>\n",
              "      <th>BSAS_LINEA_015</th>\n",
              "      <th>BSAS_LINEA_017</th>\n",
              "      <th>BSAS_LINEA_019</th>\n",
              "      <th>BSAS_LINEA_020</th>\n",
              "      <th>BSAS_LINEA_021</th>\n",
              "      <th>BSAS_LINEA_022</th>\n",
              "      <th>...</th>\n",
              "      <th>LINEA_5</th>\n",
              "      <th>LINEA_50</th>\n",
              "      <th>LINEA_6</th>\n",
              "      <th>LINEA_7</th>\n",
              "      <th>LINEA_76</th>\n",
              "      <th>LINEA_8</th>\n",
              "      <th>LINEA_099</th>\n",
              "      <th>LINEA_119_AMBA</th>\n",
              "      <th>LINEA_164_AMBA</th>\n",
              "      <th>LINEA_119</th>\n",
              "    </tr>\n",
              "    <tr>\n",
              "      <th>DIA_TRANSPORTE</th>\n",
              "      <th></th>\n",
              "      <th></th>\n",
              "      <th></th>\n",
              "      <th></th>\n",
              "      <th></th>\n",
              "      <th></th>\n",
              "      <th></th>\n",
              "      <th></th>\n",
              "      <th></th>\n",
              "      <th></th>\n",
              "      <th></th>\n",
              "      <th></th>\n",
              "      <th></th>\n",
              "      <th></th>\n",
              "      <th></th>\n",
              "      <th></th>\n",
              "      <th></th>\n",
              "      <th></th>\n",
              "      <th></th>\n",
              "      <th></th>\n",
              "      <th></th>\n",
              "    </tr>\n",
              "  </thead>\n",
              "  <tbody>\n",
              "    <tr>\n",
              "      <th>2023-01-01</th>\n",
              "      <td>1681</td>\n",
              "      <td>5670</td>\n",
              "      <td>5644</td>\n",
              "      <td>5177</td>\n",
              "      <td>9109</td>\n",
              "      <td>7013</td>\n",
              "      <td>1604</td>\n",
              "      <td>2617</td>\n",
              "      <td>11235</td>\n",
              "      <td>2202</td>\n",
              "      <td>...</td>\n",
              "      <td>4832.0</td>\n",
              "      <td>4839</td>\n",
              "      <td>2449</td>\n",
              "      <td>2184</td>\n",
              "      <td>3797</td>\n",
              "      <td>5317</td>\n",
              "      <td>1882</td>\n",
              "      <td>1573.0</td>\n",
              "      <td>3210</td>\n",
              "      <td>NaN</td>\n",
              "    </tr>\n",
              "    <tr>\n",
              "      <th>2023-01-02</th>\n",
              "      <td>9440</td>\n",
              "      <td>21759</td>\n",
              "      <td>23284</td>\n",
              "      <td>21176</td>\n",
              "      <td>45269</td>\n",
              "      <td>29962</td>\n",
              "      <td>13921</td>\n",
              "      <td>11934</td>\n",
              "      <td>55611</td>\n",
              "      <td>13823</td>\n",
              "      <td>...</td>\n",
              "      <td>20333.0</td>\n",
              "      <td>16221</td>\n",
              "      <td>10486</td>\n",
              "      <td>12774</td>\n",
              "      <td>17374</td>\n",
              "      <td>23250</td>\n",
              "      <td>10322</td>\n",
              "      <td>7345.0</td>\n",
              "      <td>19362</td>\n",
              "      <td>NaN</td>\n",
              "    </tr>\n",
              "    <tr>\n",
              "      <th>2023-01-04</th>\n",
              "      <td>10540</td>\n",
              "      <td>24755</td>\n",
              "      <td>25405</td>\n",
              "      <td>23806</td>\n",
              "      <td>52873</td>\n",
              "      <td>33659</td>\n",
              "      <td>16172</td>\n",
              "      <td>13366</td>\n",
              "      <td>61721</td>\n",
              "      <td>16206</td>\n",
              "      <td>...</td>\n",
              "      <td>23041.0</td>\n",
              "      <td>18448</td>\n",
              "      <td>12193</td>\n",
              "      <td>13949</td>\n",
              "      <td>19860</td>\n",
              "      <td>26294</td>\n",
              "      <td>11981</td>\n",
              "      <td>7925.0</td>\n",
              "      <td>21784</td>\n",
              "      <td>NaN</td>\n",
              "    </tr>\n",
              "    <tr>\n",
              "      <th>2023-01-05</th>\n",
              "      <td>10408</td>\n",
              "      <td>25772</td>\n",
              "      <td>26489</td>\n",
              "      <td>24688</td>\n",
              "      <td>53436</td>\n",
              "      <td>35182</td>\n",
              "      <td>16569</td>\n",
              "      <td>12929</td>\n",
              "      <td>62510</td>\n",
              "      <td>16863</td>\n",
              "      <td>...</td>\n",
              "      <td>23928.0</td>\n",
              "      <td>18481</td>\n",
              "      <td>12888</td>\n",
              "      <td>14668</td>\n",
              "      <td>21235</td>\n",
              "      <td>27216</td>\n",
              "      <td>11787</td>\n",
              "      <td>7597.0</td>\n",
              "      <td>22972</td>\n",
              "      <td>NaN</td>\n",
              "    </tr>\n",
              "    <tr>\n",
              "      <th>2023-01-06</th>\n",
              "      <td>10530</td>\n",
              "      <td>26021</td>\n",
              "      <td>26458</td>\n",
              "      <td>24167</td>\n",
              "      <td>53163</td>\n",
              "      <td>35212</td>\n",
              "      <td>16459</td>\n",
              "      <td>12955</td>\n",
              "      <td>63528</td>\n",
              "      <td>16846</td>\n",
              "      <td>...</td>\n",
              "      <td>24247.0</td>\n",
              "      <td>19300</td>\n",
              "      <td>12703</td>\n",
              "      <td>14199</td>\n",
              "      <td>23472</td>\n",
              "      <td>27073</td>\n",
              "      <td>11567</td>\n",
              "      <td>7811.0</td>\n",
              "      <td>23411</td>\n",
              "      <td>NaN</td>\n",
              "    </tr>\n",
              "  </tbody>\n",
              "</table>\n",
              "<p>5 rows × 136 columns</p>\n",
              "</div>"
            ],
            "text/plain": [
              "                BS_ASLINEA_123  BSAS_LINEA_002  BSAS_LINEA_009  \\\n",
              "DIA_TRANSPORTE                                                   \n",
              "2023-01-01                1681            5670            5644   \n",
              "2023-01-02                9440           21759           23284   \n",
              "2023-01-04               10540           24755           25405   \n",
              "2023-01-05               10408           25772           26489   \n",
              "2023-01-06               10530           26021           26458   \n",
              "\n",
              "                BSAS_LINEA_010  BSAS_LINEA_015  BSAS_LINEA_017  \\\n",
              "DIA_TRANSPORTE                                                   \n",
              "2023-01-01                5177            9109            7013   \n",
              "2023-01-02               21176           45269           29962   \n",
              "2023-01-04               23806           52873           33659   \n",
              "2023-01-05               24688           53436           35182   \n",
              "2023-01-06               24167           53163           35212   \n",
              "\n",
              "                BSAS_LINEA_019  BSAS_LINEA_020  BSAS_LINEA_021  \\\n",
              "DIA_TRANSPORTE                                                   \n",
              "2023-01-01                1604            2617           11235   \n",
              "2023-01-02               13921           11934           55611   \n",
              "2023-01-04               16172           13366           61721   \n",
              "2023-01-05               16569           12929           62510   \n",
              "2023-01-06               16459           12955           63528   \n",
              "\n",
              "                BSAS_LINEA_022  ...  LINEA_5  LINEA_50  LINEA_6  LINEA_7  \\\n",
              "DIA_TRANSPORTE                  ...                                        \n",
              "2023-01-01                2202  ...   4832.0      4839     2449     2184   \n",
              "2023-01-02               13823  ...  20333.0     16221    10486    12774   \n",
              "2023-01-04               16206  ...  23041.0     18448    12193    13949   \n",
              "2023-01-05               16863  ...  23928.0     18481    12888    14668   \n",
              "2023-01-06               16846  ...  24247.0     19300    12703    14199   \n",
              "\n",
              "                LINEA_76  LINEA_8  LINEA_099  LINEA_119_AMBA  LINEA_164_AMBA  \\\n",
              "DIA_TRANSPORTE                                                                 \n",
              "2023-01-01          3797     5317       1882          1573.0            3210   \n",
              "2023-01-02         17374    23250      10322          7345.0           19362   \n",
              "2023-01-04         19860    26294      11981          7925.0           21784   \n",
              "2023-01-05         21235    27216      11787          7597.0           22972   \n",
              "2023-01-06         23472    27073      11567          7811.0           23411   \n",
              "\n",
              "                LINEA_119  \n",
              "DIA_TRANSPORTE             \n",
              "2023-01-01            NaN  \n",
              "2023-01-02            NaN  \n",
              "2023-01-04            NaN  \n",
              "2023-01-05            NaN  \n",
              "2023-01-06            NaN  \n",
              "\n",
              "[5 rows x 136 columns]"
            ]
          },
          "metadata": {},
          "output_type": "display_data"
        }
      ],
      "source": [
        "condicion = ((SUBE_2023_regresion.AMBA == 'SI') & (SUBE_2023_regresion.TIPO_TRANSPORTE == 'COLECTIVO')) & ((SUBE_2023_regresion.JURISDICCION == 'NACIONAL') & (SUBE_2023_regresion.PROVINCIA == 'JN'))\n",
        "datos_ColectivoJN = SUBE_2023_regresion[condicion]\n",
        "\n",
        "cols = datos_ColectivoJN.LINEA.unique()  # Los nombres de las lineas de colectivo\n",
        "\n",
        "pasajeros_por_linea = pd.DataFrame()\n",
        "\n",
        "for col in cols:\n",
        "    datos_linea = datos_ColectivoJN[datos_ColectivoJN.LINEA == col][[\"DIA_TRANSPORTE\", \"CANTIDAD\"]]\n",
        "    datos_linea = datos_linea.set_index(\"DIA_TRANSPORTE\").rename(columns={\"CANTIDAD\": col})\n",
        "    pasajeros_por_linea = pd.concat([pasajeros_por_linea, datos_linea], axis=1)\n",
        "\n",
        "pasajeros_por_linea.columns = [col.replace(' ', '_') for col in pasajeros_por_linea.columns]\n",
        "display(pasajeros_por_linea.head())\n"
      ]
    },
    {
      "cell_type": "markdown",
      "id": "wqs54nFu_fYO",
      "metadata": {
        "id": "wqs54nFu_fYO"
      },
      "source": [
        "### b)"
      ]
    },
    {
      "cell_type": "markdown",
      "id": "YFzdmBrb_guL",
      "metadata": {
        "id": "YFzdmBrb_guL"
      },
      "source": [
        "Corroboramos que al hacer .dropna() en el eje correspondiente a las columnas (axis = 1) perdemos 12 columnas:"
      ]
    },
    {
      "cell_type": "code",
      "execution_count": null,
      "id": "TuON8QLd3IaS",
      "metadata": {
        "colab": {
          "base_uri": "https://localhost:8080/",
          "height": 287
        },
        "id": "TuON8QLd3IaS",
        "outputId": "f936eeda-48a2-4a1d-ad73-fd93014d167f"
      },
      "outputs": [
        {
          "data": {
            "text/html": [
              "<div>\n",
              "<style scoped>\n",
              "    .dataframe tbody tr th:only-of-type {\n",
              "        vertical-align: middle;\n",
              "    }\n",
              "\n",
              "    .dataframe tbody tr th {\n",
              "        vertical-align: top;\n",
              "    }\n",
              "\n",
              "    .dataframe thead th {\n",
              "        text-align: right;\n",
              "    }\n",
              "</style>\n",
              "<table border=\"1\" class=\"dataframe\">\n",
              "  <thead>\n",
              "    <tr style=\"text-align: right;\">\n",
              "      <th></th>\n",
              "      <th>BS_ASLINEA_123</th>\n",
              "      <th>BSAS_LINEA_002</th>\n",
              "      <th>BSAS_LINEA_009</th>\n",
              "      <th>BSAS_LINEA_010</th>\n",
              "      <th>BSAS_LINEA_015</th>\n",
              "      <th>BSAS_LINEA_017</th>\n",
              "      <th>BSAS_LINEA_019</th>\n",
              "      <th>BSAS_LINEA_020</th>\n",
              "      <th>BSAS_LINEA_021</th>\n",
              "      <th>BSAS_LINEA_022</th>\n",
              "      <th>...</th>\n",
              "      <th>LINEA_4</th>\n",
              "      <th>LINEA_42</th>\n",
              "      <th>LINEA_44</th>\n",
              "      <th>LINEA_50</th>\n",
              "      <th>LINEA_6</th>\n",
              "      <th>LINEA_7</th>\n",
              "      <th>LINEA_76</th>\n",
              "      <th>LINEA_8</th>\n",
              "      <th>LINEA_099</th>\n",
              "      <th>LINEA_164_AMBA</th>\n",
              "    </tr>\n",
              "    <tr>\n",
              "      <th>DIA_TRANSPORTE</th>\n",
              "      <th></th>\n",
              "      <th></th>\n",
              "      <th></th>\n",
              "      <th></th>\n",
              "      <th></th>\n",
              "      <th></th>\n",
              "      <th></th>\n",
              "      <th></th>\n",
              "      <th></th>\n",
              "      <th></th>\n",
              "      <th></th>\n",
              "      <th></th>\n",
              "      <th></th>\n",
              "      <th></th>\n",
              "      <th></th>\n",
              "      <th></th>\n",
              "      <th></th>\n",
              "      <th></th>\n",
              "      <th></th>\n",
              "      <th></th>\n",
              "      <th></th>\n",
              "    </tr>\n",
              "  </thead>\n",
              "  <tbody>\n",
              "    <tr>\n",
              "      <th>2023-01-01</th>\n",
              "      <td>1681</td>\n",
              "      <td>5670</td>\n",
              "      <td>5644</td>\n",
              "      <td>5177</td>\n",
              "      <td>9109</td>\n",
              "      <td>7013</td>\n",
              "      <td>1604</td>\n",
              "      <td>2617</td>\n",
              "      <td>11235</td>\n",
              "      <td>2202</td>\n",
              "      <td>...</td>\n",
              "      <td>2942</td>\n",
              "      <td>4029</td>\n",
              "      <td>4649</td>\n",
              "      <td>4839</td>\n",
              "      <td>2449</td>\n",
              "      <td>2184</td>\n",
              "      <td>3797</td>\n",
              "      <td>5317</td>\n",
              "      <td>1882</td>\n",
              "      <td>3210</td>\n",
              "    </tr>\n",
              "    <tr>\n",
              "      <th>2023-01-02</th>\n",
              "      <td>9440</td>\n",
              "      <td>21759</td>\n",
              "      <td>23284</td>\n",
              "      <td>21176</td>\n",
              "      <td>45269</td>\n",
              "      <td>29962</td>\n",
              "      <td>13921</td>\n",
              "      <td>11934</td>\n",
              "      <td>55611</td>\n",
              "      <td>13823</td>\n",
              "      <td>...</td>\n",
              "      <td>15329</td>\n",
              "      <td>19072</td>\n",
              "      <td>20387</td>\n",
              "      <td>16221</td>\n",
              "      <td>10486</td>\n",
              "      <td>12774</td>\n",
              "      <td>17374</td>\n",
              "      <td>23250</td>\n",
              "      <td>10322</td>\n",
              "      <td>19362</td>\n",
              "    </tr>\n",
              "    <tr>\n",
              "      <th>2023-01-04</th>\n",
              "      <td>10540</td>\n",
              "      <td>24755</td>\n",
              "      <td>25405</td>\n",
              "      <td>23806</td>\n",
              "      <td>52873</td>\n",
              "      <td>33659</td>\n",
              "      <td>16172</td>\n",
              "      <td>13366</td>\n",
              "      <td>61721</td>\n",
              "      <td>16206</td>\n",
              "      <td>...</td>\n",
              "      <td>17836</td>\n",
              "      <td>21609</td>\n",
              "      <td>23595</td>\n",
              "      <td>18448</td>\n",
              "      <td>12193</td>\n",
              "      <td>13949</td>\n",
              "      <td>19860</td>\n",
              "      <td>26294</td>\n",
              "      <td>11981</td>\n",
              "      <td>21784</td>\n",
              "    </tr>\n",
              "    <tr>\n",
              "      <th>2023-01-05</th>\n",
              "      <td>10408</td>\n",
              "      <td>25772</td>\n",
              "      <td>26489</td>\n",
              "      <td>24688</td>\n",
              "      <td>53436</td>\n",
              "      <td>35182</td>\n",
              "      <td>16569</td>\n",
              "      <td>12929</td>\n",
              "      <td>62510</td>\n",
              "      <td>16863</td>\n",
              "      <td>...</td>\n",
              "      <td>18044</td>\n",
              "      <td>21993</td>\n",
              "      <td>23687</td>\n",
              "      <td>18481</td>\n",
              "      <td>12888</td>\n",
              "      <td>14668</td>\n",
              "      <td>21235</td>\n",
              "      <td>27216</td>\n",
              "      <td>11787</td>\n",
              "      <td>22972</td>\n",
              "    </tr>\n",
              "    <tr>\n",
              "      <th>2023-01-06</th>\n",
              "      <td>10530</td>\n",
              "      <td>26021</td>\n",
              "      <td>26458</td>\n",
              "      <td>24167</td>\n",
              "      <td>53163</td>\n",
              "      <td>35212</td>\n",
              "      <td>16459</td>\n",
              "      <td>12955</td>\n",
              "      <td>63528</td>\n",
              "      <td>16846</td>\n",
              "      <td>...</td>\n",
              "      <td>18122</td>\n",
              "      <td>22421</td>\n",
              "      <td>23731</td>\n",
              "      <td>19300</td>\n",
              "      <td>12703</td>\n",
              "      <td>14199</td>\n",
              "      <td>23472</td>\n",
              "      <td>27073</td>\n",
              "      <td>11567</td>\n",
              "      <td>23411</td>\n",
              "    </tr>\n",
              "  </tbody>\n",
              "</table>\n",
              "<p>5 rows × 124 columns</p>\n",
              "</div>"
            ],
            "text/plain": [
              "                BS_ASLINEA_123  BSAS_LINEA_002  BSAS_LINEA_009  \\\n",
              "DIA_TRANSPORTE                                                   \n",
              "2023-01-01                1681            5670            5644   \n",
              "2023-01-02                9440           21759           23284   \n",
              "2023-01-04               10540           24755           25405   \n",
              "2023-01-05               10408           25772           26489   \n",
              "2023-01-06               10530           26021           26458   \n",
              "\n",
              "                BSAS_LINEA_010  BSAS_LINEA_015  BSAS_LINEA_017  \\\n",
              "DIA_TRANSPORTE                                                   \n",
              "2023-01-01                5177            9109            7013   \n",
              "2023-01-02               21176           45269           29962   \n",
              "2023-01-04               23806           52873           33659   \n",
              "2023-01-05               24688           53436           35182   \n",
              "2023-01-06               24167           53163           35212   \n",
              "\n",
              "                BSAS_LINEA_019  BSAS_LINEA_020  BSAS_LINEA_021  \\\n",
              "DIA_TRANSPORTE                                                   \n",
              "2023-01-01                1604            2617           11235   \n",
              "2023-01-02               13921           11934           55611   \n",
              "2023-01-04               16172           13366           61721   \n",
              "2023-01-05               16569           12929           62510   \n",
              "2023-01-06               16459           12955           63528   \n",
              "\n",
              "                BSAS_LINEA_022  ...  LINEA_4  LINEA_42  LINEA_44  LINEA_50  \\\n",
              "DIA_TRANSPORTE                  ...                                          \n",
              "2023-01-01                2202  ...     2942      4029      4649      4839   \n",
              "2023-01-02               13823  ...    15329     19072     20387     16221   \n",
              "2023-01-04               16206  ...    17836     21609     23595     18448   \n",
              "2023-01-05               16863  ...    18044     21993     23687     18481   \n",
              "2023-01-06               16846  ...    18122     22421     23731     19300   \n",
              "\n",
              "                LINEA_6  LINEA_7  LINEA_76  LINEA_8  LINEA_099  LINEA_164_AMBA  \n",
              "DIA_TRANSPORTE                                                                  \n",
              "2023-01-01         2449     2184      3797     5317       1882            3210  \n",
              "2023-01-02        10486    12774     17374    23250      10322           19362  \n",
              "2023-01-04        12193    13949     19860    26294      11981           21784  \n",
              "2023-01-05        12888    14668     21235    27216      11787           22972  \n",
              "2023-01-06        12703    14199     23472    27073      11567           23411  \n",
              "\n",
              "[5 rows x 124 columns]"
            ]
          },
          "metadata": {},
          "output_type": "display_data"
        }
      ],
      "source": [
        "pasajeros_por_linea = pasajeros_por_linea.dropna(axis = 1)\n",
        "display(pasajeros_por_linea.head())\n"
      ]
    },
    {
      "cell_type": "markdown",
      "id": "T3UGfDrE_hhz",
      "metadata": {
        "id": "T3UGfDrE_hhz"
      },
      "source": [
        "### c)"
      ]
    },
    {
      "cell_type": "markdown",
      "id": "Qd5JGm-f_ilS",
      "metadata": {
        "id": "Qd5JGm-f_ilS"
      },
      "source": [
        "Seleccionamos 3 sets de 5 columnas cada uno con los siguientes criterios, todos en base al dataframe pasajeros_por_linea:\n",
        "\n",
        "\n",
        "*   Set 1: son las 5 columnas que mayor correlación tengan con BSAS_LINEA_009. La correlación entre columnas se calcula según el coeficiente R de Pearson.\n",
        "  \n",
        "*   Set 2: son las 5 columnas que tienen menor desviación estándar en su diferencia respecto de BSAS_LINEA_009. Se calcula un vector de diferencias (que pueden ser negativas) de cada columna contra BSAS_LINEA_009, y se eligen las 5 que tengan menor desviación en este vector (lo que se puede interpretar como que son las 5 que mejor siguen la \"forma\" de la curva BSAS_LINEA_009, aunque pueda haber una constante entre ellas y BSAS_LINEA_009)\n",
        "\n",
        "*   Set 3: son las 5 columnas con menor promedio en su vector de distancias (igual que el vector de diferencias, pero en valor absoluto) respecto de BSAS_LINEA_009. Estas representan las 5 columnas que más cerca están de BSAS_LINEA_009 en todo momento.\n",
        "\n",
        "\n"
      ]
    },
    {
      "cell_type": "code",
      "execution_count": null,
      "id": "l2rBPkBv1Of5",
      "metadata": {
        "colab": {
          "base_uri": "https://localhost:8080/",
          "height": 573
        },
        "id": "l2rBPkBv1Of5",
        "outputId": "111d7c15-81d8-4f44-9798-96d17dc08c4e"
      },
      "outputs": [
        {
          "name": "stdout",
          "output_type": "stream",
          "text": [
            "Vectores de distancias:\n"
          ]
        },
        {
          "data": {
            "text/html": [
              "<div>\n",
              "<style scoped>\n",
              "    .dataframe tbody tr th:only-of-type {\n",
              "        vertical-align: middle;\n",
              "    }\n",
              "\n",
              "    .dataframe tbody tr th {\n",
              "        vertical-align: top;\n",
              "    }\n",
              "\n",
              "    .dataframe thead th {\n",
              "        text-align: right;\n",
              "    }\n",
              "</style>\n",
              "<table border=\"1\" class=\"dataframe\">\n",
              "  <thead>\n",
              "    <tr style=\"text-align: right;\">\n",
              "      <th></th>\n",
              "      <th>BS_ASLINEA_123</th>\n",
              "      <th>BSAS_LINEA_002</th>\n",
              "      <th>BSAS_LINEA_010</th>\n",
              "      <th>BSAS_LINEA_015</th>\n",
              "      <th>BSAS_LINEA_017</th>\n",
              "      <th>BSAS_LINEA_019</th>\n",
              "      <th>BSAS_LINEA_020</th>\n",
              "      <th>BSAS_LINEA_021</th>\n",
              "      <th>BSAS_LINEA_022</th>\n",
              "      <th>BSAS_LINEA_024</th>\n",
              "      <th>...</th>\n",
              "      <th>LINEA_4</th>\n",
              "      <th>LINEA_42</th>\n",
              "      <th>LINEA_44</th>\n",
              "      <th>LINEA_50</th>\n",
              "      <th>LINEA_6</th>\n",
              "      <th>LINEA_7</th>\n",
              "      <th>LINEA_76</th>\n",
              "      <th>LINEA_8</th>\n",
              "      <th>LINEA_099</th>\n",
              "      <th>LINEA_164_AMBA</th>\n",
              "    </tr>\n",
              "    <tr>\n",
              "      <th>DIA_TRANSPORTE</th>\n",
              "      <th></th>\n",
              "      <th></th>\n",
              "      <th></th>\n",
              "      <th></th>\n",
              "      <th></th>\n",
              "      <th></th>\n",
              "      <th></th>\n",
              "      <th></th>\n",
              "      <th></th>\n",
              "      <th></th>\n",
              "      <th></th>\n",
              "      <th></th>\n",
              "      <th></th>\n",
              "      <th></th>\n",
              "      <th></th>\n",
              "      <th></th>\n",
              "      <th></th>\n",
              "      <th></th>\n",
              "      <th></th>\n",
              "      <th></th>\n",
              "      <th></th>\n",
              "    </tr>\n",
              "  </thead>\n",
              "  <tbody>\n",
              "    <tr>\n",
              "      <th>2023-01-01</th>\n",
              "      <td>3963</td>\n",
              "      <td>26</td>\n",
              "      <td>467</td>\n",
              "      <td>3465</td>\n",
              "      <td>1369</td>\n",
              "      <td>4040</td>\n",
              "      <td>3027</td>\n",
              "      <td>5591</td>\n",
              "      <td>3442</td>\n",
              "      <td>1955</td>\n",
              "      <td>...</td>\n",
              "      <td>2702</td>\n",
              "      <td>1615</td>\n",
              "      <td>995</td>\n",
              "      <td>805</td>\n",
              "      <td>3195</td>\n",
              "      <td>3460</td>\n",
              "      <td>1847</td>\n",
              "      <td>327</td>\n",
              "      <td>3762</td>\n",
              "      <td>2434</td>\n",
              "    </tr>\n",
              "    <tr>\n",
              "      <th>2023-01-02</th>\n",
              "      <td>13844</td>\n",
              "      <td>1525</td>\n",
              "      <td>2108</td>\n",
              "      <td>21985</td>\n",
              "      <td>6678</td>\n",
              "      <td>9363</td>\n",
              "      <td>11350</td>\n",
              "      <td>32327</td>\n",
              "      <td>9461</td>\n",
              "      <td>7113</td>\n",
              "      <td>...</td>\n",
              "      <td>7955</td>\n",
              "      <td>4212</td>\n",
              "      <td>2897</td>\n",
              "      <td>7063</td>\n",
              "      <td>12798</td>\n",
              "      <td>10510</td>\n",
              "      <td>5910</td>\n",
              "      <td>34</td>\n",
              "      <td>12962</td>\n",
              "      <td>3922</td>\n",
              "    </tr>\n",
              "    <tr>\n",
              "      <th>2023-01-04</th>\n",
              "      <td>14865</td>\n",
              "      <td>650</td>\n",
              "      <td>1599</td>\n",
              "      <td>27468</td>\n",
              "      <td>8254</td>\n",
              "      <td>9233</td>\n",
              "      <td>12039</td>\n",
              "      <td>36316</td>\n",
              "      <td>9199</td>\n",
              "      <td>8162</td>\n",
              "      <td>...</td>\n",
              "      <td>7569</td>\n",
              "      <td>3796</td>\n",
              "      <td>1810</td>\n",
              "      <td>6957</td>\n",
              "      <td>13212</td>\n",
              "      <td>11456</td>\n",
              "      <td>5545</td>\n",
              "      <td>889</td>\n",
              "      <td>13424</td>\n",
              "      <td>3621</td>\n",
              "    </tr>\n",
              "    <tr>\n",
              "      <th>2023-01-05</th>\n",
              "      <td>16081</td>\n",
              "      <td>717</td>\n",
              "      <td>1801</td>\n",
              "      <td>26947</td>\n",
              "      <td>8693</td>\n",
              "      <td>9920</td>\n",
              "      <td>13560</td>\n",
              "      <td>36021</td>\n",
              "      <td>9626</td>\n",
              "      <td>7863</td>\n",
              "      <td>...</td>\n",
              "      <td>8445</td>\n",
              "      <td>4496</td>\n",
              "      <td>2802</td>\n",
              "      <td>8008</td>\n",
              "      <td>13601</td>\n",
              "      <td>11821</td>\n",
              "      <td>5254</td>\n",
              "      <td>727</td>\n",
              "      <td>14702</td>\n",
              "      <td>3517</td>\n",
              "    </tr>\n",
              "    <tr>\n",
              "      <th>2023-01-06</th>\n",
              "      <td>15928</td>\n",
              "      <td>437</td>\n",
              "      <td>2291</td>\n",
              "      <td>26705</td>\n",
              "      <td>8754</td>\n",
              "      <td>9999</td>\n",
              "      <td>13503</td>\n",
              "      <td>37070</td>\n",
              "      <td>9612</td>\n",
              "      <td>8416</td>\n",
              "      <td>...</td>\n",
              "      <td>8336</td>\n",
              "      <td>4037</td>\n",
              "      <td>2727</td>\n",
              "      <td>7158</td>\n",
              "      <td>13755</td>\n",
              "      <td>12259</td>\n",
              "      <td>2986</td>\n",
              "      <td>615</td>\n",
              "      <td>14891</td>\n",
              "      <td>3047</td>\n",
              "    </tr>\n",
              "  </tbody>\n",
              "</table>\n",
              "<p>5 rows × 123 columns</p>\n",
              "</div>"
            ],
            "text/plain": [
              "                BS_ASLINEA_123  BSAS_LINEA_002  BSAS_LINEA_010  \\\n",
              "DIA_TRANSPORTE                                                   \n",
              "2023-01-01                3963              26             467   \n",
              "2023-01-02               13844            1525            2108   \n",
              "2023-01-04               14865             650            1599   \n",
              "2023-01-05               16081             717            1801   \n",
              "2023-01-06               15928             437            2291   \n",
              "\n",
              "                BSAS_LINEA_015  BSAS_LINEA_017  BSAS_LINEA_019  \\\n",
              "DIA_TRANSPORTE                                                   \n",
              "2023-01-01                3465            1369            4040   \n",
              "2023-01-02               21985            6678            9363   \n",
              "2023-01-04               27468            8254            9233   \n",
              "2023-01-05               26947            8693            9920   \n",
              "2023-01-06               26705            8754            9999   \n",
              "\n",
              "                BSAS_LINEA_020  BSAS_LINEA_021  BSAS_LINEA_022  \\\n",
              "DIA_TRANSPORTE                                                   \n",
              "2023-01-01                3027            5591            3442   \n",
              "2023-01-02               11350           32327            9461   \n",
              "2023-01-04               12039           36316            9199   \n",
              "2023-01-05               13560           36021            9626   \n",
              "2023-01-06               13503           37070            9612   \n",
              "\n",
              "                BSAS_LINEA_024  ...  LINEA_4  LINEA_42  LINEA_44  LINEA_50  \\\n",
              "DIA_TRANSPORTE                  ...                                          \n",
              "2023-01-01                1955  ...     2702      1615       995       805   \n",
              "2023-01-02                7113  ...     7955      4212      2897      7063   \n",
              "2023-01-04                8162  ...     7569      3796      1810      6957   \n",
              "2023-01-05                7863  ...     8445      4496      2802      8008   \n",
              "2023-01-06                8416  ...     8336      4037      2727      7158   \n",
              "\n",
              "                LINEA_6  LINEA_7  LINEA_76  LINEA_8  LINEA_099  LINEA_164_AMBA  \n",
              "DIA_TRANSPORTE                                                                  \n",
              "2023-01-01         3195     3460      1847      327       3762            2434  \n",
              "2023-01-02        12798    10510      5910       34      12962            3922  \n",
              "2023-01-04        13212    11456      5545      889      13424            3621  \n",
              "2023-01-05        13601    11821      5254      727      14702            3517  \n",
              "2023-01-06        13755    12259      2986      615      14891            3047  \n",
              "\n",
              "[5 rows x 123 columns]"
            ]
          },
          "metadata": {},
          "output_type": "display_data"
        },
        {
          "name": "stdout",
          "output_type": "stream",
          "text": [
            "Vectores de diferencias:\n"
          ]
        },
        {
          "data": {
            "text/html": [
              "<div>\n",
              "<style scoped>\n",
              "    .dataframe tbody tr th:only-of-type {\n",
              "        vertical-align: middle;\n",
              "    }\n",
              "\n",
              "    .dataframe tbody tr th {\n",
              "        vertical-align: top;\n",
              "    }\n",
              "\n",
              "    .dataframe thead th {\n",
              "        text-align: right;\n",
              "    }\n",
              "</style>\n",
              "<table border=\"1\" class=\"dataframe\">\n",
              "  <thead>\n",
              "    <tr style=\"text-align: right;\">\n",
              "      <th></th>\n",
              "      <th>BS_ASLINEA_123</th>\n",
              "      <th>BSAS_LINEA_002</th>\n",
              "      <th>BSAS_LINEA_010</th>\n",
              "      <th>BSAS_LINEA_015</th>\n",
              "      <th>BSAS_LINEA_017</th>\n",
              "      <th>BSAS_LINEA_019</th>\n",
              "      <th>BSAS_LINEA_020</th>\n",
              "      <th>BSAS_LINEA_021</th>\n",
              "      <th>BSAS_LINEA_022</th>\n",
              "      <th>BSAS_LINEA_024</th>\n",
              "      <th>...</th>\n",
              "      <th>LINEA_4</th>\n",
              "      <th>LINEA_42</th>\n",
              "      <th>LINEA_44</th>\n",
              "      <th>LINEA_50</th>\n",
              "      <th>LINEA_6</th>\n",
              "      <th>LINEA_7</th>\n",
              "      <th>LINEA_76</th>\n",
              "      <th>LINEA_8</th>\n",
              "      <th>LINEA_099</th>\n",
              "      <th>LINEA_164_AMBA</th>\n",
              "    </tr>\n",
              "    <tr>\n",
              "      <th>DIA_TRANSPORTE</th>\n",
              "      <th></th>\n",
              "      <th></th>\n",
              "      <th></th>\n",
              "      <th></th>\n",
              "      <th></th>\n",
              "      <th></th>\n",
              "      <th></th>\n",
              "      <th></th>\n",
              "      <th></th>\n",
              "      <th></th>\n",
              "      <th></th>\n",
              "      <th></th>\n",
              "      <th></th>\n",
              "      <th></th>\n",
              "      <th></th>\n",
              "      <th></th>\n",
              "      <th></th>\n",
              "      <th></th>\n",
              "      <th></th>\n",
              "      <th></th>\n",
              "      <th></th>\n",
              "    </tr>\n",
              "  </thead>\n",
              "  <tbody>\n",
              "    <tr>\n",
              "      <th>2023-01-01</th>\n",
              "      <td>-3963</td>\n",
              "      <td>26</td>\n",
              "      <td>-467</td>\n",
              "      <td>3465</td>\n",
              "      <td>1369</td>\n",
              "      <td>-4040</td>\n",
              "      <td>-3027</td>\n",
              "      <td>5591</td>\n",
              "      <td>-3442</td>\n",
              "      <td>1955</td>\n",
              "      <td>...</td>\n",
              "      <td>-2702</td>\n",
              "      <td>-1615</td>\n",
              "      <td>-995</td>\n",
              "      <td>-805</td>\n",
              "      <td>-3195</td>\n",
              "      <td>-3460</td>\n",
              "      <td>-1847</td>\n",
              "      <td>-327</td>\n",
              "      <td>-3762</td>\n",
              "      <td>-2434</td>\n",
              "    </tr>\n",
              "    <tr>\n",
              "      <th>2023-01-02</th>\n",
              "      <td>-13844</td>\n",
              "      <td>-1525</td>\n",
              "      <td>-2108</td>\n",
              "      <td>21985</td>\n",
              "      <td>6678</td>\n",
              "      <td>-9363</td>\n",
              "      <td>-11350</td>\n",
              "      <td>32327</td>\n",
              "      <td>-9461</td>\n",
              "      <td>7113</td>\n",
              "      <td>...</td>\n",
              "      <td>-7955</td>\n",
              "      <td>-4212</td>\n",
              "      <td>-2897</td>\n",
              "      <td>-7063</td>\n",
              "      <td>-12798</td>\n",
              "      <td>-10510</td>\n",
              "      <td>-5910</td>\n",
              "      <td>-34</td>\n",
              "      <td>-12962</td>\n",
              "      <td>-3922</td>\n",
              "    </tr>\n",
              "    <tr>\n",
              "      <th>2023-01-04</th>\n",
              "      <td>-14865</td>\n",
              "      <td>-650</td>\n",
              "      <td>-1599</td>\n",
              "      <td>27468</td>\n",
              "      <td>8254</td>\n",
              "      <td>-9233</td>\n",
              "      <td>-12039</td>\n",
              "      <td>36316</td>\n",
              "      <td>-9199</td>\n",
              "      <td>8162</td>\n",
              "      <td>...</td>\n",
              "      <td>-7569</td>\n",
              "      <td>-3796</td>\n",
              "      <td>-1810</td>\n",
              "      <td>-6957</td>\n",
              "      <td>-13212</td>\n",
              "      <td>-11456</td>\n",
              "      <td>-5545</td>\n",
              "      <td>889</td>\n",
              "      <td>-13424</td>\n",
              "      <td>-3621</td>\n",
              "    </tr>\n",
              "    <tr>\n",
              "      <th>2023-01-05</th>\n",
              "      <td>-16081</td>\n",
              "      <td>-717</td>\n",
              "      <td>-1801</td>\n",
              "      <td>26947</td>\n",
              "      <td>8693</td>\n",
              "      <td>-9920</td>\n",
              "      <td>-13560</td>\n",
              "      <td>36021</td>\n",
              "      <td>-9626</td>\n",
              "      <td>7863</td>\n",
              "      <td>...</td>\n",
              "      <td>-8445</td>\n",
              "      <td>-4496</td>\n",
              "      <td>-2802</td>\n",
              "      <td>-8008</td>\n",
              "      <td>-13601</td>\n",
              "      <td>-11821</td>\n",
              "      <td>-5254</td>\n",
              "      <td>727</td>\n",
              "      <td>-14702</td>\n",
              "      <td>-3517</td>\n",
              "    </tr>\n",
              "    <tr>\n",
              "      <th>2023-01-06</th>\n",
              "      <td>-15928</td>\n",
              "      <td>-437</td>\n",
              "      <td>-2291</td>\n",
              "      <td>26705</td>\n",
              "      <td>8754</td>\n",
              "      <td>-9999</td>\n",
              "      <td>-13503</td>\n",
              "      <td>37070</td>\n",
              "      <td>-9612</td>\n",
              "      <td>8416</td>\n",
              "      <td>...</td>\n",
              "      <td>-8336</td>\n",
              "      <td>-4037</td>\n",
              "      <td>-2727</td>\n",
              "      <td>-7158</td>\n",
              "      <td>-13755</td>\n",
              "      <td>-12259</td>\n",
              "      <td>-2986</td>\n",
              "      <td>615</td>\n",
              "      <td>-14891</td>\n",
              "      <td>-3047</td>\n",
              "    </tr>\n",
              "  </tbody>\n",
              "</table>\n",
              "<p>5 rows × 123 columns</p>\n",
              "</div>"
            ],
            "text/plain": [
              "                BS_ASLINEA_123  BSAS_LINEA_002  BSAS_LINEA_010  \\\n",
              "DIA_TRANSPORTE                                                   \n",
              "2023-01-01               -3963              26            -467   \n",
              "2023-01-02              -13844           -1525           -2108   \n",
              "2023-01-04              -14865            -650           -1599   \n",
              "2023-01-05              -16081            -717           -1801   \n",
              "2023-01-06              -15928            -437           -2291   \n",
              "\n",
              "                BSAS_LINEA_015  BSAS_LINEA_017  BSAS_LINEA_019  \\\n",
              "DIA_TRANSPORTE                                                   \n",
              "2023-01-01                3465            1369           -4040   \n",
              "2023-01-02               21985            6678           -9363   \n",
              "2023-01-04               27468            8254           -9233   \n",
              "2023-01-05               26947            8693           -9920   \n",
              "2023-01-06               26705            8754           -9999   \n",
              "\n",
              "                BSAS_LINEA_020  BSAS_LINEA_021  BSAS_LINEA_022  \\\n",
              "DIA_TRANSPORTE                                                   \n",
              "2023-01-01               -3027            5591           -3442   \n",
              "2023-01-02              -11350           32327           -9461   \n",
              "2023-01-04              -12039           36316           -9199   \n",
              "2023-01-05              -13560           36021           -9626   \n",
              "2023-01-06              -13503           37070           -9612   \n",
              "\n",
              "                BSAS_LINEA_024  ...  LINEA_4  LINEA_42  LINEA_44  LINEA_50  \\\n",
              "DIA_TRANSPORTE                  ...                                          \n",
              "2023-01-01                1955  ...    -2702     -1615      -995      -805   \n",
              "2023-01-02                7113  ...    -7955     -4212     -2897     -7063   \n",
              "2023-01-04                8162  ...    -7569     -3796     -1810     -6957   \n",
              "2023-01-05                7863  ...    -8445     -4496     -2802     -8008   \n",
              "2023-01-06                8416  ...    -8336     -4037     -2727     -7158   \n",
              "\n",
              "                LINEA_6  LINEA_7  LINEA_76  LINEA_8  LINEA_099  LINEA_164_AMBA  \n",
              "DIA_TRANSPORTE                                                                  \n",
              "2023-01-01        -3195    -3460     -1847     -327      -3762           -2434  \n",
              "2023-01-02       -12798   -10510     -5910      -34     -12962           -3922  \n",
              "2023-01-04       -13212   -11456     -5545      889     -13424           -3621  \n",
              "2023-01-05       -13601   -11821     -5254      727     -14702           -3517  \n",
              "2023-01-06       -13755   -12259     -2986      615     -14891           -3047  \n",
              "\n",
              "[5 rows x 123 columns]"
            ]
          },
          "metadata": {},
          "output_type": "display_data"
        }
      ],
      "source": [
        "distancias = pasajeros_por_linea.copy().drop(columns = 'BSAS_LINEA_009')\n",
        "diferencias = distancias.copy()\n",
        "\n",
        "for column in pasajeros_por_linea.columns:\n",
        "    if column != 'BSAS_LINEA_009':\n",
        "        diferencias[column] = pasajeros_por_linea[column] - pasajeros_por_linea['BSAS_LINEA_009']\n",
        "        distancias[column] = abs(diferencias[column])\n",
        "\n",
        "print('Vectores de distancias:')\n",
        "display(distancias.head())\n",
        "print('Vectores de diferencias:')\n",
        "display(diferencias.head())"
      ]
    },
    {
      "cell_type": "code",
      "execution_count": null,
      "id": "eBN2_uMd_PB2",
      "metadata": {
        "id": "eBN2_uMd_PB2"
      },
      "outputs": [],
      "source": [
        "from scipy.stats import pearsonr\n",
        "\n",
        "correlaciones = pd.Series(index=distancias.columns)\n",
        "promedios = correlaciones.copy()\n",
        "desviaciones = correlaciones.copy()\n",
        "\n",
        "for linea in distancias.columns:\n",
        "  correlaciones[linea] =  abs(pearsonr(pasajeros_por_linea['BSAS_LINEA_009'], pasajeros_por_linea[linea])[0])\n",
        "  promedios[linea] = distancias[linea].mean()\n",
        "  desviaciones[linea] = diferencias[linea].std()"
      ]
    },
    {
      "cell_type": "markdown",
      "id": "11uGM9R3szzj",
      "metadata": {
        "id": "11uGM9R3szzj"
      },
      "source": [
        "Finalmente los 3 sets seleccionados quedan así:"
      ]
    },
    {
      "cell_type": "code",
      "execution_count": null,
      "id": "3jVdVxcnq3C6",
      "metadata": {
        "colab": {
          "base_uri": "https://localhost:8080/"
        },
        "id": "3jVdVxcnq3C6",
        "outputId": "131f1b3d-0653-410a-df8f-3740b9857ca7"
      },
      "outputs": [
        {
          "name": "stdout",
          "output_type": "stream",
          "text": [
            "['LINEA_101', 'BSAS_LINEA_146', 'LINEA_7', 'BSAS_LINEA_024', 'LINEA_107']\n",
            "['BSAS_LINEA_146', 'BSAS_LINEA_100', 'LINEA_107', 'BSAS_LINEA_117', 'BSAS_LINEA_188']\n",
            "['BSAS_LINEA_146', 'BSAS_LINEA_169', 'BSAS_LINEA_078', 'BSAS_LINEA_045', 'LINEA_164_AMBA']\n"
          ]
        }
      ],
      "source": [
        "n = 5\n",
        "set_1 = list(correlaciones.nlargest(n).index)\n",
        "set_2 = list(desviaciones.nsmallest(n).index)\n",
        "set_3 = list(promedios.nsmallest(n).index)\n",
        "\n",
        "print(set_1, set_2, set_3, sep = '\\n')"
      ]
    },
    {
      "cell_type": "markdown",
      "id": "PkATIX_Ns-Pm",
      "metadata": {
        "id": "PkATIX_Ns-Pm"
      },
      "source": [
        "Para cada set de datos se proponen las siguientes formulas:\n",
        "\n",
        "*    Formula 1: modelo lineal respecto de las columnas del Set 1, sin interacciones entre ellas. No hay ordenada al origen para simplificar el modelo.\n",
        "*    Formula 2: igual que la Formula 1, pero con las columnas del Set 2 y esta vez con ordenada al origen (ya que estas columnas solo siguen la forma de la curva de BSAS_LINEA_009, y bien podrían necesitar una constante para acercarse a ella).\n",
        "*    Formula 3: todas las interacciones posibles entre las columnas del Set 3."
      ]
    },
    {
      "cell_type": "code",
      "execution_count": null,
      "id": "t-tcCOmlGweV",
      "metadata": {
        "id": "t-tcCOmlGweV"
      },
      "outputs": [],
      "source": [
        "formula_1 = '+'.join(set_1) + '-1'\n",
        "formula_2 = '+'.join(set_2)\n",
        "formula_3 = '*'.join(set_3)\n",
        "\n",
        "formulas = [formula_1, formula_2, formula_3]"
      ]
    },
    {
      "cell_type": "markdown",
      "id": "C_yxyFm9_jRL",
      "metadata": {
        "id": "C_yxyFm9_jRL"
      },
      "source": [
        "### d)"
      ]
    },
    {
      "cell_type": "markdown",
      "id": "-e0v4n0b_ken",
      "metadata": {
        "id": "-e0v4n0b_ken"
      },
      "source": [
        "No se usó regresión Ridge para ningún modelo."
      ]
    },
    {
      "cell_type": "markdown",
      "id": "_7q0Pdwa_lai",
      "metadata": {
        "id": "_7q0Pdwa_lai"
      },
      "source": [
        "### e)"
      ]
    },
    {
      "cell_type": "markdown",
      "id": "CshH-01z_mmM",
      "metadata": {
        "id": "CshH-01z_mmM"
      },
      "source": [
        "Primeramente, se separó a los datos de pasajeros_por_linea en 2 dataframes: un 20% aleatorio se reservó para un testeo final en pasajeros_por_linea_test y el 80% restante se usó para entrenar y validar en pasajeros_por_linea_no_test.\n",
        "\n",
        "\n",
        "\n",
        "De los datos de no_test, se armaron 11 (número elegido arbitrariamente) pliegos aleatorios. En cada pliego, se calculó el desempeño de cada modelo según el parámetro de bondad R^2.\n",
        "\n",
        "Luego, se tomaron en consideración dos medidas:\n",
        "por un lado, cuál fue el modelo con mejor desempeño en cada pliego; por otro, el R^2 promedio (a lo largo de todos los pliegos) de cada modelo."
      ]
    },
    {
      "cell_type": "code",
      "execution_count": null,
      "id": "4-o1rp6pe3pE",
      "metadata": {
        "colab": {
          "base_uri": "https://localhost:8080/"
        },
        "id": "4-o1rp6pe3pE",
        "outputId": "85d67e0c-d6fc-429f-b290-f45100711055"
      },
      "outputs": [
        {
          "name": "stdout",
          "output_type": "stream",
          "text": [
            "R2 promedio de cada modelo:  [0.9491399046116975, 0.9451314906984666, 0.28936927875466734]\n",
            "Modelo ganador de cada pliego:  [1, 1, 2, 2, 3, 3, 3, 1, 3, 2, 2]\n",
            "Modelo que ganó más veces:  2\n"
          ]
        }
      ],
      "source": [
        "from scipy import stats\n",
        "\n",
        "\n",
        "pasajeros_por_linea_no_test, pasajeros_por_linea_test  = train_test_split(pasajeros_por_linea, test_size=0.2, random_state=76)\n",
        "\n",
        "cv = KFold(n_splits=11, random_state=42, shuffle=True)\n",
        "pliegos = cv.split(pasajeros_por_linea_no_test)\n",
        "\n",
        "modelos_mejores_rcm = []\n",
        "\n",
        "rcms = [[], [], []]\n",
        "\n",
        "for train_indexes, valid_indexes in pliegos:\n",
        "  mejor_rcm = np.infty\n",
        "  ganador = None\n",
        "  for i, formula in enumerate( formulas):\n",
        "    y, X = (\n",
        "        Formula('BSAS_LINEA_009 ~ ' + formula)\n",
        "        .get_model_matrix(pasajeros_por_linea_no_test)\n",
        "    )\n",
        "\n",
        "    X_train, X_valid, y_train, y_valid = X.iloc[train_indexes], X.iloc[valid_indexes], y.iloc[train_indexes], y.iloc[valid_indexes]\n",
        "\n",
        "\n",
        "    modelo = LinearRegression(fit_intercept = False)\n",
        "    modelo.fit(X_train, y_train)\n",
        "\n",
        "    y_pred = modelo.predict(X_valid)\n",
        "\n",
        "    r2 = r2_score(y_valid, y_pred)\n",
        "    rcms[i].append(r2)\n",
        "\n",
        "    if r2 < mejor_rcm:\n",
        "      mejor_rcm = r2\n",
        "      ganador = i+1\n",
        "\n",
        "  modelos_mejores_rcm.append(ganador)\n",
        "\n",
        "rcms_promedios = [np.mean(r) for r in rcms]\n",
        "print('R2 promedio de cada modelo: ', rcms_promedios)\n",
        "\n",
        "print('Modelo ganador de cada pliego: ', modelos_mejores_rcm)\n",
        "print('Modelo que ganó más veces: ', stats.mode(modelos_mejores_rcm)[0])"
      ]
    },
    {
      "cell_type": "markdown",
      "id": "hfhMOeB6vxqf",
      "metadata": {
        "id": "hfhMOeB6vxqf"
      },
      "source": [
        "Se ve que la Fórmula 1 tuvo en promedio un mejor rendimiento que las otras, pero al mirar cada pliego individualmente, en total la Fórmula 2 ganó más veces. Ambos promedios son similares, y la Fórmula 2 solo tuvo una victoria extra por encima de la Fórmula 1. En principio, según el criterio preferido, podría elegirse cualquiera de los dos como el ganador.\n",
        "\n",
        "En este caso, puesto que el promedio es un poco más sensible a outliers, se tomó a la Fórmula 2 como la ganadora.\n",
        "\n",
        "La Fórmula 3 queda totalmente descartada. Si bien tuvo la misma cantidad de victorias que la Fórmula 1, su promedio es bajísimo. Esto quiere decir que hubo al menos un pliego donde su rendimiento fue tal vez incluso peor que un modelo constante."
      ]
    },
    {
      "cell_type": "markdown",
      "id": "TWieRsKSxO73",
      "metadata": {
        "id": "TWieRsKSxO73"
      },
      "source": [
        "Al entrenar la Fórmula 2 con todos los datos de pasajeros_por_linea_no_test, se ve que tiene un buen rendimiento con el 20% de los datos reservados para testeo, con un R^2 de 0,961."
      ]
    },
    {
      "cell_type": "code",
      "execution_count": null,
      "id": "HdQvhA26_6DP",
      "metadata": {
        "colab": {
          "base_uri": "https://localhost:8080/"
        },
        "id": "HdQvhA26_6DP",
        "outputId": "184a00b5-20cd-4481-e9aa-df3d96613d3e"
      },
      "outputs": [
        {
          "name": "stdout",
          "output_type": "stream",
          "text": [
            "0.9609590506842676\n"
          ]
        }
      ],
      "source": [
        "formula = 'BSAS_LINEA_009 ~ ' + formula_2\n",
        "\n",
        "y_no_test, X_no_test = (\n",
        "    Formula(formula)\n",
        "    .get_model_matrix(pasajeros_por_linea_no_test)\n",
        ")\n",
        "\n",
        "\n",
        "modelo_no_test = LinearRegression(fit_intercept = False)\n",
        "modelo_no_test.fit(X_no_test, y_no_test)\n",
        "\n",
        "y_test, X_test = (\n",
        "    Formula(formula)\n",
        "    .get_model_matrix(pasajeros_por_linea_test)\n",
        ")\n",
        "\n",
        "y_pred = modelo_no_test.predict(X_test)\n",
        "\n",
        "r2 = r2_score(y_test, y_pred)\n",
        "print(r2)"
      ]
    },
    {
      "cell_type": "markdown",
      "id": "RAMKK9xYxp4L",
      "metadata": {
        "id": "RAMKK9xYxp4L"
      },
      "source": [
        "(En este caso en particular, si se hubiera elegido la Fórmula 1, se habría tenido un R^2 aun mejor en los datos de testeo, lo cual se puede comprobar fácilmente editando el primer renglon de la celda de código de arriba. Como sea, esto sería fácilmente explicable por fluctuaciones estadísticas, y la idea no es tomar decisiones luego de haber mirado los datos de testeo, por lo que la Fórmula 2 sigue siendo la elegida)."
      ]
    },
    {
      "cell_type": "markdown",
      "id": "v078RUAX_nIK",
      "metadata": {
        "id": "v078RUAX_nIK"
      },
      "source": [
        "### f y g)"
      ]
    },
    {
      "cell_type": "markdown",
      "id": "dBC3R0Gj_pAU",
      "metadata": {
        "id": "dBC3R0Gj_pAU"
      },
      "source": [
        "Como los modelos van a ser eventualmente contrastados con otros datos de testeo desconocidos, no hay nada que impida en este punto usar todo el dataset disponible para entrenar el modelo final reportado. Usando todos los datos posibles (incluyendo los que anteriormente eran solo de testeo), queda finalmente el modelo siguiente:"
      ]
    },
    {
      "cell_type": "code",
      "execution_count": null,
      "id": "TfsVJMOGmDkU",
      "metadata": {
        "colab": {
          "base_uri": "https://localhost:8080/"
        },
        "id": "TfsVJMOGmDkU",
        "outputId": "a059af9d-dc78-4365-ba60-eb5e90ab072a"
      },
      "outputs": [
        {
          "name": "stdout",
          "output_type": "stream",
          "text": [
            "Modelo final:\n",
            "BSAS_LINEA_009 = -1142.563+0.553*BSAS_LINEA_146+0.162*BSAS_LINEA_100+0.178*LINEA_107+0.304*BSAS_LINEA_117+-0.225*BSAS_LINEA_188\n"
          ]
        }
      ],
      "source": [
        "y_final, X_final = (\n",
        "    Formula(formula)\n",
        "    .get_model_matrix(pasajeros_por_linea)\n",
        ")\n",
        "\n",
        "modelo_final = LinearRegression(fit_intercept = False)\n",
        "modelo_final.fit(X_final, y_final)\n",
        "\n",
        "formula_final = 'BSAS_LINEA_009 = ' + str(round(modelo_final.coef_[0][0],3)) + '+' + '+'.join([str(round(c,3)) + '*' + l for c, l in zip(modelo_final.coef_[0][1:],X_final.columns[1:])])\n",
        "print('Modelo final:', formula_final, sep = '\\n')\n"
      ]
    }
  ],
  "metadata": {
    "colab": {
      "provenance": []
    },
    "kernelspec": {
      "display_name": "Python 3 (ipykernel)",
      "language": "python",
      "name": "python3"
    },
    "language_info": {
      "codemirror_mode": {
        "name": "ipython",
        "version": 3
      },
      "file_extension": ".py",
      "mimetype": "text/x-python",
      "name": "python",
      "nbconvert_exporter": "python",
      "pygments_lexer": "ipython3",
      "version": "3.11.7"
    }
  },
  "nbformat": 4,
  "nbformat_minor": 5
}