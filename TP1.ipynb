{
  "cells": [
    {
      "cell_type": "markdown",
      "id": "s2w9pPvGs9g9",
      "metadata": {
        "id": "s2w9pPvGs9g9"
      },
      "source": [
        "TP1\n",
        "\n",
        "Laboratorio de Datos\n",
        "\n",
        "1er Cuatrimestre - 2024\n",
        "\n",
        "Iván Exequiel Pintos - Joaquín Rovner - Juan José García Vizioli"
      ]
    },
    {
      "cell_type": "markdown",
      "id": "711a03a3",
      "metadata": {
        "id": "711a03a3"
      },
      "source": [
        "- Importamos todas las librerías que venimos usando:"
      ]
    },
    {
      "cell_type": "code",
      "execution_count": 2,
      "id": "6b39afcc",
      "metadata": {
        "id": "6b39afcc"
      },
      "outputs": [],
      "source": [
        "import seaborn as sns\n",
        "from sklearn.model_selection import KFold\n",
        "import matplotlib.pyplot as plt\n",
        "import seaborn.objects as so\n",
        "\n",
        "from scipy import stats\n",
        "import numpy as np\n",
        "import pandas as pd\n",
        "from sklearn.linear_model import LinearRegression\n",
        "from sklearn.model_selection import train_test_split\n",
        "#from formulaic import model_matrix"
      ]
    },
    {
      "cell_type": "markdown",
      "id": "c4694286",
      "metadata": {
        "id": "c4694286"
      },
      "source": [
        "- Leemos el dataset:"
      ]
    },
    {
      "cell_type": "code",
      "execution_count": 3,
      "id": "pjecMvo0ujF7",
      "metadata": {
        "cellView": "form",
        "colab": {
          "base_uri": "https://localhost:8080/"
        },
        "id": "pjecMvo0ujF7",
        "outputId": "c034beb2-5f46-4085-cfca-4022d11447d8"
      },
      "outputs": [
        {
          "name": "stdout",
          "output_type": "stream",
          "text": [
            "Mounted at /content/drive\n"
          ]
        }
      ],
      "source": [
        "#@title Usando Colab\n",
        "\n",
        "from google.colab import drive\n",
        "drive.mount('/content/drive')\n",
        "\n",
        "sube_2023_file_path = '/content/drive/My Drive/LDD-TP1/sube-2023.csv'"
      ]
    },
    {
      "cell_type": "code",
      "execution_count": null,
      "id": "raKXEkiYvB_j",
      "metadata": {
        "cellView": "form",
        "id": "raKXEkiYvB_j"
      },
      "outputs": [],
      "source": [
        "#@title Usando Jupyter\n",
        "\n",
        "sube_2023_file_path = '../LDD-TP1/sube-2023.csv'"
      ]
    },
    {
      "cell_type": "code",
      "execution_count": 4,
      "id": "89f2a77d",
      "metadata": {
        "id": "89f2a77d"
      },
      "outputs": [],
      "source": [
        "SUBE_2023 = pd.read_csv(sube_2023_file_path)"
      ]
    },
    {
      "cell_type": "markdown",
      "id": "0QRFRjYj2Q2Y",
      "metadata": {
        "id": "0QRFRjYj2Q2Y"
      },
      "source": [
        "#Procesamiento de Datos"
      ]
    },
    {
      "cell_type": "markdown",
      "id": "a8a1134a",
      "metadata": {
        "id": "a8a1134a"
      },
      "source": [
        "##1)"
      ]
    },
    {
      "cell_type": "markdown",
      "id": "6574211a",
      "metadata": {
        "id": "6574211a"
      },
      "source": [
        "###a)"
      ]
    },
    {
      "cell_type": "markdown",
      "id": "5XCfMZIIv4I9",
      "metadata": {
        "id": "5XCfMZIIv4I9"
      },
      "source": [
        "Visualizamos el tipo de dato de cada columna:"
      ]
    },
    {
      "cell_type": "code",
      "execution_count": null,
      "id": "296bc4fe",
      "metadata": {
        "colab": {
          "base_uri": "https://localhost:8080/"
        },
        "id": "296bc4fe",
        "outputId": "5dac8fbf-e22e-4316-a125-bff937975259"
      },
      "outputs": [
        {
          "name": "stdout",
          "output_type": "stream",
          "text": [
            "DIA_TRANSPORTE \t <class 'str'>\n",
            "NOMBRE_EMPRESA \t <class 'str'>\n",
            "LINEA \t <class 'str'>\n",
            "AMBA \t <class 'str'>\n",
            "TIPO_TRANSPORTE \t <class 'str'>\n",
            "JURISDICCION \t <class 'str'>\n",
            "PROVINCIA \t <class 'str'>\n",
            "MUNICIPIO \t <class 'str'>\n",
            "CANTIDAD \t <class 'numpy.int64'>\n",
            "DATO_PRELIMINAR \t <class 'str'>\n"
          ]
        }
      ],
      "source": [
        "def ver_tipos_datos_columnas():\n",
        "  for i in SUBE_2023:\n",
        "      print(i,'\\t',type(SUBE_2023[i][0]))\n",
        "\n",
        "ver_tipos_datos_columnas()"
      ]
    },
    {
      "cell_type": "markdown",
      "id": "2w13x8xuvvmv",
      "metadata": {
        "id": "2w13x8xuvvmv"
      },
      "source": [
        "Le cambiamos el formato a la columna DIA_TRANSPORTE:"
      ]
    },
    {
      "cell_type": "code",
      "execution_count": 5,
      "id": "e4ae94e5",
      "metadata": {
        "id": "e4ae94e5"
      },
      "outputs": [],
      "source": [
        "SUBE_2023['DIA_TRANSPORTE'] = pd.to_datetime(SUBE_2023['DIA_TRANSPORTE']) #investigar argumento \"format\""
      ]
    },
    {
      "cell_type": "markdown",
      "id": "SUft88-2wHZW",
      "metadata": {
        "id": "SUft88-2wHZW"
      },
      "source": [
        "Corroboramos que el tipo de dato de la columna ahora es un time_stamp:"
      ]
    },
    {
      "cell_type": "code",
      "execution_count": null,
      "id": "wXhYWeYzwM-P",
      "metadata": {
        "colab": {
          "base_uri": "https://localhost:8080/"
        },
        "id": "wXhYWeYzwM-P",
        "outputId": "58e525af-66f2-41fe-bf25-55017b550dd0"
      },
      "outputs": [
        {
          "name": "stdout",
          "output_type": "stream",
          "text": [
            "DIA_TRANSPORTE \t <class 'pandas._libs.tslibs.timestamps.Timestamp'>\n",
            "NOMBRE_EMPRESA \t <class 'str'>\n",
            "LINEA \t <class 'str'>\n",
            "AMBA \t <class 'str'>\n",
            "TIPO_TRANSPORTE \t <class 'str'>\n",
            "JURISDICCION \t <class 'str'>\n",
            "PROVINCIA \t <class 'str'>\n",
            "MUNICIPIO \t <class 'str'>\n",
            "CANTIDAD \t <class 'numpy.int64'>\n",
            "DATO_PRELIMINAR \t <class 'str'>\n"
          ]
        }
      ],
      "source": [
        "ver_tipos_datos_columnas()"
      ]
    },
    {
      "cell_type": "markdown",
      "id": "3JrkI3ewwXtJ",
      "metadata": {
        "id": "3JrkI3ewwXtJ"
      },
      "source": [
        "###b)"
      ]
    },
    {
      "cell_type": "markdown",
      "id": "PMKNBQfI1lEH",
      "metadata": {
        "id": "PMKNBQfI1lEH"
      },
      "source": [
        "####i)"
      ]
    },
    {
      "cell_type": "markdown",
      "id": "iQ_4LHcU10Yc",
      "metadata": {
        "id": "iQ_4LHcU10Yc"
      },
      "source": [
        "Agregamos la columna FECHA_DIA a partir de DIA_TRANSPORTE"
      ]
    },
    {
      "cell_type": "code",
      "execution_count": 6,
      "id": "8bab1642",
      "metadata": {
        "id": "8bab1642"
      },
      "outputs": [],
      "source": [
        "SUBE_2023[\"FECHA_DIA\"] = SUBE_2023['DIA_TRANSPORTE'].apply(lambda x : x.strftime('%a'))"
      ]
    },
    {
      "cell_type": "markdown",
      "id": "uWY6Qkku11gP",
      "metadata": {
        "id": "uWY6Qkku11gP"
      },
      "source": [
        "Vemos que la columna sigue el formato de 3 letras en inglés pedido"
      ]
    },
    {
      "cell_type": "code",
      "execution_count": null,
      "id": "b2a30386",
      "metadata": {
        "colab": {
          "base_uri": "https://localhost:8080/",
          "height": 206
        },
        "id": "b2a30386",
        "outputId": "451d5951-f58c-4aba-f904-4c2c1119b697"
      },
      "outputs": [
        {
          "data": {
            "application/vnd.google.colaboratory.intrinsic+json": {
              "type": "dataframe",
              "variable_name": "SUBE_2023"
            },
            "text/html": [
              "\n",
              "  <div id=\"df-b6fdd740-cdbd-4ffa-94db-a0b12666d023\" class=\"colab-df-container\">\n",
              "    <div>\n",
              "<style scoped>\n",
              "    .dataframe tbody tr th:only-of-type {\n",
              "        vertical-align: middle;\n",
              "    }\n",
              "\n",
              "    .dataframe tbody tr th {\n",
              "        vertical-align: top;\n",
              "    }\n",
              "\n",
              "    .dataframe thead th {\n",
              "        text-align: right;\n",
              "    }\n",
              "</style>\n",
              "<table border=\"1\" class=\"dataframe\">\n",
              "  <thead>\n",
              "    <tr style=\"text-align: right;\">\n",
              "      <th></th>\n",
              "      <th>DIA_TRANSPORTE</th>\n",
              "      <th>NOMBRE_EMPRESA</th>\n",
              "      <th>LINEA</th>\n",
              "      <th>AMBA</th>\n",
              "      <th>TIPO_TRANSPORTE</th>\n",
              "      <th>JURISDICCION</th>\n",
              "      <th>PROVINCIA</th>\n",
              "      <th>MUNICIPIO</th>\n",
              "      <th>CANTIDAD</th>\n",
              "      <th>DATO_PRELIMINAR</th>\n",
              "      <th>FECHA_DIA</th>\n",
              "    </tr>\n",
              "  </thead>\n",
              "  <tbody>\n",
              "    <tr>\n",
              "      <th>0</th>\n",
              "      <td>2023-01-01</td>\n",
              "      <td>MUNICIPALIDAD DE MERCEDES PROVINCIA DE BUENOS ...</td>\n",
              "      <td>1</td>\n",
              "      <td>SI</td>\n",
              "      <td>COLECTIVO</td>\n",
              "      <td>MUNICIPAL</td>\n",
              "      <td>BUENOS AIRES</td>\n",
              "      <td>MERCEDES</td>\n",
              "      <td>61</td>\n",
              "      <td>NO</td>\n",
              "      <td>Sun</td>\n",
              "    </tr>\n",
              "    <tr>\n",
              "      <th>1</th>\n",
              "      <td>2023-01-01</td>\n",
              "      <td>MUNICIPALIDAD DE MERCEDES PROVINCIA DE BUENOS ...</td>\n",
              "      <td>2B</td>\n",
              "      <td>SI</td>\n",
              "      <td>COLECTIVO</td>\n",
              "      <td>MUNICIPAL</td>\n",
              "      <td>BUENOS AIRES</td>\n",
              "      <td>MERCEDES</td>\n",
              "      <td>11</td>\n",
              "      <td>NO</td>\n",
              "      <td>Sun</td>\n",
              "    </tr>\n",
              "    <tr>\n",
              "      <th>2</th>\n",
              "      <td>2023-01-01</td>\n",
              "      <td>EMPRESA BATAN S.A.</td>\n",
              "      <td>BS_AS_LINEA 715M</td>\n",
              "      <td>NO</td>\n",
              "      <td>COLECTIVO</td>\n",
              "      <td>MUNICIPAL</td>\n",
              "      <td>BUENOS AIRES</td>\n",
              "      <td>GENERAL PUEYRREDON</td>\n",
              "      <td>1707</td>\n",
              "      <td>NO</td>\n",
              "      <td>Sun</td>\n",
              "    </tr>\n",
              "    <tr>\n",
              "      <th>3</th>\n",
              "      <td>2023-01-01</td>\n",
              "      <td>COMPAÑIA  DE TRANSPORTE VECINAL S.A.</td>\n",
              "      <td>BS_AS_LINEA_326</td>\n",
              "      <td>SI</td>\n",
              "      <td>COLECTIVO</td>\n",
              "      <td>PROVINCIAL</td>\n",
              "      <td>BUENOS AIRES</td>\n",
              "      <td>SN</td>\n",
              "      <td>438</td>\n",
              "      <td>NO</td>\n",
              "      <td>Sun</td>\n",
              "    </tr>\n",
              "    <tr>\n",
              "      <th>4</th>\n",
              "      <td>2023-01-01</td>\n",
              "      <td>EMPRESA DE TRANSPORTE PERALTA RAMOS SACI</td>\n",
              "      <td>BS_AS_LINEA_512</td>\n",
              "      <td>NO</td>\n",
              "      <td>COLECTIVO</td>\n",
              "      <td>MUNICIPAL</td>\n",
              "      <td>BUENOS AIRES</td>\n",
              "      <td>GENERAL PUEYRREDON</td>\n",
              "      <td>1189</td>\n",
              "      <td>NO</td>\n",
              "      <td>Sun</td>\n",
              "    </tr>\n",
              "  </tbody>\n",
              "</table>\n",
              "</div>\n",
              "    <div class=\"colab-df-buttons\">\n",
              "\n",
              "  <div class=\"colab-df-container\">\n",
              "    <button class=\"colab-df-convert\" onclick=\"convertToInteractive('df-b6fdd740-cdbd-4ffa-94db-a0b12666d023')\"\n",
              "            title=\"Convert this dataframe to an interactive table.\"\n",
              "            style=\"display:none;\">\n",
              "\n",
              "  <svg xmlns=\"http://www.w3.org/2000/svg\" height=\"24px\" viewBox=\"0 -960 960 960\">\n",
              "    <path d=\"M120-120v-720h720v720H120Zm60-500h600v-160H180v160Zm220 220h160v-160H400v160Zm0 220h160v-160H400v160ZM180-400h160v-160H180v160Zm440 0h160v-160H620v160ZM180-180h160v-160H180v160Zm440 0h160v-160H620v160Z\"/>\n",
              "  </svg>\n",
              "    </button>\n",
              "\n",
              "  <style>\n",
              "    .colab-df-container {\n",
              "      display:flex;\n",
              "      gap: 12px;\n",
              "    }\n",
              "\n",
              "    .colab-df-convert {\n",
              "      background-color: #E8F0FE;\n",
              "      border: none;\n",
              "      border-radius: 50%;\n",
              "      cursor: pointer;\n",
              "      display: none;\n",
              "      fill: #1967D2;\n",
              "      height: 32px;\n",
              "      padding: 0 0 0 0;\n",
              "      width: 32px;\n",
              "    }\n",
              "\n",
              "    .colab-df-convert:hover {\n",
              "      background-color: #E2EBFA;\n",
              "      box-shadow: 0px 1px 2px rgba(60, 64, 67, 0.3), 0px 1px 3px 1px rgba(60, 64, 67, 0.15);\n",
              "      fill: #174EA6;\n",
              "    }\n",
              "\n",
              "    .colab-df-buttons div {\n",
              "      margin-bottom: 4px;\n",
              "    }\n",
              "\n",
              "    [theme=dark] .colab-df-convert {\n",
              "      background-color: #3B4455;\n",
              "      fill: #D2E3FC;\n",
              "    }\n",
              "\n",
              "    [theme=dark] .colab-df-convert:hover {\n",
              "      background-color: #434B5C;\n",
              "      box-shadow: 0px 1px 3px 1px rgba(0, 0, 0, 0.15);\n",
              "      filter: drop-shadow(0px 1px 2px rgba(0, 0, 0, 0.3));\n",
              "      fill: #FFFFFF;\n",
              "    }\n",
              "  </style>\n",
              "\n",
              "    <script>\n",
              "      const buttonEl =\n",
              "        document.querySelector('#df-b6fdd740-cdbd-4ffa-94db-a0b12666d023 button.colab-df-convert');\n",
              "      buttonEl.style.display =\n",
              "        google.colab.kernel.accessAllowed ? 'block' : 'none';\n",
              "\n",
              "      async function convertToInteractive(key) {\n",
              "        const element = document.querySelector('#df-b6fdd740-cdbd-4ffa-94db-a0b12666d023');\n",
              "        const dataTable =\n",
              "          await google.colab.kernel.invokeFunction('convertToInteractive',\n",
              "                                                    [key], {});\n",
              "        if (!dataTable) return;\n",
              "\n",
              "        const docLinkHtml = 'Like what you see? Visit the ' +\n",
              "          '<a target=\"_blank\" href=https://colab.research.google.com/notebooks/data_table.ipynb>data table notebook</a>'\n",
              "          + ' to learn more about interactive tables.';\n",
              "        element.innerHTML = '';\n",
              "        dataTable['output_type'] = 'display_data';\n",
              "        await google.colab.output.renderOutput(dataTable, element);\n",
              "        const docLink = document.createElement('div');\n",
              "        docLink.innerHTML = docLinkHtml;\n",
              "        element.appendChild(docLink);\n",
              "      }\n",
              "    </script>\n",
              "  </div>\n",
              "\n",
              "\n",
              "<div id=\"df-11b643ab-21b6-49ca-9211-d8118ae55090\">\n",
              "  <button class=\"colab-df-quickchart\" onclick=\"quickchart('df-11b643ab-21b6-49ca-9211-d8118ae55090')\"\n",
              "            title=\"Suggest charts\"\n",
              "            style=\"display:none;\">\n",
              "\n",
              "<svg xmlns=\"http://www.w3.org/2000/svg\" height=\"24px\"viewBox=\"0 0 24 24\"\n",
              "     width=\"24px\">\n",
              "    <g>\n",
              "        <path d=\"M19 3H5c-1.1 0-2 .9-2 2v14c0 1.1.9 2 2 2h14c1.1 0 2-.9 2-2V5c0-1.1-.9-2-2-2zM9 17H7v-7h2v7zm4 0h-2V7h2v10zm4 0h-2v-4h2v4z\"/>\n",
              "    </g>\n",
              "</svg>\n",
              "  </button>\n",
              "\n",
              "<style>\n",
              "  .colab-df-quickchart {\n",
              "      --bg-color: #E8F0FE;\n",
              "      --fill-color: #1967D2;\n",
              "      --hover-bg-color: #E2EBFA;\n",
              "      --hover-fill-color: #174EA6;\n",
              "      --disabled-fill-color: #AAA;\n",
              "      --disabled-bg-color: #DDD;\n",
              "  }\n",
              "\n",
              "  [theme=dark] .colab-df-quickchart {\n",
              "      --bg-color: #3B4455;\n",
              "      --fill-color: #D2E3FC;\n",
              "      --hover-bg-color: #434B5C;\n",
              "      --hover-fill-color: #FFFFFF;\n",
              "      --disabled-bg-color: #3B4455;\n",
              "      --disabled-fill-color: #666;\n",
              "  }\n",
              "\n",
              "  .colab-df-quickchart {\n",
              "    background-color: var(--bg-color);\n",
              "    border: none;\n",
              "    border-radius: 50%;\n",
              "    cursor: pointer;\n",
              "    display: none;\n",
              "    fill: var(--fill-color);\n",
              "    height: 32px;\n",
              "    padding: 0;\n",
              "    width: 32px;\n",
              "  }\n",
              "\n",
              "  .colab-df-quickchart:hover {\n",
              "    background-color: var(--hover-bg-color);\n",
              "    box-shadow: 0 1px 2px rgba(60, 64, 67, 0.3), 0 1px 3px 1px rgba(60, 64, 67, 0.15);\n",
              "    fill: var(--button-hover-fill-color);\n",
              "  }\n",
              "\n",
              "  .colab-df-quickchart-complete:disabled,\n",
              "  .colab-df-quickchart-complete:disabled:hover {\n",
              "    background-color: var(--disabled-bg-color);\n",
              "    fill: var(--disabled-fill-color);\n",
              "    box-shadow: none;\n",
              "  }\n",
              "\n",
              "  .colab-df-spinner {\n",
              "    border: 2px solid var(--fill-color);\n",
              "    border-color: transparent;\n",
              "    border-bottom-color: var(--fill-color);\n",
              "    animation:\n",
              "      spin 1s steps(1) infinite;\n",
              "  }\n",
              "\n",
              "  @keyframes spin {\n",
              "    0% {\n",
              "      border-color: transparent;\n",
              "      border-bottom-color: var(--fill-color);\n",
              "      border-left-color: var(--fill-color);\n",
              "    }\n",
              "    20% {\n",
              "      border-color: transparent;\n",
              "      border-left-color: var(--fill-color);\n",
              "      border-top-color: var(--fill-color);\n",
              "    }\n",
              "    30% {\n",
              "      border-color: transparent;\n",
              "      border-left-color: var(--fill-color);\n",
              "      border-top-color: var(--fill-color);\n",
              "      border-right-color: var(--fill-color);\n",
              "    }\n",
              "    40% {\n",
              "      border-color: transparent;\n",
              "      border-right-color: var(--fill-color);\n",
              "      border-top-color: var(--fill-color);\n",
              "    }\n",
              "    60% {\n",
              "      border-color: transparent;\n",
              "      border-right-color: var(--fill-color);\n",
              "    }\n",
              "    80% {\n",
              "      border-color: transparent;\n",
              "      border-right-color: var(--fill-color);\n",
              "      border-bottom-color: var(--fill-color);\n",
              "    }\n",
              "    90% {\n",
              "      border-color: transparent;\n",
              "      border-bottom-color: var(--fill-color);\n",
              "    }\n",
              "  }\n",
              "</style>\n",
              "\n",
              "  <script>\n",
              "    async function quickchart(key) {\n",
              "      const quickchartButtonEl =\n",
              "        document.querySelector('#' + key + ' button');\n",
              "      quickchartButtonEl.disabled = true;  // To prevent multiple clicks.\n",
              "      quickchartButtonEl.classList.add('colab-df-spinner');\n",
              "      try {\n",
              "        const charts = await google.colab.kernel.invokeFunction(\n",
              "            'suggestCharts', [key], {});\n",
              "      } catch (error) {\n",
              "        console.error('Error during call to suggestCharts:', error);\n",
              "      }\n",
              "      quickchartButtonEl.classList.remove('colab-df-spinner');\n",
              "      quickchartButtonEl.classList.add('colab-df-quickchart-complete');\n",
              "    }\n",
              "    (() => {\n",
              "      let quickchartButtonEl =\n",
              "        document.querySelector('#df-11b643ab-21b6-49ca-9211-d8118ae55090 button');\n",
              "      quickchartButtonEl.style.display =\n",
              "        google.colab.kernel.accessAllowed ? 'block' : 'none';\n",
              "    })();\n",
              "  </script>\n",
              "</div>\n",
              "\n",
              "    </div>\n",
              "  </div>\n"
            ],
            "text/plain": [
              "  DIA_TRANSPORTE                                     NOMBRE_EMPRESA  \\\n",
              "0     2023-01-01  MUNICIPALIDAD DE MERCEDES PROVINCIA DE BUENOS ...   \n",
              "1     2023-01-01  MUNICIPALIDAD DE MERCEDES PROVINCIA DE BUENOS ...   \n",
              "2     2023-01-01                                 EMPRESA BATAN S.A.   \n",
              "3     2023-01-01               COMPAÑIA  DE TRANSPORTE VECINAL S.A.   \n",
              "4     2023-01-01           EMPRESA DE TRANSPORTE PERALTA RAMOS SACI   \n",
              "\n",
              "              LINEA AMBA TIPO_TRANSPORTE JURISDICCION     PROVINCIA  \\\n",
              "0                 1   SI       COLECTIVO    MUNICIPAL  BUENOS AIRES   \n",
              "1                2B   SI       COLECTIVO    MUNICIPAL  BUENOS AIRES   \n",
              "2  BS_AS_LINEA 715M   NO       COLECTIVO    MUNICIPAL  BUENOS AIRES   \n",
              "3   BS_AS_LINEA_326   SI       COLECTIVO   PROVINCIAL  BUENOS AIRES   \n",
              "4   BS_AS_LINEA_512   NO       COLECTIVO    MUNICIPAL  BUENOS AIRES   \n",
              "\n",
              "            MUNICIPIO  CANTIDAD DATO_PRELIMINAR FECHA_DIA  \n",
              "0            MERCEDES        61              NO       Sun  \n",
              "1            MERCEDES        11              NO       Sun  \n",
              "2  GENERAL PUEYRREDON      1707              NO       Sun  \n",
              "3                  SN       438              NO       Sun  \n",
              "4  GENERAL PUEYRREDON      1189              NO       Sun  "
            ]
          },
          "execution_count": 11,
          "metadata": {},
          "output_type": "execute_result"
        }
      ],
      "source": [
        "SUBE_2023.head()"
      ]
    },
    {
      "cell_type": "markdown",
      "id": "DHUrGU0b1_-b",
      "metadata": {
        "id": "DHUrGU0b1_-b"
      },
      "source": [
        "####ii)\n"
      ]
    },
    {
      "cell_type": "markdown",
      "id": "HFs_uk925o0J",
      "metadata": {
        "id": "HFs_uk925o0J"
      },
      "source": [
        "Agregamos la columna FECHA_ORDINAL a partir de DIA_TRANSPORTE"
      ]
    },
    {
      "cell_type": "code",
      "execution_count": 7,
      "id": "9rZGmnm66YvX",
      "metadata": {
        "id": "9rZGmnm66YvX"
      },
      "outputs": [],
      "source": [
        "SUBE_2023[\"FECHA_ORDINAL\"] = SUBE_2023['DIA_TRANSPORTE'].apply(lambda x : int(x.strftime('%d'))) #Da el día del mes de 1 a 31. Si quisiéramos ir de 1 a 366, usamos '%-j'."
      ]
    },
    {
      "cell_type": "markdown",
      "id": "0Nl_N1ux6tEI",
      "metadata": {
        "id": "0Nl_N1ux6tEI"
      },
      "source": [
        "Vemos que la columna FECHA_ORDINAL tiene el formato pedido y que además sus datos son int:"
      ]
    },
    {
      "cell_type": "code",
      "execution_count": null,
      "id": "80P_CdXP6yo_",
      "metadata": {
        "colab": {
          "base_uri": "https://localhost:8080/",
          "height": 224
        },
        "id": "80P_CdXP6yo_",
        "outputId": "8549d075-a740-4a93-bf67-a68d90d78e26"
      },
      "outputs": [
        {
          "data": {
            "application/vnd.google.colaboratory.intrinsic+json": {
              "summary": "{\n  \"name\": \"print('Tipo de dato de FECHA_ORDINAL:', SUBE_2023['FECHA_ORDINAL']\",\n  \"rows\": 5,\n  \"fields\": [\n    {\n      \"column\": \"DIA_TRANSPORTE\",\n      \"properties\": {\n        \"dtype\": \"date\",\n        \"min\": \"2023-01-01 00:00:00\",\n        \"max\": \"2023-01-01 00:00:00\",\n        \"num_unique_values\": 1,\n        \"samples\": [\n          \"2023-01-01 00:00:00\"\n        ],\n        \"semantic_type\": \"\",\n        \"description\": \"\"\n      }\n    },\n    {\n      \"column\": \"NOMBRE_EMPRESA\",\n      \"properties\": {\n        \"dtype\": \"string\",\n        \"num_unique_values\": 4,\n        \"samples\": [\n          \"EMPRESA BATAN S.A.\"\n        ],\n        \"semantic_type\": \"\",\n        \"description\": \"\"\n      }\n    },\n    {\n      \"column\": \"LINEA\",\n      \"properties\": {\n        \"dtype\": \"string\",\n        \"num_unique_values\": 5,\n        \"samples\": [\n          \"2B\"\n        ],\n        \"semantic_type\": \"\",\n        \"description\": \"\"\n      }\n    },\n    {\n      \"column\": \"AMBA\",\n      \"properties\": {\n        \"dtype\": \"category\",\n        \"num_unique_values\": 2,\n        \"samples\": [\n          \"NO\"\n        ],\n        \"semantic_type\": \"\",\n        \"description\": \"\"\n      }\n    },\n    {\n      \"column\": \"TIPO_TRANSPORTE\",\n      \"properties\": {\n        \"dtype\": \"category\",\n        \"num_unique_values\": 1,\n        \"samples\": [\n          \"COLECTIVO\"\n        ],\n        \"semantic_type\": \"\",\n        \"description\": \"\"\n      }\n    },\n    {\n      \"column\": \"JURISDICCION\",\n      \"properties\": {\n        \"dtype\": \"category\",\n        \"num_unique_values\": 2,\n        \"samples\": [\n          \"PROVINCIAL\"\n        ],\n        \"semantic_type\": \"\",\n        \"description\": \"\"\n      }\n    },\n    {\n      \"column\": \"PROVINCIA\",\n      \"properties\": {\n        \"dtype\": \"category\",\n        \"num_unique_values\": 1,\n        \"samples\": [\n          \"BUENOS AIRES\"\n        ],\n        \"semantic_type\": \"\",\n        \"description\": \"\"\n      }\n    },\n    {\n      \"column\": \"MUNICIPIO\",\n      \"properties\": {\n        \"dtype\": \"string\",\n        \"num_unique_values\": 3,\n        \"samples\": [\n          \"MERCEDES\"\n        ],\n        \"semantic_type\": \"\",\n        \"description\": \"\"\n      }\n    },\n    {\n      \"column\": \"CANTIDAD\",\n      \"properties\": {\n        \"dtype\": \"number\",\n        \"std\": 742,\n        \"min\": 11,\n        \"max\": 1707,\n        \"num_unique_values\": 5,\n        \"samples\": [\n          11\n        ],\n        \"semantic_type\": \"\",\n        \"description\": \"\"\n      }\n    },\n    {\n      \"column\": \"DATO_PRELIMINAR\",\n      \"properties\": {\n        \"dtype\": \"category\",\n        \"num_unique_values\": 1,\n        \"samples\": [\n          \"NO\"\n        ],\n        \"semantic_type\": \"\",\n        \"description\": \"\"\n      }\n    },\n    {\n      \"column\": \"FECHA_DIA\",\n      \"properties\": {\n        \"dtype\": \"category\",\n        \"num_unique_values\": 1,\n        \"samples\": [\n          \"Sun\"\n        ],\n        \"semantic_type\": \"\",\n        \"description\": \"\"\n      }\n    },\n    {\n      \"column\": \"FECHA_ORDINAL\",\n      \"properties\": {\n        \"dtype\": \"number\",\n        \"std\": 0,\n        \"min\": 1,\n        \"max\": 1,\n        \"num_unique_values\": 1,\n        \"samples\": [\n          1\n        ],\n        \"semantic_type\": \"\",\n        \"description\": \"\"\n      }\n    }\n  ]\n}",
              "type": "dataframe"
            },
            "text/html": [
              "\n",
              "  <div id=\"df-b1dff07b-6333-4d42-a4c3-d178aa3cca10\" class=\"colab-df-container\">\n",
              "    <div>\n",
              "<style scoped>\n",
              "    .dataframe tbody tr th:only-of-type {\n",
              "        vertical-align: middle;\n",
              "    }\n",
              "\n",
              "    .dataframe tbody tr th {\n",
              "        vertical-align: top;\n",
              "    }\n",
              "\n",
              "    .dataframe thead th {\n",
              "        text-align: right;\n",
              "    }\n",
              "</style>\n",
              "<table border=\"1\" class=\"dataframe\">\n",
              "  <thead>\n",
              "    <tr style=\"text-align: right;\">\n",
              "      <th></th>\n",
              "      <th>DIA_TRANSPORTE</th>\n",
              "      <th>NOMBRE_EMPRESA</th>\n",
              "      <th>LINEA</th>\n",
              "      <th>AMBA</th>\n",
              "      <th>TIPO_TRANSPORTE</th>\n",
              "      <th>JURISDICCION</th>\n",
              "      <th>PROVINCIA</th>\n",
              "      <th>MUNICIPIO</th>\n",
              "      <th>CANTIDAD</th>\n",
              "      <th>DATO_PRELIMINAR</th>\n",
              "      <th>FECHA_DIA</th>\n",
              "      <th>FECHA_ORDINAL</th>\n",
              "    </tr>\n",
              "  </thead>\n",
              "  <tbody>\n",
              "    <tr>\n",
              "      <th>0</th>\n",
              "      <td>2023-01-01</td>\n",
              "      <td>MUNICIPALIDAD DE MERCEDES PROVINCIA DE BUENOS ...</td>\n",
              "      <td>1</td>\n",
              "      <td>SI</td>\n",
              "      <td>COLECTIVO</td>\n",
              "      <td>MUNICIPAL</td>\n",
              "      <td>BUENOS AIRES</td>\n",
              "      <td>MERCEDES</td>\n",
              "      <td>61</td>\n",
              "      <td>NO</td>\n",
              "      <td>Sun</td>\n",
              "      <td>1</td>\n",
              "    </tr>\n",
              "    <tr>\n",
              "      <th>1</th>\n",
              "      <td>2023-01-01</td>\n",
              "      <td>MUNICIPALIDAD DE MERCEDES PROVINCIA DE BUENOS ...</td>\n",
              "      <td>2B</td>\n",
              "      <td>SI</td>\n",
              "      <td>COLECTIVO</td>\n",
              "      <td>MUNICIPAL</td>\n",
              "      <td>BUENOS AIRES</td>\n",
              "      <td>MERCEDES</td>\n",
              "      <td>11</td>\n",
              "      <td>NO</td>\n",
              "      <td>Sun</td>\n",
              "      <td>1</td>\n",
              "    </tr>\n",
              "    <tr>\n",
              "      <th>2</th>\n",
              "      <td>2023-01-01</td>\n",
              "      <td>EMPRESA BATAN S.A.</td>\n",
              "      <td>BS_AS_LINEA 715M</td>\n",
              "      <td>NO</td>\n",
              "      <td>COLECTIVO</td>\n",
              "      <td>MUNICIPAL</td>\n",
              "      <td>BUENOS AIRES</td>\n",
              "      <td>GENERAL PUEYRREDON</td>\n",
              "      <td>1707</td>\n",
              "      <td>NO</td>\n",
              "      <td>Sun</td>\n",
              "      <td>1</td>\n",
              "    </tr>\n",
              "    <tr>\n",
              "      <th>3</th>\n",
              "      <td>2023-01-01</td>\n",
              "      <td>COMPAÑIA  DE TRANSPORTE VECINAL S.A.</td>\n",
              "      <td>BS_AS_LINEA_326</td>\n",
              "      <td>SI</td>\n",
              "      <td>COLECTIVO</td>\n",
              "      <td>PROVINCIAL</td>\n",
              "      <td>BUENOS AIRES</td>\n",
              "      <td>SN</td>\n",
              "      <td>438</td>\n",
              "      <td>NO</td>\n",
              "      <td>Sun</td>\n",
              "      <td>1</td>\n",
              "    </tr>\n",
              "    <tr>\n",
              "      <th>4</th>\n",
              "      <td>2023-01-01</td>\n",
              "      <td>EMPRESA DE TRANSPORTE PERALTA RAMOS SACI</td>\n",
              "      <td>BS_AS_LINEA_512</td>\n",
              "      <td>NO</td>\n",
              "      <td>COLECTIVO</td>\n",
              "      <td>MUNICIPAL</td>\n",
              "      <td>BUENOS AIRES</td>\n",
              "      <td>GENERAL PUEYRREDON</td>\n",
              "      <td>1189</td>\n",
              "      <td>NO</td>\n",
              "      <td>Sun</td>\n",
              "      <td>1</td>\n",
              "    </tr>\n",
              "  </tbody>\n",
              "</table>\n",
              "</div>\n",
              "    <div class=\"colab-df-buttons\">\n",
              "\n",
              "  <div class=\"colab-df-container\">\n",
              "    <button class=\"colab-df-convert\" onclick=\"convertToInteractive('df-b1dff07b-6333-4d42-a4c3-d178aa3cca10')\"\n",
              "            title=\"Convert this dataframe to an interactive table.\"\n",
              "            style=\"display:none;\">\n",
              "\n",
              "  <svg xmlns=\"http://www.w3.org/2000/svg\" height=\"24px\" viewBox=\"0 -960 960 960\">\n",
              "    <path d=\"M120-120v-720h720v720H120Zm60-500h600v-160H180v160Zm220 220h160v-160H400v160Zm0 220h160v-160H400v160ZM180-400h160v-160H180v160Zm440 0h160v-160H620v160ZM180-180h160v-160H180v160Zm440 0h160v-160H620v160Z\"/>\n",
              "  </svg>\n",
              "    </button>\n",
              "\n",
              "  <style>\n",
              "    .colab-df-container {\n",
              "      display:flex;\n",
              "      gap: 12px;\n",
              "    }\n",
              "\n",
              "    .colab-df-convert {\n",
              "      background-color: #E8F0FE;\n",
              "      border: none;\n",
              "      border-radius: 50%;\n",
              "      cursor: pointer;\n",
              "      display: none;\n",
              "      fill: #1967D2;\n",
              "      height: 32px;\n",
              "      padding: 0 0 0 0;\n",
              "      width: 32px;\n",
              "    }\n",
              "\n",
              "    .colab-df-convert:hover {\n",
              "      background-color: #E2EBFA;\n",
              "      box-shadow: 0px 1px 2px rgba(60, 64, 67, 0.3), 0px 1px 3px 1px rgba(60, 64, 67, 0.15);\n",
              "      fill: #174EA6;\n",
              "    }\n",
              "\n",
              "    .colab-df-buttons div {\n",
              "      margin-bottom: 4px;\n",
              "    }\n",
              "\n",
              "    [theme=dark] .colab-df-convert {\n",
              "      background-color: #3B4455;\n",
              "      fill: #D2E3FC;\n",
              "    }\n",
              "\n",
              "    [theme=dark] .colab-df-convert:hover {\n",
              "      background-color: #434B5C;\n",
              "      box-shadow: 0px 1px 3px 1px rgba(0, 0, 0, 0.15);\n",
              "      filter: drop-shadow(0px 1px 2px rgba(0, 0, 0, 0.3));\n",
              "      fill: #FFFFFF;\n",
              "    }\n",
              "  </style>\n",
              "\n",
              "    <script>\n",
              "      const buttonEl =\n",
              "        document.querySelector('#df-b1dff07b-6333-4d42-a4c3-d178aa3cca10 button.colab-df-convert');\n",
              "      buttonEl.style.display =\n",
              "        google.colab.kernel.accessAllowed ? 'block' : 'none';\n",
              "\n",
              "      async function convertToInteractive(key) {\n",
              "        const element = document.querySelector('#df-b1dff07b-6333-4d42-a4c3-d178aa3cca10');\n",
              "        const dataTable =\n",
              "          await google.colab.kernel.invokeFunction('convertToInteractive',\n",
              "                                                    [key], {});\n",
              "        if (!dataTable) return;\n",
              "\n",
              "        const docLinkHtml = 'Like what you see? Visit the ' +\n",
              "          '<a target=\"_blank\" href=https://colab.research.google.com/notebooks/data_table.ipynb>data table notebook</a>'\n",
              "          + ' to learn more about interactive tables.';\n",
              "        element.innerHTML = '';\n",
              "        dataTable['output_type'] = 'display_data';\n",
              "        await google.colab.output.renderOutput(dataTable, element);\n",
              "        const docLink = document.createElement('div');\n",
              "        docLink.innerHTML = docLinkHtml;\n",
              "        element.appendChild(docLink);\n",
              "      }\n",
              "    </script>\n",
              "  </div>\n",
              "\n",
              "\n",
              "<div id=\"df-36c441fc-8995-49a7-b33f-7a39f12d4343\">\n",
              "  <button class=\"colab-df-quickchart\" onclick=\"quickchart('df-36c441fc-8995-49a7-b33f-7a39f12d4343')\"\n",
              "            title=\"Suggest charts\"\n",
              "            style=\"display:none;\">\n",
              "\n",
              "<svg xmlns=\"http://www.w3.org/2000/svg\" height=\"24px\"viewBox=\"0 0 24 24\"\n",
              "     width=\"24px\">\n",
              "    <g>\n",
              "        <path d=\"M19 3H5c-1.1 0-2 .9-2 2v14c0 1.1.9 2 2 2h14c1.1 0 2-.9 2-2V5c0-1.1-.9-2-2-2zM9 17H7v-7h2v7zm4 0h-2V7h2v10zm4 0h-2v-4h2v4z\"/>\n",
              "    </g>\n",
              "</svg>\n",
              "  </button>\n",
              "\n",
              "<style>\n",
              "  .colab-df-quickchart {\n",
              "      --bg-color: #E8F0FE;\n",
              "      --fill-color: #1967D2;\n",
              "      --hover-bg-color: #E2EBFA;\n",
              "      --hover-fill-color: #174EA6;\n",
              "      --disabled-fill-color: #AAA;\n",
              "      --disabled-bg-color: #DDD;\n",
              "  }\n",
              "\n",
              "  [theme=dark] .colab-df-quickchart {\n",
              "      --bg-color: #3B4455;\n",
              "      --fill-color: #D2E3FC;\n",
              "      --hover-bg-color: #434B5C;\n",
              "      --hover-fill-color: #FFFFFF;\n",
              "      --disabled-bg-color: #3B4455;\n",
              "      --disabled-fill-color: #666;\n",
              "  }\n",
              "\n",
              "  .colab-df-quickchart {\n",
              "    background-color: var(--bg-color);\n",
              "    border: none;\n",
              "    border-radius: 50%;\n",
              "    cursor: pointer;\n",
              "    display: none;\n",
              "    fill: var(--fill-color);\n",
              "    height: 32px;\n",
              "    padding: 0;\n",
              "    width: 32px;\n",
              "  }\n",
              "\n",
              "  .colab-df-quickchart:hover {\n",
              "    background-color: var(--hover-bg-color);\n",
              "    box-shadow: 0 1px 2px rgba(60, 64, 67, 0.3), 0 1px 3px 1px rgba(60, 64, 67, 0.15);\n",
              "    fill: var(--button-hover-fill-color);\n",
              "  }\n",
              "\n",
              "  .colab-df-quickchart-complete:disabled,\n",
              "  .colab-df-quickchart-complete:disabled:hover {\n",
              "    background-color: var(--disabled-bg-color);\n",
              "    fill: var(--disabled-fill-color);\n",
              "    box-shadow: none;\n",
              "  }\n",
              "\n",
              "  .colab-df-spinner {\n",
              "    border: 2px solid var(--fill-color);\n",
              "    border-color: transparent;\n",
              "    border-bottom-color: var(--fill-color);\n",
              "    animation:\n",
              "      spin 1s steps(1) infinite;\n",
              "  }\n",
              "\n",
              "  @keyframes spin {\n",
              "    0% {\n",
              "      border-color: transparent;\n",
              "      border-bottom-color: var(--fill-color);\n",
              "      border-left-color: var(--fill-color);\n",
              "    }\n",
              "    20% {\n",
              "      border-color: transparent;\n",
              "      border-left-color: var(--fill-color);\n",
              "      border-top-color: var(--fill-color);\n",
              "    }\n",
              "    30% {\n",
              "      border-color: transparent;\n",
              "      border-left-color: var(--fill-color);\n",
              "      border-top-color: var(--fill-color);\n",
              "      border-right-color: var(--fill-color);\n",
              "    }\n",
              "    40% {\n",
              "      border-color: transparent;\n",
              "      border-right-color: var(--fill-color);\n",
              "      border-top-color: var(--fill-color);\n",
              "    }\n",
              "    60% {\n",
              "      border-color: transparent;\n",
              "      border-right-color: var(--fill-color);\n",
              "    }\n",
              "    80% {\n",
              "      border-color: transparent;\n",
              "      border-right-color: var(--fill-color);\n",
              "      border-bottom-color: var(--fill-color);\n",
              "    }\n",
              "    90% {\n",
              "      border-color: transparent;\n",
              "      border-bottom-color: var(--fill-color);\n",
              "    }\n",
              "  }\n",
              "</style>\n",
              "\n",
              "  <script>\n",
              "    async function quickchart(key) {\n",
              "      const quickchartButtonEl =\n",
              "        document.querySelector('#' + key + ' button');\n",
              "      quickchartButtonEl.disabled = true;  // To prevent multiple clicks.\n",
              "      quickchartButtonEl.classList.add('colab-df-spinner');\n",
              "      try {\n",
              "        const charts = await google.colab.kernel.invokeFunction(\n",
              "            'suggestCharts', [key], {});\n",
              "      } catch (error) {\n",
              "        console.error('Error during call to suggestCharts:', error);\n",
              "      }\n",
              "      quickchartButtonEl.classList.remove('colab-df-spinner');\n",
              "      quickchartButtonEl.classList.add('colab-df-quickchart-complete');\n",
              "    }\n",
              "    (() => {\n",
              "      let quickchartButtonEl =\n",
              "        document.querySelector('#df-36c441fc-8995-49a7-b33f-7a39f12d4343 button');\n",
              "      quickchartButtonEl.style.display =\n",
              "        google.colab.kernel.accessAllowed ? 'block' : 'none';\n",
              "    })();\n",
              "  </script>\n",
              "</div>\n",
              "\n",
              "    </div>\n",
              "  </div>\n"
            ],
            "text/plain": [
              "  DIA_TRANSPORTE                                     NOMBRE_EMPRESA  \\\n",
              "0     2023-01-01  MUNICIPALIDAD DE MERCEDES PROVINCIA DE BUENOS ...   \n",
              "1     2023-01-01  MUNICIPALIDAD DE MERCEDES PROVINCIA DE BUENOS ...   \n",
              "2     2023-01-01                                 EMPRESA BATAN S.A.   \n",
              "3     2023-01-01               COMPAÑIA  DE TRANSPORTE VECINAL S.A.   \n",
              "4     2023-01-01           EMPRESA DE TRANSPORTE PERALTA RAMOS SACI   \n",
              "\n",
              "              LINEA AMBA TIPO_TRANSPORTE JURISDICCION     PROVINCIA  \\\n",
              "0                 1   SI       COLECTIVO    MUNICIPAL  BUENOS AIRES   \n",
              "1                2B   SI       COLECTIVO    MUNICIPAL  BUENOS AIRES   \n",
              "2  BS_AS_LINEA 715M   NO       COLECTIVO    MUNICIPAL  BUENOS AIRES   \n",
              "3   BS_AS_LINEA_326   SI       COLECTIVO   PROVINCIAL  BUENOS AIRES   \n",
              "4   BS_AS_LINEA_512   NO       COLECTIVO    MUNICIPAL  BUENOS AIRES   \n",
              "\n",
              "            MUNICIPIO  CANTIDAD DATO_PRELIMINAR FECHA_DIA  FECHA_ORDINAL  \n",
              "0            MERCEDES        61              NO       Sun              1  \n",
              "1            MERCEDES        11              NO       Sun              1  \n",
              "2  GENERAL PUEYRREDON      1707              NO       Sun              1  \n",
              "3                  SN       438              NO       Sun              1  \n",
              "4  GENERAL PUEYRREDON      1189              NO       Sun              1  "
            ]
          },
          "metadata": {},
          "output_type": "display_data"
        },
        {
          "name": "stdout",
          "output_type": "stream",
          "text": [
            "Tipo de dato de FECHA_ORDINAL: int64\n"
          ]
        }
      ],
      "source": [
        "display(SUBE_2023.head())\n",
        "print('Tipo de dato de FECHA_ORDINAL:', SUBE_2023['FECHA_ORDINAL'].dtype)"
      ]
    },
    {
      "cell_type": "markdown",
      "id": "06fbDLkW2W6s",
      "metadata": {
        "id": "06fbDLkW2W6s"
      },
      "source": [
        "####iii)"
      ]
    },
    {
      "cell_type": "markdown",
      "id": "rvEvSgpH2kDd",
      "metadata": {
        "id": "rvEvSgpH2kDd"
      },
      "source": [
        "Agregamos la columna FECHA_MES a partir de DIA_TRANSPORTE"
      ]
    },
    {
      "cell_type": "code",
      "execution_count": 8,
      "id": "bwvoKtYu24-R",
      "metadata": {
        "id": "bwvoKtYu24-R"
      },
      "outputs": [],
      "source": [
        "SUBE_2023[\"FECHA_MES\"] = SUBE_2023['DIA_TRANSPORTE'].apply(lambda x : x.strftime('%m'))"
      ]
    },
    {
      "cell_type": "markdown",
      "id": "Tu5qa2CC3G-k",
      "metadata": {
        "id": "Tu5qa2CC3G-k"
      },
      "source": [
        "Vemos que la columna sigue el formato de string de número de 2 dígitos pedido"
      ]
    },
    {
      "cell_type": "code",
      "execution_count": null,
      "id": "i4oZimT33SJM",
      "metadata": {
        "colab": {
          "base_uri": "https://localhost:8080/",
          "height": 293
        },
        "id": "i4oZimT33SJM",
        "outputId": "3d0fc7e2-6036-4f75-d899-a3ea9be50e08"
      },
      "outputs": [
        {
          "data": {
            "application/vnd.google.colaboratory.intrinsic+json": {
              "type": "dataframe",
              "variable_name": "SUBE_2023"
            },
            "text/html": [
              "\n",
              "  <div id=\"df-40ea4820-f99b-4020-89a7-a861e67c34b3\" class=\"colab-df-container\">\n",
              "    <div>\n",
              "<style scoped>\n",
              "    .dataframe tbody tr th:only-of-type {\n",
              "        vertical-align: middle;\n",
              "    }\n",
              "\n",
              "    .dataframe tbody tr th {\n",
              "        vertical-align: top;\n",
              "    }\n",
              "\n",
              "    .dataframe thead th {\n",
              "        text-align: right;\n",
              "    }\n",
              "</style>\n",
              "<table border=\"1\" class=\"dataframe\">\n",
              "  <thead>\n",
              "    <tr style=\"text-align: right;\">\n",
              "      <th></th>\n",
              "      <th>DIA_TRANSPORTE</th>\n",
              "      <th>NOMBRE_EMPRESA</th>\n",
              "      <th>LINEA</th>\n",
              "      <th>AMBA</th>\n",
              "      <th>TIPO_TRANSPORTE</th>\n",
              "      <th>JURISDICCION</th>\n",
              "      <th>PROVINCIA</th>\n",
              "      <th>MUNICIPIO</th>\n",
              "      <th>CANTIDAD</th>\n",
              "      <th>DATO_PRELIMINAR</th>\n",
              "      <th>FECHA_DIA</th>\n",
              "      <th>FECHA_ORDINAL</th>\n",
              "      <th>FECHA_MES</th>\n",
              "    </tr>\n",
              "  </thead>\n",
              "  <tbody>\n",
              "    <tr>\n",
              "      <th>0</th>\n",
              "      <td>2023-01-01</td>\n",
              "      <td>MUNICIPALIDAD DE MERCEDES PROVINCIA DE BUENOS ...</td>\n",
              "      <td>1</td>\n",
              "      <td>SI</td>\n",
              "      <td>COLECTIVO</td>\n",
              "      <td>MUNICIPAL</td>\n",
              "      <td>BUENOS AIRES</td>\n",
              "      <td>MERCEDES</td>\n",
              "      <td>61</td>\n",
              "      <td>NO</td>\n",
              "      <td>Sun</td>\n",
              "      <td>1</td>\n",
              "      <td>01</td>\n",
              "    </tr>\n",
              "    <tr>\n",
              "      <th>1</th>\n",
              "      <td>2023-01-01</td>\n",
              "      <td>MUNICIPALIDAD DE MERCEDES PROVINCIA DE BUENOS ...</td>\n",
              "      <td>2B</td>\n",
              "      <td>SI</td>\n",
              "      <td>COLECTIVO</td>\n",
              "      <td>MUNICIPAL</td>\n",
              "      <td>BUENOS AIRES</td>\n",
              "      <td>MERCEDES</td>\n",
              "      <td>11</td>\n",
              "      <td>NO</td>\n",
              "      <td>Sun</td>\n",
              "      <td>1</td>\n",
              "      <td>01</td>\n",
              "    </tr>\n",
              "    <tr>\n",
              "      <th>2</th>\n",
              "      <td>2023-01-01</td>\n",
              "      <td>EMPRESA BATAN S.A.</td>\n",
              "      <td>BS_AS_LINEA 715M</td>\n",
              "      <td>NO</td>\n",
              "      <td>COLECTIVO</td>\n",
              "      <td>MUNICIPAL</td>\n",
              "      <td>BUENOS AIRES</td>\n",
              "      <td>GENERAL PUEYRREDON</td>\n",
              "      <td>1707</td>\n",
              "      <td>NO</td>\n",
              "      <td>Sun</td>\n",
              "      <td>1</td>\n",
              "      <td>01</td>\n",
              "    </tr>\n",
              "    <tr>\n",
              "      <th>3</th>\n",
              "      <td>2023-01-01</td>\n",
              "      <td>COMPAÑIA  DE TRANSPORTE VECINAL S.A.</td>\n",
              "      <td>BS_AS_LINEA_326</td>\n",
              "      <td>SI</td>\n",
              "      <td>COLECTIVO</td>\n",
              "      <td>PROVINCIAL</td>\n",
              "      <td>BUENOS AIRES</td>\n",
              "      <td>SN</td>\n",
              "      <td>438</td>\n",
              "      <td>NO</td>\n",
              "      <td>Sun</td>\n",
              "      <td>1</td>\n",
              "      <td>01</td>\n",
              "    </tr>\n",
              "    <tr>\n",
              "      <th>4</th>\n",
              "      <td>2023-01-01</td>\n",
              "      <td>EMPRESA DE TRANSPORTE PERALTA RAMOS SACI</td>\n",
              "      <td>BS_AS_LINEA_512</td>\n",
              "      <td>NO</td>\n",
              "      <td>COLECTIVO</td>\n",
              "      <td>MUNICIPAL</td>\n",
              "      <td>BUENOS AIRES</td>\n",
              "      <td>GENERAL PUEYRREDON</td>\n",
              "      <td>1189</td>\n",
              "      <td>NO</td>\n",
              "      <td>Sun</td>\n",
              "      <td>1</td>\n",
              "      <td>01</td>\n",
              "    </tr>\n",
              "  </tbody>\n",
              "</table>\n",
              "</div>\n",
              "    <div class=\"colab-df-buttons\">\n",
              "\n",
              "  <div class=\"colab-df-container\">\n",
              "    <button class=\"colab-df-convert\" onclick=\"convertToInteractive('df-40ea4820-f99b-4020-89a7-a861e67c34b3')\"\n",
              "            title=\"Convert this dataframe to an interactive table.\"\n",
              "            style=\"display:none;\">\n",
              "\n",
              "  <svg xmlns=\"http://www.w3.org/2000/svg\" height=\"24px\" viewBox=\"0 -960 960 960\">\n",
              "    <path d=\"M120-120v-720h720v720H120Zm60-500h600v-160H180v160Zm220 220h160v-160H400v160Zm0 220h160v-160H400v160ZM180-400h160v-160H180v160Zm440 0h160v-160H620v160ZM180-180h160v-160H180v160Zm440 0h160v-160H620v160Z\"/>\n",
              "  </svg>\n",
              "    </button>\n",
              "\n",
              "  <style>\n",
              "    .colab-df-container {\n",
              "      display:flex;\n",
              "      gap: 12px;\n",
              "    }\n",
              "\n",
              "    .colab-df-convert {\n",
              "      background-color: #E8F0FE;\n",
              "      border: none;\n",
              "      border-radius: 50%;\n",
              "      cursor: pointer;\n",
              "      display: none;\n",
              "      fill: #1967D2;\n",
              "      height: 32px;\n",
              "      padding: 0 0 0 0;\n",
              "      width: 32px;\n",
              "    }\n",
              "\n",
              "    .colab-df-convert:hover {\n",
              "      background-color: #E2EBFA;\n",
              "      box-shadow: 0px 1px 2px rgba(60, 64, 67, 0.3), 0px 1px 3px 1px rgba(60, 64, 67, 0.15);\n",
              "      fill: #174EA6;\n",
              "    }\n",
              "\n",
              "    .colab-df-buttons div {\n",
              "      margin-bottom: 4px;\n",
              "    }\n",
              "\n",
              "    [theme=dark] .colab-df-convert {\n",
              "      background-color: #3B4455;\n",
              "      fill: #D2E3FC;\n",
              "    }\n",
              "\n",
              "    [theme=dark] .colab-df-convert:hover {\n",
              "      background-color: #434B5C;\n",
              "      box-shadow: 0px 1px 3px 1px rgba(0, 0, 0, 0.15);\n",
              "      filter: drop-shadow(0px 1px 2px rgba(0, 0, 0, 0.3));\n",
              "      fill: #FFFFFF;\n",
              "    }\n",
              "  </style>\n",
              "\n",
              "    <script>\n",
              "      const buttonEl =\n",
              "        document.querySelector('#df-40ea4820-f99b-4020-89a7-a861e67c34b3 button.colab-df-convert');\n",
              "      buttonEl.style.display =\n",
              "        google.colab.kernel.accessAllowed ? 'block' : 'none';\n",
              "\n",
              "      async function convertToInteractive(key) {\n",
              "        const element = document.querySelector('#df-40ea4820-f99b-4020-89a7-a861e67c34b3');\n",
              "        const dataTable =\n",
              "          await google.colab.kernel.invokeFunction('convertToInteractive',\n",
              "                                                    [key], {});\n",
              "        if (!dataTable) return;\n",
              "\n",
              "        const docLinkHtml = 'Like what you see? Visit the ' +\n",
              "          '<a target=\"_blank\" href=https://colab.research.google.com/notebooks/data_table.ipynb>data table notebook</a>'\n",
              "          + ' to learn more about interactive tables.';\n",
              "        element.innerHTML = '';\n",
              "        dataTable['output_type'] = 'display_data';\n",
              "        await google.colab.output.renderOutput(dataTable, element);\n",
              "        const docLink = document.createElement('div');\n",
              "        docLink.innerHTML = docLinkHtml;\n",
              "        element.appendChild(docLink);\n",
              "      }\n",
              "    </script>\n",
              "  </div>\n",
              "\n",
              "\n",
              "<div id=\"df-e6bede1f-8e5d-4f27-afa8-68c3b4744e73\">\n",
              "  <button class=\"colab-df-quickchart\" onclick=\"quickchart('df-e6bede1f-8e5d-4f27-afa8-68c3b4744e73')\"\n",
              "            title=\"Suggest charts\"\n",
              "            style=\"display:none;\">\n",
              "\n",
              "<svg xmlns=\"http://www.w3.org/2000/svg\" height=\"24px\"viewBox=\"0 0 24 24\"\n",
              "     width=\"24px\">\n",
              "    <g>\n",
              "        <path d=\"M19 3H5c-1.1 0-2 .9-2 2v14c0 1.1.9 2 2 2h14c1.1 0 2-.9 2-2V5c0-1.1-.9-2-2-2zM9 17H7v-7h2v7zm4 0h-2V7h2v10zm4 0h-2v-4h2v4z\"/>\n",
              "    </g>\n",
              "</svg>\n",
              "  </button>\n",
              "\n",
              "<style>\n",
              "  .colab-df-quickchart {\n",
              "      --bg-color: #E8F0FE;\n",
              "      --fill-color: #1967D2;\n",
              "      --hover-bg-color: #E2EBFA;\n",
              "      --hover-fill-color: #174EA6;\n",
              "      --disabled-fill-color: #AAA;\n",
              "      --disabled-bg-color: #DDD;\n",
              "  }\n",
              "\n",
              "  [theme=dark] .colab-df-quickchart {\n",
              "      --bg-color: #3B4455;\n",
              "      --fill-color: #D2E3FC;\n",
              "      --hover-bg-color: #434B5C;\n",
              "      --hover-fill-color: #FFFFFF;\n",
              "      --disabled-bg-color: #3B4455;\n",
              "      --disabled-fill-color: #666;\n",
              "  }\n",
              "\n",
              "  .colab-df-quickchart {\n",
              "    background-color: var(--bg-color);\n",
              "    border: none;\n",
              "    border-radius: 50%;\n",
              "    cursor: pointer;\n",
              "    display: none;\n",
              "    fill: var(--fill-color);\n",
              "    height: 32px;\n",
              "    padding: 0;\n",
              "    width: 32px;\n",
              "  }\n",
              "\n",
              "  .colab-df-quickchart:hover {\n",
              "    background-color: var(--hover-bg-color);\n",
              "    box-shadow: 0 1px 2px rgba(60, 64, 67, 0.3), 0 1px 3px 1px rgba(60, 64, 67, 0.15);\n",
              "    fill: var(--button-hover-fill-color);\n",
              "  }\n",
              "\n",
              "  .colab-df-quickchart-complete:disabled,\n",
              "  .colab-df-quickchart-complete:disabled:hover {\n",
              "    background-color: var(--disabled-bg-color);\n",
              "    fill: var(--disabled-fill-color);\n",
              "    box-shadow: none;\n",
              "  }\n",
              "\n",
              "  .colab-df-spinner {\n",
              "    border: 2px solid var(--fill-color);\n",
              "    border-color: transparent;\n",
              "    border-bottom-color: var(--fill-color);\n",
              "    animation:\n",
              "      spin 1s steps(1) infinite;\n",
              "  }\n",
              "\n",
              "  @keyframes spin {\n",
              "    0% {\n",
              "      border-color: transparent;\n",
              "      border-bottom-color: var(--fill-color);\n",
              "      border-left-color: var(--fill-color);\n",
              "    }\n",
              "    20% {\n",
              "      border-color: transparent;\n",
              "      border-left-color: var(--fill-color);\n",
              "      border-top-color: var(--fill-color);\n",
              "    }\n",
              "    30% {\n",
              "      border-color: transparent;\n",
              "      border-left-color: var(--fill-color);\n",
              "      border-top-color: var(--fill-color);\n",
              "      border-right-color: var(--fill-color);\n",
              "    }\n",
              "    40% {\n",
              "      border-color: transparent;\n",
              "      border-right-color: var(--fill-color);\n",
              "      border-top-color: var(--fill-color);\n",
              "    }\n",
              "    60% {\n",
              "      border-color: transparent;\n",
              "      border-right-color: var(--fill-color);\n",
              "    }\n",
              "    80% {\n",
              "      border-color: transparent;\n",
              "      border-right-color: var(--fill-color);\n",
              "      border-bottom-color: var(--fill-color);\n",
              "    }\n",
              "    90% {\n",
              "      border-color: transparent;\n",
              "      border-bottom-color: var(--fill-color);\n",
              "    }\n",
              "  }\n",
              "</style>\n",
              "\n",
              "  <script>\n",
              "    async function quickchart(key) {\n",
              "      const quickchartButtonEl =\n",
              "        document.querySelector('#' + key + ' button');\n",
              "      quickchartButtonEl.disabled = true;  // To prevent multiple clicks.\n",
              "      quickchartButtonEl.classList.add('colab-df-spinner');\n",
              "      try {\n",
              "        const charts = await google.colab.kernel.invokeFunction(\n",
              "            'suggestCharts', [key], {});\n",
              "      } catch (error) {\n",
              "        console.error('Error during call to suggestCharts:', error);\n",
              "      }\n",
              "      quickchartButtonEl.classList.remove('colab-df-spinner');\n",
              "      quickchartButtonEl.classList.add('colab-df-quickchart-complete');\n",
              "    }\n",
              "    (() => {\n",
              "      let quickchartButtonEl =\n",
              "        document.querySelector('#df-e6bede1f-8e5d-4f27-afa8-68c3b4744e73 button');\n",
              "      quickchartButtonEl.style.display =\n",
              "        google.colab.kernel.accessAllowed ? 'block' : 'none';\n",
              "    })();\n",
              "  </script>\n",
              "</div>\n",
              "\n",
              "    </div>\n",
              "  </div>\n"
            ],
            "text/plain": [
              "  DIA_TRANSPORTE                                     NOMBRE_EMPRESA  \\\n",
              "0     2023-01-01  MUNICIPALIDAD DE MERCEDES PROVINCIA DE BUENOS ...   \n",
              "1     2023-01-01  MUNICIPALIDAD DE MERCEDES PROVINCIA DE BUENOS ...   \n",
              "2     2023-01-01                                 EMPRESA BATAN S.A.   \n",
              "3     2023-01-01               COMPAÑIA  DE TRANSPORTE VECINAL S.A.   \n",
              "4     2023-01-01           EMPRESA DE TRANSPORTE PERALTA RAMOS SACI   \n",
              "\n",
              "              LINEA AMBA TIPO_TRANSPORTE JURISDICCION     PROVINCIA  \\\n",
              "0                 1   SI       COLECTIVO    MUNICIPAL  BUENOS AIRES   \n",
              "1                2B   SI       COLECTIVO    MUNICIPAL  BUENOS AIRES   \n",
              "2  BS_AS_LINEA 715M   NO       COLECTIVO    MUNICIPAL  BUENOS AIRES   \n",
              "3   BS_AS_LINEA_326   SI       COLECTIVO   PROVINCIAL  BUENOS AIRES   \n",
              "4   BS_AS_LINEA_512   NO       COLECTIVO    MUNICIPAL  BUENOS AIRES   \n",
              "\n",
              "            MUNICIPIO  CANTIDAD DATO_PRELIMINAR FECHA_DIA  FECHA_ORDINAL  \\\n",
              "0            MERCEDES        61              NO       Sun              1   \n",
              "1            MERCEDES        11              NO       Sun              1   \n",
              "2  GENERAL PUEYRREDON      1707              NO       Sun              1   \n",
              "3                  SN       438              NO       Sun              1   \n",
              "4  GENERAL PUEYRREDON      1189              NO       Sun              1   \n",
              "\n",
              "  FECHA_MES  \n",
              "0        01  \n",
              "1        01  \n",
              "2        01  \n",
              "3        01  \n",
              "4        01  "
            ]
          },
          "execution_count": 15,
          "metadata": {},
          "output_type": "execute_result"
        }
      ],
      "source": [
        "SUBE_2023.head()"
      ]
    },
    {
      "cell_type": "markdown",
      "id": "7OAcSALiC4vG",
      "metadata": {
        "id": "7OAcSALiC4vG"
      },
      "source": [
        "##2)"
      ]
    },
    {
      "cell_type": "markdown",
      "id": "a-X84K18C7U1",
      "metadata": {
        "id": "a-X84K18C7U1"
      },
      "source": [
        "Texto 2)"
      ]
    },
    {
      "cell_type": "code",
      "execution_count": null,
      "id": "4pvNM3qBC6hk",
      "metadata": {
        "colab": {
          "base_uri": "https://localhost:8080/",
          "height": 206
        },
        "id": "4pvNM3qBC6hk",
        "outputId": "0b3814c7-9665-47ae-fd44-a96a626e9b4e"
      },
      "outputs": [
        {
          "ename": "",
          "evalue": "",
          "output_type": "error",
          "traceback": [
            "\u001b[1;31mRunning cells with 'Python 3.8.3' requires the ipykernel package.\n",
            "\u001b[1;31mRun the following command to install 'ipykernel' into the Python environment. \n",
            "\u001b[1;31mCommand: 'c:/Python38/python.exe -m pip install ipykernel -U --user --force-reinstall'"
          ]
        }
      ],
      "source": [
        "datos_amba = SUBE_2023[np.logical_and(SUBE_2023['AMBA'] == 'SI', SUBE_2023['DATO_PRELIMINAR'] == 'NO')]\n",
        "columnas_datos_amba = ['DIA_TRANSPORTE','FECHA_DIA','FECHA_MES','FECHA_ORDINAL','JURISDICCION','LINEA','CANTIDAD','TIPO_TRANSPORTE']\n",
        "datos_amba = datos_amba[columnas_datos_amba].rename(columns = {'DIA_TRANSPORTE' : 'FECHA', 'CANTIDAD' : 'PASAJEROS'}).rename(columns=str.lower).reset_index().drop([\"index\"], axis = 1)#JOACO METIO MANO ACA PARA RESETEAR INDICES\n",
        "datos_amba.head()"
      ]
    },
    {
      "cell_type": "markdown",
      "id": "0drQBP_8JewC",
      "metadata": {
        "id": "0drQBP_8JewC"
      },
      "source": [
        "##3)"
      ]
    },
    {
      "cell_type": "markdown",
      "id": "I4-Qh4PPJfy0",
      "metadata": {
        "id": "I4-Qh4PPJfy0"
      },
      "source": [
        "###a)"
      ]
    },
    {
      "cell_type": "markdown",
      "id": "ip2u7hlMJgzu",
      "metadata": {
        "id": "ip2u7hlMJgzu"
      },
      "source": [
        "Texto 3)a)"
      ]
    },
    {
      "cell_type": "code",
      "execution_count": 24,
      "id": "mdqxyo-dhnMA",
      "metadata": {
        "colab": {
          "base_uri": "https://localhost:8080/"
        },
        "id": "mdqxyo-dhnMA",
        "outputId": "d6dc2ca5-1657-4e42-b089-a6b59d6b79a8"
      },
      "outputs": [
        {
          "data": {
            "text/plain": [
              "array(['COLECTIVO', 'TREN', 'SUBTE'], dtype=object)"
            ]
          },
          "execution_count": 24,
          "metadata": {},
          "output_type": "execute_result"
        }
      ],
      "source": [
        "datos_amba['tipo_transporte'].unique() #Ver qué tipos de transporte hay"
      ]
    },
    {
      "cell_type": "code",
      "execution_count": 32,
      "id": "d8C3sNGYJh15",
      "metadata": {
        "colab": {
          "base_uri": "https://localhost:8080/"
        },
        "id": "d8C3sNGYJh15",
        "outputId": "da4f28b7-4d5b-4aa1-d7d5-16a8ce18adc6"
      },
      "outputs": [
        {
          "name": "stdout",
          "output_type": "stream",
          "text": [
            "Porcentaje anual en colectivo: 83.76%\n",
            "Porcentaje anual en tren: 9.43%\n",
            "Porcentaje anual en subte: 6.81%\n"
          ]
        }
      ],
      "source": [
        "total_pasajeros_amba = datos_amba['pasajeros'].sum()\n",
        "\n",
        "datos_amba_colectivo = datos_amba[datos_amba['tipo_transporte'] == 'COLECTIVO']\n",
        "datos_amba_tren = datos_amba[datos_amba['tipo_transporte'] == 'TREN']\n",
        "datos_amba_subte = datos_amba[datos_amba['tipo_transporte'] == 'SUBTE']\n",
        "\n",
        "pasajeros_colectivo_amba = datos_amba_colectivo['pasajeros'].sum()\n",
        "pasajeros_tren_amba = datos_amba_tren['pasajeros'].sum()\n",
        "pasajeros_subte_amba = datos_amba_subte['pasajeros'].sum()\n",
        "\n",
        "porcentaje_pasajeros_colectivo = pasajeros_colectivo_amba * 100 / total_pasajeros_amba\n",
        "porcentaje_pasajeros_tren = pasajeros_tren_amba * 100 / total_pasajeros_amba\n",
        "porcentaje_pasajeros_subte = pasajeros_subte_amba * 100 / total_pasajeros_amba\n",
        "\n",
        "print('Porcentaje anual en colectivo:', str(round(porcentaje_pasajeros_colectivo, 2)) + '%')\n",
        "print('Porcentaje anual en tren:', str(round(porcentaje_pasajeros_tren, 2)) + '%')\n",
        "print('Porcentaje anual en subte:', str(round(porcentaje_pasajeros_subte, 2)) + '%')"
      ]
    },
    {
      "cell_type": "markdown",
      "id": "w8OBsexpldq4",
      "metadata": {
        "id": "w8OBsexpldq4"
      },
      "source": [
        "###b)"
      ]
    },
    {
      "cell_type": "markdown",
      "id": "N6ho7FellfEn",
      "metadata": {
        "id": "N6ho7FellfEn"
      },
      "source": [
        "Texto 3)b)"
      ]
    },
    {
      "cell_type": "code",
      "execution_count": 50,
      "id": "sIiON3wnlgLX",
      "metadata": {
        "colab": {
          "base_uri": "https://localhost:8080/"
        },
        "id": "sIiON3wnlgLX",
        "outputId": "1d9bad8b-f129-4630-923b-44cb6fd2bce9"
      },
      "outputs": [
        {
          "name": "stdout",
          "output_type": "stream",
          "text": [
            "Mes y linea con mayor cantidad de pasajeros en subte: ('12', 'LINEA_B')\n"
          ]
        }
      ],
      "source": [
        "fila_record_subte_amba = datos_amba_subte.nlargest(1, 'pasajeros').iloc[0]\n",
        "\n",
        "record_subte = mes_record_subte, linea_record_subte = fila_record_subte_amba['fecha_mes'], fila_record_subte_amba['linea']\n",
        "\n",
        "print('Mes y linea con mayor cantidad de pasajeros en subte:', record_subte)"
      ]
    },
    {
      "cell_type": "markdown",
      "id": "IRfTfSnJsGId",
      "metadata": {
        "id": "IRfTfSnJsGId"
      },
      "source": [
        "###c)"
      ]
    },
    {
      "cell_type": "markdown",
      "id": "A0u1b9hLsHOA",
      "metadata": {
        "id": "A0u1b9hLsHOA"
      },
      "source": [
        "Texto 3)c)"
      ]
    },
    {
      "cell_type": "code",
      "execution_count": 67,
      "id": "4O1HxABGsITL",
      "metadata": {
        "colab": {
          "base_uri": "https://localhost:8080/",
          "height": 35
        },
        "id": "4O1HxABGsITL",
        "outputId": "bf95a131-0600-41ce-f4ec-f251951d81c9"
      },
      "outputs": [
        {
          "data": {
            "application/vnd.google.colaboratory.intrinsic+json": {
              "type": "string"
            },
            "text/plain": [
              "'Mon'"
            ]
          },
          "execution_count": 67,
          "metadata": {},
          "output_type": "execute_result"
        }
      ],
      "source": [
        "dia_habil_menor_std = datos_amba.groupby('fecha_dia')['pasajeros'].std().drop(['Sun','Sat']).idxmin()\n",
        "dia_habil_menor_std"
      ]
    },
    {
      "cell_type": "code",
      "execution_count": null,
      "id": "7afbf900",
      "metadata": {},
      "outputs": [],
      "source": [
        "subtes = datos_amba[datos_amba[\"tipo_transporte\"]==\"SUBTE\"].reset_index().drop([\"index\"], axis = 1) #CREO A PARTIR DE AMBA UN DATAFRAME DE SUBTE PARA ESTUDIARLO\n",
        "subtes = subtes[subtes[\"linea\"] != \"LIN_PREMETRO\"] #EXCLUIMOS PREMETRO POR LA ESCASES DE DATOS EN COMPARACION A LAS OTRAS LINEAS\n",
        "subtes[\"linea\"].replace({\"LINEA_A\": \"LINEA SUBTE A\", \"LINEA_B\": \"LINEA SUBTE B\"}, inplace = True)\n",
        "\n",
        "\n",
        "promedio_por_mes = subtes.groupby('fecha_mes')['pasajeros'].sum() / subtes['linea'].nunique()\n",
        "promedio_subtes = pd.DataFrame({'fecha_mes': promedio_por_mes.index, 'promedio': promedio_por_mes}).drop([\"fecha_mes\"], axis = 1)\n",
        "subtes = pd.merge(subtes, promedio_subtes, on='fecha_mes')\n",
        "\n",
        "\n",
        "subtes"
      ]
    },
    {
      "cell_type": "code",
      "execution_count": null,
      "id": "75aebe1d",
      "metadata": {},
      "outputs": [],
      "source": [
        "#GRAICOS SUELTOS COMO PARA HACER ALGO\n",
        "df_agrupado = SUBE_2023.groupby('AMBA')['CANTIDAD'].sum().reset_index()\n",
        "(\n",
        "    so.Plot(data = df_agrupado, x = \"AMBA\", y = \"CANTIDAD\")\n",
        "    .add(so.Bar())\n",
        ")"
      ]
    },
    {
      "cell_type": "code",
      "execution_count": null,
      "id": "c77cad73",
      "metadata": {},
      "outputs": [],
      "source": [
        "amba_agrupados = datos_amba.groupby('tipo_transporte')['pasajeros'].sum().reset_index()\n",
        "(\n",
        "    so.Plot(data = amba_agrupados, x = \"tipo_transporte\", y = \"pasajeros\")\n",
        "    .add(so.Bar())\n",
        ")"
      ]
    },
    {
      "cell_type": "code",
      "execution_count": null,
      "id": "955423d8",
      "metadata": {},
      "outputs": [],
      "source": [
        "#GRAFICO PASAJEROS POR LINEA\n",
        "\n",
        "#MODIFICAMOS COLORES SEGUN LINEA\n",
        "linea_colores = {\n",
        "    'LINEA SUBTE A': '#0fb7d9', # azul\n",
        "    'LINEA SUBTE B': '#d60b15', # azul\n",
        "    'LINEA SUBTE C': '#0220c7', # azul\n",
        "    'LINEA SUBTE D': '#075202', # azul\n",
        "    'LINEA SUBTE E': '#23096b', # azul\n",
        "    'LINEA SUBTE H': '#e3dd22', # azul\n",
        "}\n",
        "\n",
        "\n",
        "\n",
        "(\n",
        "    so.Plot(data = subtes, x = \"fecha_mes\", y = \"pasajeros\", color=\"linea\") #REWVISAR COLORES LINEAS PARA MATCHEAR CON COLORES ORIGINALES\n",
        "    .add(so.Line(color = \"#000000\"), x = \"fecha_mes\", y = \"promedio\",  label = \"PROMEDIO\" ) #PROMEDIO ENTRE TODAS LAS LINEAS\n",
        "    .add(so.Dot(color = \"#000000\"), x = \"fecha_mes\", y = \"promedio\") #PROMEDIO ENTRE TODAS LAS LINEAS\n",
        "    .add(so.Dot(), so.Agg(\"sum\"))\n",
        "    .add(so.Line(), so.Agg(\"sum\"))\n",
        "    .scale(color=linea_colores)\n",
        "    .label(x=\"Meses\", y=\"Cantidad de Pasajeros\", title=\"Pasajeros por linea de subte 2023\")\n",
        ")\n",
        "\n",
        "#AUMENTA EL USO DEL SUBTE EN MARZO POR FINALIZACION DE LA EPOCA VACACIONAL\n",
        "#CAIDA LINEA D EN DICIEMBRE PUEDE RELACIONARES CON LAS OBRAS QUE ESTABAN POR COMENZAR\n",
        "#CAIDA LINEA A EN MARZO/ABRIL SE DEBE A REFORMAS EN CIERTAS ESTACIONES DE LA MISMA"
      ]
    }
  ],
  "metadata": {
    "colab": {
      "provenance": []
    },
    "kernelspec": {
      "display_name": "Python 3 (ipykernel)",
      "language": "python",
      "name": "python3"
    },
    "language_info": {
      "codemirror_mode": {
        "name": "ipython",
        "version": 3
      },
      "file_extension": ".py",
      "mimetype": "text/x-python",
      "name": "python",
      "nbconvert_exporter": "python",
      "pygments_lexer": "ipython3",
      "version": "3.8.3"
    }
  },
  "nbformat": 4,
  "nbformat_minor": 5
}
