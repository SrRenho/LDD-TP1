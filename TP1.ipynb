{
 "cells": [
  {
   "cell_type": "markdown",
   "id": "s2w9pPvGs9g9",
   "metadata": {
    "id": "s2w9pPvGs9g9"
   },
   "source": [
    "# TP1 - Laboratorio de Datos\n",
    "-----------------------------\n",
    "\n",
    "## 1er Cuatrimestre - 2024\n",
    "\n",
    "#### _Iván Exequiel Pintos - Joaquín Rovner - Juan José García Vizioli_\n",
    "______________"
   ]
  },
  {
   "cell_type": "markdown",
   "id": "711a03a3",
   "metadata": {
    "id": "711a03a3"
   },
   "source": [
    "- Importamos todas las librerías que venimos usando:"
   ]
  },
  {
   "cell_type": "code",
   "execution_count": 60,
   "id": "6b39afcc",
   "metadata": {
    "id": "6b39afcc"
   },
   "outputs": [],
   "source": [
    "import seaborn as sns\n",
    "from sklearn.model_selection import KFold\n",
    "import matplotlib.pyplot as plt\n",
    "import seaborn.objects as so\n",
    "\n",
    "from scipy import stats\n",
    "import numpy as np\n",
    "import pandas as pd\n",
    "from sklearn.linear_model import LinearRegression\n",
    "from sklearn.model_selection import train_test_split\n",
    "#from formulaic import model_matrix"
   ]
  },
  {
   "cell_type": "markdown",
   "id": "c4694286",
   "metadata": {
    "id": "c4694286"
   },
   "source": [
    "- Leemos el dataset:"
   ]
  },
  {
   "cell_type": "code",
   "execution_count": 61,
   "id": "pjecMvo0ujF7",
   "metadata": {
    "cellView": "form",
    "colab": {
     "base_uri": "https://localhost:8080/"
    },
    "id": "pjecMvo0ujF7",
    "outputId": "c034beb2-5f46-4085-cfca-4022d11447d8"
   },
   "outputs": [
    {
     "ename": "ModuleNotFoundError",
     "evalue": "No module named 'google.colab'",
     "output_type": "error",
     "traceback": [
      "\u001b[1;31m---------------------------------------------------------------------------\u001b[0m",
      "\u001b[1;31mModuleNotFoundError\u001b[0m                       Traceback (most recent call last)",
      "Cell \u001b[1;32mIn[61], line 3\u001b[0m\n\u001b[0;32m      1\u001b[0m \u001b[38;5;66;03m#@title Usando Colab\u001b[39;00m\n\u001b[1;32m----> 3\u001b[0m \u001b[38;5;28;01mfrom\u001b[39;00m \u001b[38;5;21;01mgoogle\u001b[39;00m\u001b[38;5;21;01m.\u001b[39;00m\u001b[38;5;21;01mcolab\u001b[39;00m \u001b[38;5;28;01mimport\u001b[39;00m drive\n\u001b[0;32m      4\u001b[0m drive\u001b[38;5;241m.\u001b[39mmount(\u001b[38;5;124m'\u001b[39m\u001b[38;5;124m/content/drive\u001b[39m\u001b[38;5;124m'\u001b[39m)\n\u001b[0;32m      6\u001b[0m sube_2023_file_path \u001b[38;5;241m=\u001b[39m \u001b[38;5;124m'\u001b[39m\u001b[38;5;124m/content/drive/My Drive/LDD-TP1/sube-2023.csv\u001b[39m\u001b[38;5;124m'\u001b[39m\n",
      "\u001b[1;31mModuleNotFoundError\u001b[0m: No module named 'google.colab'"
     ]
    }
   ],
   "source": [
    "#@title Usando Colab\n",
    "\n",
    "from google.colab import drive\n",
    "drive.mount('/content/drive')\n",
    "\n",
    "sube_2023_file_path = '/content/drive/My Drive/LDD-TP1/sube-2023.csv'"
   ]
  },
  {
   "cell_type": "code",
   "execution_count": 62,
   "id": "raKXEkiYvB_j",
   "metadata": {
    "cellView": "form",
    "id": "raKXEkiYvB_j"
   },
   "outputs": [],
   "source": [
    "#@title Usando Jupyter\n",
    "\n",
    "sube_2023_file_path = '../LDD-TP1/sube-2023.csv'"
   ]
  },
  {
   "cell_type": "code",
   "execution_count": 63,
   "id": "89f2a77d",
   "metadata": {
    "id": "89f2a77d"
   },
   "outputs": [],
   "source": [
    "SUBE_2023 = pd.read_csv(sube_2023_file_path)"
   ]
  },
  {
   "cell_type": "markdown",
   "id": "0QRFRjYj2Q2Y",
   "metadata": {
    "id": "0QRFRjYj2Q2Y",
    "jp-MarkdownHeadingCollapsed": true
   },
   "source": [
    "## Procesamiento de Datos\n"
   ]
  },
  {
   "cell_type": "markdown",
   "id": "a8a1134a",
   "metadata": {
    "id": "a8a1134a",
    "jp-MarkdownHeadingCollapsed": true
   },
   "source": [
    "### <br>Ejercicio 1) <br>"
   ]
  },
  {
   "cell_type": "markdown",
   "id": "6574211a",
   "metadata": {
    "id": "6574211a",
    "jp-MarkdownHeadingCollapsed": true
   },
   "source": [
    "#### a) Visualizamos el tipo de dato de cada columna: <br>"
   ]
  },
  {
   "cell_type": "code",
   "execution_count": 64,
   "id": "296bc4fe",
   "metadata": {
    "colab": {
     "base_uri": "https://localhost:8080/"
    },
    "id": "296bc4fe",
    "outputId": "5dac8fbf-e22e-4316-a125-bff937975259"
   },
   "outputs": [
    {
     "data": {
      "text/html": [
       "<div>\n",
       "<style scoped>\n",
       "    .dataframe tbody tr th:only-of-type {\n",
       "        vertical-align: middle;\n",
       "    }\n",
       "\n",
       "    .dataframe tbody tr th {\n",
       "        vertical-align: top;\n",
       "    }\n",
       "\n",
       "    .dataframe thead th {\n",
       "        text-align: right;\n",
       "    }\n",
       "</style>\n",
       "<table border=\"1\" class=\"dataframe\">\n",
       "  <thead>\n",
       "    <tr style=\"text-align: right;\">\n",
       "      <th></th>\n",
       "      <th>COLUMNA</th>\n",
       "      <th>TIPO DE DATO</th>\n",
       "    </tr>\n",
       "  </thead>\n",
       "  <tbody>\n",
       "    <tr>\n",
       "      <th>0</th>\n",
       "      <td>DIA_TRANSPORTE</td>\n",
       "      <td>&lt;class 'str'&gt;</td>\n",
       "    </tr>\n",
       "    <tr>\n",
       "      <th>1</th>\n",
       "      <td>NOMBRE_EMPRESA</td>\n",
       "      <td>&lt;class 'str'&gt;</td>\n",
       "    </tr>\n",
       "    <tr>\n",
       "      <th>2</th>\n",
       "      <td>LINEA</td>\n",
       "      <td>&lt;class 'str'&gt;</td>\n",
       "    </tr>\n",
       "    <tr>\n",
       "      <th>3</th>\n",
       "      <td>AMBA</td>\n",
       "      <td>&lt;class 'str'&gt;</td>\n",
       "    </tr>\n",
       "    <tr>\n",
       "      <th>4</th>\n",
       "      <td>TIPO_TRANSPORTE</td>\n",
       "      <td>&lt;class 'str'&gt;</td>\n",
       "    </tr>\n",
       "    <tr>\n",
       "      <th>5</th>\n",
       "      <td>JURISDICCION</td>\n",
       "      <td>&lt;class 'str'&gt;</td>\n",
       "    </tr>\n",
       "    <tr>\n",
       "      <th>6</th>\n",
       "      <td>PROVINCIA</td>\n",
       "      <td>&lt;class 'str'&gt;</td>\n",
       "    </tr>\n",
       "    <tr>\n",
       "      <th>7</th>\n",
       "      <td>MUNICIPIO</td>\n",
       "      <td>&lt;class 'str'&gt;</td>\n",
       "    </tr>\n",
       "    <tr>\n",
       "      <th>8</th>\n",
       "      <td>CANTIDAD</td>\n",
       "      <td>&lt;class 'numpy.int64'&gt;</td>\n",
       "    </tr>\n",
       "    <tr>\n",
       "      <th>9</th>\n",
       "      <td>DATO_PRELIMINAR</td>\n",
       "      <td>&lt;class 'str'&gt;</td>\n",
       "    </tr>\n",
       "  </tbody>\n",
       "</table>\n",
       "</div>"
      ],
      "text/plain": [
       "           COLUMNA           TIPO DE DATO\n",
       "0   DIA_TRANSPORTE          <class 'str'>\n",
       "1   NOMBRE_EMPRESA          <class 'str'>\n",
       "2            LINEA          <class 'str'>\n",
       "3             AMBA          <class 'str'>\n",
       "4  TIPO_TRANSPORTE          <class 'str'>\n",
       "5     JURISDICCION          <class 'str'>\n",
       "6        PROVINCIA          <class 'str'>\n",
       "7        MUNICIPIO          <class 'str'>\n",
       "8         CANTIDAD  <class 'numpy.int64'>\n",
       "9  DATO_PRELIMINAR          <class 'str'>"
      ]
     },
     "metadata": {},
     "output_type": "display_data"
    }
   ],
   "source": [
    "#Definimos una función que nos permita ver el tipo de dato correspondiente a cada columna del DataFrame.\n",
    "\n",
    "def ver_tipos_datos_columnas(df):\n",
    "    if not isinstance(df, pd.DataFrame):\n",
    "        df = pd.DataFrame(df)\n",
    "    lista = [] \n",
    "    for col in df:\n",
    "        lista.append([col,type(df[col][0])])\n",
    "    display(pd.DataFrame(lista, columns = [\"COLUMNA\",\"TIPO DE DATO\"]))\n",
    "    \n",
    "ver_tipos_datos_columnas(SUBE_2023)"
   ]
  },
  {
   "cell_type": "markdown",
   "id": "2w13x8xuvvmv",
   "metadata": {
    "id": "2w13x8xuvvmv",
    "jp-MarkdownHeadingCollapsed": true
   },
   "source": [
    "#### <br> ... Luego, le cambiamos el formato a la columna DIA_TRANSPORTE:<br>"
   ]
  },
  {
   "cell_type": "code",
   "execution_count": 65,
   "id": "e4ae94e5",
   "metadata": {
    "id": "e4ae94e5"
   },
   "outputs": [],
   "source": [
    "SUBE_2023['DIA_TRANSPORTE'] = pd.to_datetime(SUBE_2023['DIA_TRANSPORTE']) #investigar argumento \"format\""
   ]
  },
  {
   "cell_type": "markdown",
   "id": "SUft88-2wHZW",
   "metadata": {
    "id": "SUft88-2wHZW"
   },
   "source": [
    "*Corroboramos que el tipo de dato de la columna ahora es un time_stamp:*"
   ]
  },
  {
   "cell_type": "code",
   "execution_count": 66,
   "id": "wXhYWeYzwM-P",
   "metadata": {
    "colab": {
     "base_uri": "https://localhost:8080/"
    },
    "id": "wXhYWeYzwM-P",
    "outputId": "58e525af-66f2-41fe-bf25-55017b550dd0"
   },
   "outputs": [
    {
     "data": {
      "text/html": [
       "<div>\n",
       "<style scoped>\n",
       "    .dataframe tbody tr th:only-of-type {\n",
       "        vertical-align: middle;\n",
       "    }\n",
       "\n",
       "    .dataframe tbody tr th {\n",
       "        vertical-align: top;\n",
       "    }\n",
       "\n",
       "    .dataframe thead th {\n",
       "        text-align: right;\n",
       "    }\n",
       "</style>\n",
       "<table border=\"1\" class=\"dataframe\">\n",
       "  <thead>\n",
       "    <tr style=\"text-align: right;\">\n",
       "      <th></th>\n",
       "      <th>COLUMNA</th>\n",
       "      <th>TIPO DE DATO</th>\n",
       "    </tr>\n",
       "  </thead>\n",
       "  <tbody>\n",
       "    <tr>\n",
       "      <th>0</th>\n",
       "      <td>DIA_TRANSPORTE</td>\n",
       "      <td>&lt;class 'pandas._libs.tslibs.timestamps.Timesta...</td>\n",
       "    </tr>\n",
       "    <tr>\n",
       "      <th>1</th>\n",
       "      <td>NOMBRE_EMPRESA</td>\n",
       "      <td>&lt;class 'str'&gt;</td>\n",
       "    </tr>\n",
       "    <tr>\n",
       "      <th>2</th>\n",
       "      <td>LINEA</td>\n",
       "      <td>&lt;class 'str'&gt;</td>\n",
       "    </tr>\n",
       "    <tr>\n",
       "      <th>3</th>\n",
       "      <td>AMBA</td>\n",
       "      <td>&lt;class 'str'&gt;</td>\n",
       "    </tr>\n",
       "    <tr>\n",
       "      <th>4</th>\n",
       "      <td>TIPO_TRANSPORTE</td>\n",
       "      <td>&lt;class 'str'&gt;</td>\n",
       "    </tr>\n",
       "    <tr>\n",
       "      <th>5</th>\n",
       "      <td>JURISDICCION</td>\n",
       "      <td>&lt;class 'str'&gt;</td>\n",
       "    </tr>\n",
       "    <tr>\n",
       "      <th>6</th>\n",
       "      <td>PROVINCIA</td>\n",
       "      <td>&lt;class 'str'&gt;</td>\n",
       "    </tr>\n",
       "    <tr>\n",
       "      <th>7</th>\n",
       "      <td>MUNICIPIO</td>\n",
       "      <td>&lt;class 'str'&gt;</td>\n",
       "    </tr>\n",
       "    <tr>\n",
       "      <th>8</th>\n",
       "      <td>CANTIDAD</td>\n",
       "      <td>&lt;class 'numpy.int64'&gt;</td>\n",
       "    </tr>\n",
       "    <tr>\n",
       "      <th>9</th>\n",
       "      <td>DATO_PRELIMINAR</td>\n",
       "      <td>&lt;class 'str'&gt;</td>\n",
       "    </tr>\n",
       "  </tbody>\n",
       "</table>\n",
       "</div>"
      ],
      "text/plain": [
       "           COLUMNA                                       TIPO DE DATO\n",
       "0   DIA_TRANSPORTE  <class 'pandas._libs.tslibs.timestamps.Timesta...\n",
       "1   NOMBRE_EMPRESA                                      <class 'str'>\n",
       "2            LINEA                                      <class 'str'>\n",
       "3             AMBA                                      <class 'str'>\n",
       "4  TIPO_TRANSPORTE                                      <class 'str'>\n",
       "5     JURISDICCION                                      <class 'str'>\n",
       "6        PROVINCIA                                      <class 'str'>\n",
       "7        MUNICIPIO                                      <class 'str'>\n",
       "8         CANTIDAD                              <class 'numpy.int64'>\n",
       "9  DATO_PRELIMINAR                                      <class 'str'>"
      ]
     },
     "metadata": {},
     "output_type": "display_data"
    }
   ],
   "source": [
    "ver_tipos_datos_columnas(SUBE_2023)"
   ]
  },
  {
   "cell_type": "markdown",
   "id": "3JrkI3ewwXtJ",
   "metadata": {
    "id": "3JrkI3ewwXtJ"
   },
   "source": [
    "#### <br> b) i) Agregamos la columna FECHA_DIA a partir de DIA_TRANSPORTE <br>"
   ]
  },
  {
   "cell_type": "code",
   "execution_count": 67,
   "id": "8bab1642",
   "metadata": {
    "id": "8bab1642"
   },
   "outputs": [],
   "source": [
    "SUBE_2023[\"FECHA_DIA\"] = SUBE_2023['DIA_TRANSPORTE'].apply(lambda x : x.strftime('%a'))"
   ]
  },
  {
   "cell_type": "markdown",
   "id": "uWY6Qkku11gP",
   "metadata": {
    "id": "uWY6Qkku11gP"
   },
   "source": [
    "*Vemos que la columna sigue el formato de 3 letras en inglés pedido:*"
   ]
  },
  {
   "cell_type": "code",
   "execution_count": 68,
   "id": "b2a30386",
   "metadata": {
    "colab": {
     "base_uri": "https://localhost:8080/",
     "height": 206
    },
    "id": "b2a30386",
    "outputId": "451d5951-f58c-4aba-f904-4c2c1119b697"
   },
   "outputs": [
    {
     "data": {
      "text/html": [
       "<div>\n",
       "<style scoped>\n",
       "    .dataframe tbody tr th:only-of-type {\n",
       "        vertical-align: middle;\n",
       "    }\n",
       "\n",
       "    .dataframe tbody tr th {\n",
       "        vertical-align: top;\n",
       "    }\n",
       "\n",
       "    .dataframe thead th {\n",
       "        text-align: right;\n",
       "    }\n",
       "</style>\n",
       "<table border=\"1\" class=\"dataframe\">\n",
       "  <thead>\n",
       "    <tr style=\"text-align: right;\">\n",
       "      <th></th>\n",
       "      <th>DIA_TRANSPORTE</th>\n",
       "      <th>NOMBRE_EMPRESA</th>\n",
       "      <th>LINEA</th>\n",
       "      <th>AMBA</th>\n",
       "      <th>TIPO_TRANSPORTE</th>\n",
       "      <th>JURISDICCION</th>\n",
       "      <th>PROVINCIA</th>\n",
       "      <th>MUNICIPIO</th>\n",
       "      <th>CANTIDAD</th>\n",
       "      <th>DATO_PRELIMINAR</th>\n",
       "      <th>FECHA_DIA</th>\n",
       "    </tr>\n",
       "  </thead>\n",
       "  <tbody>\n",
       "    <tr>\n",
       "      <th>0</th>\n",
       "      <td>2023-01-01</td>\n",
       "      <td>MUNICIPALIDAD DE MERCEDES PROVINCIA DE BUENOS ...</td>\n",
       "      <td>1</td>\n",
       "      <td>SI</td>\n",
       "      <td>COLECTIVO</td>\n",
       "      <td>MUNICIPAL</td>\n",
       "      <td>BUENOS AIRES</td>\n",
       "      <td>MERCEDES</td>\n",
       "      <td>61</td>\n",
       "      <td>NO</td>\n",
       "      <td>Sun</td>\n",
       "    </tr>\n",
       "    <tr>\n",
       "      <th>1</th>\n",
       "      <td>2023-01-01</td>\n",
       "      <td>MUNICIPALIDAD DE MERCEDES PROVINCIA DE BUENOS ...</td>\n",
       "      <td>2B</td>\n",
       "      <td>SI</td>\n",
       "      <td>COLECTIVO</td>\n",
       "      <td>MUNICIPAL</td>\n",
       "      <td>BUENOS AIRES</td>\n",
       "      <td>MERCEDES</td>\n",
       "      <td>11</td>\n",
       "      <td>NO</td>\n",
       "      <td>Sun</td>\n",
       "    </tr>\n",
       "    <tr>\n",
       "      <th>2</th>\n",
       "      <td>2023-01-01</td>\n",
       "      <td>EMPRESA BATAN S.A.</td>\n",
       "      <td>BS_AS_LINEA 715M</td>\n",
       "      <td>NO</td>\n",
       "      <td>COLECTIVO</td>\n",
       "      <td>MUNICIPAL</td>\n",
       "      <td>BUENOS AIRES</td>\n",
       "      <td>GENERAL PUEYRREDON</td>\n",
       "      <td>1707</td>\n",
       "      <td>NO</td>\n",
       "      <td>Sun</td>\n",
       "    </tr>\n",
       "    <tr>\n",
       "      <th>3</th>\n",
       "      <td>2023-01-01</td>\n",
       "      <td>COMPAÑIA  DE TRANSPORTE VECINAL S.A.</td>\n",
       "      <td>BS_AS_LINEA_326</td>\n",
       "      <td>SI</td>\n",
       "      <td>COLECTIVO</td>\n",
       "      <td>PROVINCIAL</td>\n",
       "      <td>BUENOS AIRES</td>\n",
       "      <td>SN</td>\n",
       "      <td>438</td>\n",
       "      <td>NO</td>\n",
       "      <td>Sun</td>\n",
       "    </tr>\n",
       "    <tr>\n",
       "      <th>4</th>\n",
       "      <td>2023-01-01</td>\n",
       "      <td>EMPRESA DE TRANSPORTE PERALTA RAMOS SACI</td>\n",
       "      <td>BS_AS_LINEA_512</td>\n",
       "      <td>NO</td>\n",
       "      <td>COLECTIVO</td>\n",
       "      <td>MUNICIPAL</td>\n",
       "      <td>BUENOS AIRES</td>\n",
       "      <td>GENERAL PUEYRREDON</td>\n",
       "      <td>1189</td>\n",
       "      <td>NO</td>\n",
       "      <td>Sun</td>\n",
       "    </tr>\n",
       "  </tbody>\n",
       "</table>\n",
       "</div>"
      ],
      "text/plain": [
       "  DIA_TRANSPORTE                                     NOMBRE_EMPRESA  \\\n",
       "0     2023-01-01  MUNICIPALIDAD DE MERCEDES PROVINCIA DE BUENOS ...   \n",
       "1     2023-01-01  MUNICIPALIDAD DE MERCEDES PROVINCIA DE BUENOS ...   \n",
       "2     2023-01-01                                 EMPRESA BATAN S.A.   \n",
       "3     2023-01-01               COMPAÑIA  DE TRANSPORTE VECINAL S.A.   \n",
       "4     2023-01-01           EMPRESA DE TRANSPORTE PERALTA RAMOS SACI   \n",
       "\n",
       "              LINEA AMBA TIPO_TRANSPORTE JURISDICCION     PROVINCIA  \\\n",
       "0                 1   SI       COLECTIVO    MUNICIPAL  BUENOS AIRES   \n",
       "1                2B   SI       COLECTIVO    MUNICIPAL  BUENOS AIRES   \n",
       "2  BS_AS_LINEA 715M   NO       COLECTIVO    MUNICIPAL  BUENOS AIRES   \n",
       "3   BS_AS_LINEA_326   SI       COLECTIVO   PROVINCIAL  BUENOS AIRES   \n",
       "4   BS_AS_LINEA_512   NO       COLECTIVO    MUNICIPAL  BUENOS AIRES   \n",
       "\n",
       "            MUNICIPIO  CANTIDAD DATO_PRELIMINAR FECHA_DIA  \n",
       "0            MERCEDES        61              NO       Sun  \n",
       "1            MERCEDES        11              NO       Sun  \n",
       "2  GENERAL PUEYRREDON      1707              NO       Sun  \n",
       "3                  SN       438              NO       Sun  \n",
       "4  GENERAL PUEYRREDON      1189              NO       Sun  "
      ]
     },
     "execution_count": 68,
     "metadata": {},
     "output_type": "execute_result"
    }
   ],
   "source": [
    "SUBE_2023.head()"
   ]
  },
  {
   "cell_type": "markdown",
   "id": "DHUrGU0b1_-b",
   "metadata": {
    "id": "DHUrGU0b1_-b"
   },
   "source": [
    "#### <br> b) ii) Agregamos la columna FECHA_ORDINAL a partir de DIA_TRANSPORTE <br>\n"
   ]
  },
  {
   "cell_type": "code",
   "execution_count": 69,
   "id": "9rZGmnm66YvX",
   "metadata": {
    "id": "9rZGmnm66YvX"
   },
   "outputs": [],
   "source": [
    "SUBE_2023[\"FECHA_ORDINAL\"] = SUBE_2023['DIA_TRANSPORTE'].apply(lambda x : int(x.strftime('%d'))) \n",
    "#Da el día del mes de 1 a 31. Si quisiéramos ir de 1 a 366, usamos '%-j'."
   ]
  },
  {
   "cell_type": "markdown",
   "id": "0Nl_N1ux6tEI",
   "metadata": {
    "id": "0Nl_N1ux6tEI"
   },
   "source": [
    "*Vemos que la columna FECHA_ORDINAL tiene el formato pedido y que además sus datos son del tipo int:*"
   ]
  },
  {
   "cell_type": "code",
   "execution_count": 70,
   "id": "80P_CdXP6yo_",
   "metadata": {
    "colab": {
     "base_uri": "https://localhost:8080/",
     "height": 224
    },
    "id": "80P_CdXP6yo_",
    "outputId": "8549d075-a740-4a93-bf67-a68d90d78e26"
   },
   "outputs": [
    {
     "data": {
      "text/html": [
       "<div>\n",
       "<style scoped>\n",
       "    .dataframe tbody tr th:only-of-type {\n",
       "        vertical-align: middle;\n",
       "    }\n",
       "\n",
       "    .dataframe tbody tr th {\n",
       "        vertical-align: top;\n",
       "    }\n",
       "\n",
       "    .dataframe thead th {\n",
       "        text-align: right;\n",
       "    }\n",
       "</style>\n",
       "<table border=\"1\" class=\"dataframe\">\n",
       "  <thead>\n",
       "    <tr style=\"text-align: right;\">\n",
       "      <th></th>\n",
       "      <th>DIA_TRANSPORTE</th>\n",
       "      <th>NOMBRE_EMPRESA</th>\n",
       "      <th>LINEA</th>\n",
       "      <th>AMBA</th>\n",
       "      <th>TIPO_TRANSPORTE</th>\n",
       "      <th>JURISDICCION</th>\n",
       "      <th>PROVINCIA</th>\n",
       "      <th>MUNICIPIO</th>\n",
       "      <th>CANTIDAD</th>\n",
       "      <th>DATO_PRELIMINAR</th>\n",
       "      <th>FECHA_DIA</th>\n",
       "      <th>FECHA_ORDINAL</th>\n",
       "    </tr>\n",
       "  </thead>\n",
       "  <tbody>\n",
       "    <tr>\n",
       "      <th>0</th>\n",
       "      <td>2023-01-01</td>\n",
       "      <td>MUNICIPALIDAD DE MERCEDES PROVINCIA DE BUENOS ...</td>\n",
       "      <td>1</td>\n",
       "      <td>SI</td>\n",
       "      <td>COLECTIVO</td>\n",
       "      <td>MUNICIPAL</td>\n",
       "      <td>BUENOS AIRES</td>\n",
       "      <td>MERCEDES</td>\n",
       "      <td>61</td>\n",
       "      <td>NO</td>\n",
       "      <td>Sun</td>\n",
       "      <td>1</td>\n",
       "    </tr>\n",
       "    <tr>\n",
       "      <th>1</th>\n",
       "      <td>2023-01-01</td>\n",
       "      <td>MUNICIPALIDAD DE MERCEDES PROVINCIA DE BUENOS ...</td>\n",
       "      <td>2B</td>\n",
       "      <td>SI</td>\n",
       "      <td>COLECTIVO</td>\n",
       "      <td>MUNICIPAL</td>\n",
       "      <td>BUENOS AIRES</td>\n",
       "      <td>MERCEDES</td>\n",
       "      <td>11</td>\n",
       "      <td>NO</td>\n",
       "      <td>Sun</td>\n",
       "      <td>1</td>\n",
       "    </tr>\n",
       "    <tr>\n",
       "      <th>2</th>\n",
       "      <td>2023-01-01</td>\n",
       "      <td>EMPRESA BATAN S.A.</td>\n",
       "      <td>BS_AS_LINEA 715M</td>\n",
       "      <td>NO</td>\n",
       "      <td>COLECTIVO</td>\n",
       "      <td>MUNICIPAL</td>\n",
       "      <td>BUENOS AIRES</td>\n",
       "      <td>GENERAL PUEYRREDON</td>\n",
       "      <td>1707</td>\n",
       "      <td>NO</td>\n",
       "      <td>Sun</td>\n",
       "      <td>1</td>\n",
       "    </tr>\n",
       "    <tr>\n",
       "      <th>3</th>\n",
       "      <td>2023-01-01</td>\n",
       "      <td>COMPAÑIA  DE TRANSPORTE VECINAL S.A.</td>\n",
       "      <td>BS_AS_LINEA_326</td>\n",
       "      <td>SI</td>\n",
       "      <td>COLECTIVO</td>\n",
       "      <td>PROVINCIAL</td>\n",
       "      <td>BUENOS AIRES</td>\n",
       "      <td>SN</td>\n",
       "      <td>438</td>\n",
       "      <td>NO</td>\n",
       "      <td>Sun</td>\n",
       "      <td>1</td>\n",
       "    </tr>\n",
       "    <tr>\n",
       "      <th>4</th>\n",
       "      <td>2023-01-01</td>\n",
       "      <td>EMPRESA DE TRANSPORTE PERALTA RAMOS SACI</td>\n",
       "      <td>BS_AS_LINEA_512</td>\n",
       "      <td>NO</td>\n",
       "      <td>COLECTIVO</td>\n",
       "      <td>MUNICIPAL</td>\n",
       "      <td>BUENOS AIRES</td>\n",
       "      <td>GENERAL PUEYRREDON</td>\n",
       "      <td>1189</td>\n",
       "      <td>NO</td>\n",
       "      <td>Sun</td>\n",
       "      <td>1</td>\n",
       "    </tr>\n",
       "  </tbody>\n",
       "</table>\n",
       "</div>"
      ],
      "text/plain": [
       "  DIA_TRANSPORTE                                     NOMBRE_EMPRESA  \\\n",
       "0     2023-01-01  MUNICIPALIDAD DE MERCEDES PROVINCIA DE BUENOS ...   \n",
       "1     2023-01-01  MUNICIPALIDAD DE MERCEDES PROVINCIA DE BUENOS ...   \n",
       "2     2023-01-01                                 EMPRESA BATAN S.A.   \n",
       "3     2023-01-01               COMPAÑIA  DE TRANSPORTE VECINAL S.A.   \n",
       "4     2023-01-01           EMPRESA DE TRANSPORTE PERALTA RAMOS SACI   \n",
       "\n",
       "              LINEA AMBA TIPO_TRANSPORTE JURISDICCION     PROVINCIA  \\\n",
       "0                 1   SI       COLECTIVO    MUNICIPAL  BUENOS AIRES   \n",
       "1                2B   SI       COLECTIVO    MUNICIPAL  BUENOS AIRES   \n",
       "2  BS_AS_LINEA 715M   NO       COLECTIVO    MUNICIPAL  BUENOS AIRES   \n",
       "3   BS_AS_LINEA_326   SI       COLECTIVO   PROVINCIAL  BUENOS AIRES   \n",
       "4   BS_AS_LINEA_512   NO       COLECTIVO    MUNICIPAL  BUENOS AIRES   \n",
       "\n",
       "            MUNICIPIO  CANTIDAD DATO_PRELIMINAR FECHA_DIA  FECHA_ORDINAL  \n",
       "0            MERCEDES        61              NO       Sun              1  \n",
       "1            MERCEDES        11              NO       Sun              1  \n",
       "2  GENERAL PUEYRREDON      1707              NO       Sun              1  \n",
       "3                  SN       438              NO       Sun              1  \n",
       "4  GENERAL PUEYRREDON      1189              NO       Sun              1  "
      ]
     },
     "metadata": {},
     "output_type": "display_data"
    },
    {
     "data": {
      "text/html": [
       "<div>\n",
       "<style scoped>\n",
       "    .dataframe tbody tr th:only-of-type {\n",
       "        vertical-align: middle;\n",
       "    }\n",
       "\n",
       "    .dataframe tbody tr th {\n",
       "        vertical-align: top;\n",
       "    }\n",
       "\n",
       "    .dataframe thead th {\n",
       "        text-align: right;\n",
       "    }\n",
       "</style>\n",
       "<table border=\"1\" class=\"dataframe\">\n",
       "  <thead>\n",
       "    <tr style=\"text-align: right;\">\n",
       "      <th></th>\n",
       "      <th>COLUMNA</th>\n",
       "      <th>TIPO DE DATO</th>\n",
       "    </tr>\n",
       "  </thead>\n",
       "  <tbody>\n",
       "    <tr>\n",
       "      <th>0</th>\n",
       "      <td>FECHA_ORDINAL</td>\n",
       "      <td>&lt;class 'numpy.int64'&gt;</td>\n",
       "    </tr>\n",
       "  </tbody>\n",
       "</table>\n",
       "</div>"
      ],
      "text/plain": [
       "         COLUMNA           TIPO DE DATO\n",
       "0  FECHA_ORDINAL  <class 'numpy.int64'>"
      ]
     },
     "metadata": {},
     "output_type": "display_data"
    }
   ],
   "source": [
    "display(SUBE_2023.head())\n",
    "ver_tipos_datos_columnas(SUBE_2023[\"FECHA_ORDINAL\"])"
   ]
  },
  {
   "cell_type": "markdown",
   "id": "06fbDLkW2W6s",
   "metadata": {
    "id": "06fbDLkW2W6s"
   },
   "source": [
    "#### <br>b) iii) Agregamos la columna FECHA_MES a partir de DIA_TRANSPORTE<br>"
   ]
  },
  {
   "cell_type": "code",
   "execution_count": 71,
   "id": "bwvoKtYu24-R",
   "metadata": {
    "id": "bwvoKtYu24-R"
   },
   "outputs": [],
   "source": [
    "SUBE_2023[\"FECHA_MES\"] = SUBE_2023['DIA_TRANSPORTE'].apply(lambda x : x.strftime('%m'))"
   ]
  },
  {
   "cell_type": "markdown",
   "id": "Tu5qa2CC3G-k",
   "metadata": {
    "id": "Tu5qa2CC3G-k"
   },
   "source": [
    "*Vemos que la columna sigue el formato de string de número de 2 dígitos pedido*"
   ]
  },
  {
   "cell_type": "code",
   "execution_count": 72,
   "id": "i4oZimT33SJM",
   "metadata": {
    "colab": {
     "base_uri": "https://localhost:8080/",
     "height": 293
    },
    "id": "i4oZimT33SJM",
    "outputId": "3d0fc7e2-6036-4f75-d899-a3ea9be50e08"
   },
   "outputs": [
    {
     "data": {
      "text/html": [
       "<div>\n",
       "<style scoped>\n",
       "    .dataframe tbody tr th:only-of-type {\n",
       "        vertical-align: middle;\n",
       "    }\n",
       "\n",
       "    .dataframe tbody tr th {\n",
       "        vertical-align: top;\n",
       "    }\n",
       "\n",
       "    .dataframe thead th {\n",
       "        text-align: right;\n",
       "    }\n",
       "</style>\n",
       "<table border=\"1\" class=\"dataframe\">\n",
       "  <thead>\n",
       "    <tr style=\"text-align: right;\">\n",
       "      <th></th>\n",
       "      <th>DIA_TRANSPORTE</th>\n",
       "      <th>NOMBRE_EMPRESA</th>\n",
       "      <th>LINEA</th>\n",
       "      <th>AMBA</th>\n",
       "      <th>TIPO_TRANSPORTE</th>\n",
       "      <th>JURISDICCION</th>\n",
       "      <th>PROVINCIA</th>\n",
       "      <th>MUNICIPIO</th>\n",
       "      <th>CANTIDAD</th>\n",
       "      <th>DATO_PRELIMINAR</th>\n",
       "      <th>FECHA_DIA</th>\n",
       "      <th>FECHA_ORDINAL</th>\n",
       "      <th>FECHA_MES</th>\n",
       "    </tr>\n",
       "  </thead>\n",
       "  <tbody>\n",
       "    <tr>\n",
       "      <th>0</th>\n",
       "      <td>2023-01-01</td>\n",
       "      <td>MUNICIPALIDAD DE MERCEDES PROVINCIA DE BUENOS ...</td>\n",
       "      <td>1</td>\n",
       "      <td>SI</td>\n",
       "      <td>COLECTIVO</td>\n",
       "      <td>MUNICIPAL</td>\n",
       "      <td>BUENOS AIRES</td>\n",
       "      <td>MERCEDES</td>\n",
       "      <td>61</td>\n",
       "      <td>NO</td>\n",
       "      <td>Sun</td>\n",
       "      <td>1</td>\n",
       "      <td>01</td>\n",
       "    </tr>\n",
       "    <tr>\n",
       "      <th>1</th>\n",
       "      <td>2023-01-01</td>\n",
       "      <td>MUNICIPALIDAD DE MERCEDES PROVINCIA DE BUENOS ...</td>\n",
       "      <td>2B</td>\n",
       "      <td>SI</td>\n",
       "      <td>COLECTIVO</td>\n",
       "      <td>MUNICIPAL</td>\n",
       "      <td>BUENOS AIRES</td>\n",
       "      <td>MERCEDES</td>\n",
       "      <td>11</td>\n",
       "      <td>NO</td>\n",
       "      <td>Sun</td>\n",
       "      <td>1</td>\n",
       "      <td>01</td>\n",
       "    </tr>\n",
       "    <tr>\n",
       "      <th>2</th>\n",
       "      <td>2023-01-01</td>\n",
       "      <td>EMPRESA BATAN S.A.</td>\n",
       "      <td>BS_AS_LINEA 715M</td>\n",
       "      <td>NO</td>\n",
       "      <td>COLECTIVO</td>\n",
       "      <td>MUNICIPAL</td>\n",
       "      <td>BUENOS AIRES</td>\n",
       "      <td>GENERAL PUEYRREDON</td>\n",
       "      <td>1707</td>\n",
       "      <td>NO</td>\n",
       "      <td>Sun</td>\n",
       "      <td>1</td>\n",
       "      <td>01</td>\n",
       "    </tr>\n",
       "    <tr>\n",
       "      <th>3</th>\n",
       "      <td>2023-01-01</td>\n",
       "      <td>COMPAÑIA  DE TRANSPORTE VECINAL S.A.</td>\n",
       "      <td>BS_AS_LINEA_326</td>\n",
       "      <td>SI</td>\n",
       "      <td>COLECTIVO</td>\n",
       "      <td>PROVINCIAL</td>\n",
       "      <td>BUENOS AIRES</td>\n",
       "      <td>SN</td>\n",
       "      <td>438</td>\n",
       "      <td>NO</td>\n",
       "      <td>Sun</td>\n",
       "      <td>1</td>\n",
       "      <td>01</td>\n",
       "    </tr>\n",
       "    <tr>\n",
       "      <th>4</th>\n",
       "      <td>2023-01-01</td>\n",
       "      <td>EMPRESA DE TRANSPORTE PERALTA RAMOS SACI</td>\n",
       "      <td>BS_AS_LINEA_512</td>\n",
       "      <td>NO</td>\n",
       "      <td>COLECTIVO</td>\n",
       "      <td>MUNICIPAL</td>\n",
       "      <td>BUENOS AIRES</td>\n",
       "      <td>GENERAL PUEYRREDON</td>\n",
       "      <td>1189</td>\n",
       "      <td>NO</td>\n",
       "      <td>Sun</td>\n",
       "      <td>1</td>\n",
       "      <td>01</td>\n",
       "    </tr>\n",
       "  </tbody>\n",
       "</table>\n",
       "</div>"
      ],
      "text/plain": [
       "  DIA_TRANSPORTE                                     NOMBRE_EMPRESA  \\\n",
       "0     2023-01-01  MUNICIPALIDAD DE MERCEDES PROVINCIA DE BUENOS ...   \n",
       "1     2023-01-01  MUNICIPALIDAD DE MERCEDES PROVINCIA DE BUENOS ...   \n",
       "2     2023-01-01                                 EMPRESA BATAN S.A.   \n",
       "3     2023-01-01               COMPAÑIA  DE TRANSPORTE VECINAL S.A.   \n",
       "4     2023-01-01           EMPRESA DE TRANSPORTE PERALTA RAMOS SACI   \n",
       "\n",
       "              LINEA AMBA TIPO_TRANSPORTE JURISDICCION     PROVINCIA  \\\n",
       "0                 1   SI       COLECTIVO    MUNICIPAL  BUENOS AIRES   \n",
       "1                2B   SI       COLECTIVO    MUNICIPAL  BUENOS AIRES   \n",
       "2  BS_AS_LINEA 715M   NO       COLECTIVO    MUNICIPAL  BUENOS AIRES   \n",
       "3   BS_AS_LINEA_326   SI       COLECTIVO   PROVINCIAL  BUENOS AIRES   \n",
       "4   BS_AS_LINEA_512   NO       COLECTIVO    MUNICIPAL  BUENOS AIRES   \n",
       "\n",
       "            MUNICIPIO  CANTIDAD DATO_PRELIMINAR FECHA_DIA  FECHA_ORDINAL  \\\n",
       "0            MERCEDES        61              NO       Sun              1   \n",
       "1            MERCEDES        11              NO       Sun              1   \n",
       "2  GENERAL PUEYRREDON      1707              NO       Sun              1   \n",
       "3                  SN       438              NO       Sun              1   \n",
       "4  GENERAL PUEYRREDON      1189              NO       Sun              1   \n",
       "\n",
       "  FECHA_MES  \n",
       "0        01  \n",
       "1        01  \n",
       "2        01  \n",
       "3        01  \n",
       "4        01  "
      ]
     },
     "execution_count": 72,
     "metadata": {},
     "output_type": "execute_result"
    }
   ],
   "source": [
    "SUBE_2023.head()"
   ]
  },
  {
   "cell_type": "markdown",
   "id": "7OAcSALiC4vG",
   "metadata": {
    "id": "7OAcSALiC4vG",
    "jp-MarkdownHeadingCollapsed": true
   },
   "source": [
    "### <br> Ejercicio 2)<br>"
   ]
  },
  {
   "cell_type": "markdown",
   "id": "8b51fd16-471f-47e2-b888-2d05e00014ee",
   "metadata": {
    "jp-MarkdownHeadingCollapsed": true
   },
   "source": [
    "#### Creamos el DataFrame *datos_amba* el cual sólo contiene datos de AMBA y excluye los datos preliminares <br>"
   ]
  },
  {
   "cell_type": "code",
   "execution_count": 87,
   "id": "4pvNM3qBC6hk",
   "metadata": {
    "colab": {
     "base_uri": "https://localhost:8080/",
     "height": 206
    },
    "id": "4pvNM3qBC6hk",
    "outputId": "0b3814c7-9665-47ae-fd44-a96a626e9b4e"
   },
   "outputs": [
    {
     "data": {
      "text/html": [
       "<div>\n",
       "<style scoped>\n",
       "    .dataframe tbody tr th:only-of-type {\n",
       "        vertical-align: middle;\n",
       "    }\n",
       "\n",
       "    .dataframe tbody tr th {\n",
       "        vertical-align: top;\n",
       "    }\n",
       "\n",
       "    .dataframe thead th {\n",
       "        text-align: right;\n",
       "    }\n",
       "</style>\n",
       "<table border=\"1\" class=\"dataframe\">\n",
       "  <thead>\n",
       "    <tr style=\"text-align: right;\">\n",
       "      <th></th>\n",
       "      <th>fecha</th>\n",
       "      <th>fecha_dia</th>\n",
       "      <th>fecha_mes</th>\n",
       "      <th>fecha_ordinal</th>\n",
       "      <th>jurisdiccion</th>\n",
       "      <th>linea</th>\n",
       "      <th>pasajeros</th>\n",
       "      <th>tipo_transporte</th>\n",
       "    </tr>\n",
       "  </thead>\n",
       "  <tbody>\n",
       "    <tr>\n",
       "      <th>0</th>\n",
       "      <td>2023-01-01</td>\n",
       "      <td>Sun</td>\n",
       "      <td>01</td>\n",
       "      <td>1</td>\n",
       "      <td>MUNICIPAL</td>\n",
       "      <td>1</td>\n",
       "      <td>61</td>\n",
       "      <td>COLECTIVO</td>\n",
       "    </tr>\n",
       "    <tr>\n",
       "      <th>1</th>\n",
       "      <td>2023-01-01</td>\n",
       "      <td>Sun</td>\n",
       "      <td>01</td>\n",
       "      <td>1</td>\n",
       "      <td>MUNICIPAL</td>\n",
       "      <td>2B</td>\n",
       "      <td>11</td>\n",
       "      <td>COLECTIVO</td>\n",
       "    </tr>\n",
       "    <tr>\n",
       "      <th>2</th>\n",
       "      <td>2023-01-01</td>\n",
       "      <td>Sun</td>\n",
       "      <td>01</td>\n",
       "      <td>1</td>\n",
       "      <td>PROVINCIAL</td>\n",
       "      <td>BS_AS_LINEA_326</td>\n",
       "      <td>438</td>\n",
       "      <td>COLECTIVO</td>\n",
       "    </tr>\n",
       "    <tr>\n",
       "      <th>3</th>\n",
       "      <td>2023-01-01</td>\n",
       "      <td>Sun</td>\n",
       "      <td>01</td>\n",
       "      <td>1</td>\n",
       "      <td>MUNICIPAL</td>\n",
       "      <td>BS_AS_LINEA_514</td>\n",
       "      <td>3067</td>\n",
       "      <td>COLECTIVO</td>\n",
       "    </tr>\n",
       "    <tr>\n",
       "      <th>4</th>\n",
       "      <td>2023-01-01</td>\n",
       "      <td>Sun</td>\n",
       "      <td>01</td>\n",
       "      <td>1</td>\n",
       "      <td>MUNICIPAL</td>\n",
       "      <td>BS_AS_LINEA_522</td>\n",
       "      <td>332</td>\n",
       "      <td>COLECTIVO</td>\n",
       "    </tr>\n",
       "  </tbody>\n",
       "</table>\n",
       "</div>"
      ],
      "text/plain": [
       "       fecha fecha_dia fecha_mes  fecha_ordinal jurisdiccion            linea  \\\n",
       "0 2023-01-01       Sun        01              1    MUNICIPAL                1   \n",
       "1 2023-01-01       Sun        01              1    MUNICIPAL               2B   \n",
       "2 2023-01-01       Sun        01              1   PROVINCIAL  BS_AS_LINEA_326   \n",
       "3 2023-01-01       Sun        01              1    MUNICIPAL  BS_AS_LINEA_514   \n",
       "4 2023-01-01       Sun        01              1    MUNICIPAL  BS_AS_LINEA_522   \n",
       "\n",
       "   pasajeros tipo_transporte  \n",
       "0         61       COLECTIVO  \n",
       "1         11       COLECTIVO  \n",
       "2        438       COLECTIVO  \n",
       "3       3067       COLECTIVO  \n",
       "4        332       COLECTIVO  "
      ]
     },
     "execution_count": 87,
     "metadata": {},
     "output_type": "execute_result"
    }
   ],
   "source": [
    "datos_amba = SUBE_2023[np.logical_and(SUBE_2023['AMBA'] == 'SI', SUBE_2023['DATO_PRELIMINAR'] == 'NO')]\n",
    "\n",
    "columnas_datos_amba = ['DIA_TRANSPORTE','FECHA_DIA','FECHA_MES','FECHA_ORDINAL','JURISDICCION','LINEA','CANTIDAD','TIPO_TRANSPORTE']\n",
    "\n",
    "datos_amba = (datos_amba[columnas_datos_amba].rename(columns = {'DIA_TRANSPORTE' : 'FECHA', 'CANTIDAD' : 'PASAJEROS'})\n",
    "            .rename(columns=str.lower).reset_index().drop([\"index\"], axis = 1)) #transformamos en minúsculas y reseteamos índices.\n",
    "             \n",
    "datos_amba.head()"
   ]
  },
  {
   "cell_type": "markdown",
   "id": "0drQBP_8JewC",
   "metadata": {
    "id": "0drQBP_8JewC",
    "jp-MarkdownHeadingCollapsed": true
   },
   "source": [
    "### <br> Ejercicio 3) <br>"
   ]
  },
  {
   "cell_type": "markdown",
   "id": "ip2u7hlMJgzu",
   "metadata": {
    "id": "ip2u7hlMJgzu",
    "jp-MarkdownHeadingCollapsed": true
   },
   "source": [
    "#### a) Identificamos la proporción de la cantidad total anual de pasajeros que le corresponde a cada medio de transporte <br>"
   ]
  },
  {
   "cell_type": "code",
   "execution_count": 89,
   "id": "mdqxyo-dhnMA",
   "metadata": {
    "colab": {
     "base_uri": "https://localhost:8080/"
    },
    "id": "mdqxyo-dhnMA",
    "outputId": "d6dc2ca5-1657-4e42-b089-a6b59d6b79a8"
   },
   "outputs": [
    {
     "data": {
      "text/plain": [
       "array(['COLECTIVO', 'TREN', 'SUBTE'], dtype=object)"
      ]
     },
     "execution_count": 89,
     "metadata": {},
     "output_type": "execute_result"
    }
   ],
   "source": [
    "datos_amba['tipo_transporte'].unique() #Ver qué tipos de transporte hay"
   ]
  },
  {
   "cell_type": "code",
   "execution_count": 95,
   "id": "d8C3sNGYJh15",
   "metadata": {
    "colab": {
     "base_uri": "https://localhost:8080/"
    },
    "id": "d8C3sNGYJh15",
    "outputId": "da4f28b7-4d5b-4aa1-d7d5-16a8ce18adc6"
   },
   "outputs": [
    {
     "name": "stdout",
     "output_type": "stream",
     "text": [
      "\u001b[1mPorcentaje anual en colectivo:\u001b[0m 83.76%\n",
      "\u001b[1mPorcentaje anual en tren:\u001b[0m 9.43%\n",
      "\u001b[1mPorcentaje anual en subte:\u001b[0m 6.81%\n"
     ]
    }
   ],
   "source": [
    "total_pasajeros_amba = datos_amba['pasajeros'].sum()\n",
    "\n",
    "datos_amba_colectivo = datos_amba[datos_amba['tipo_transporte'] == 'COLECTIVO']\n",
    "datos_amba_tren = datos_amba[datos_amba['tipo_transporte'] == 'TREN']\n",
    "datos_amba_subte = datos_amba[datos_amba['tipo_transporte'] == 'SUBTE']\n",
    "\n",
    "pasajeros_colectivo_amba = datos_amba_colectivo['pasajeros'].sum()\n",
    "pasajeros_tren_amba = datos_amba_tren['pasajeros'].sum()\n",
    "pasajeros_subte_amba = datos_amba_subte['pasajeros'].sum()\n",
    "\n",
    "porcentaje_pasajeros_colectivo = pasajeros_colectivo_amba * 100 / total_pasajeros_amba\n",
    "porcentaje_pasajeros_tren = pasajeros_tren_amba * 100 / total_pasajeros_amba\n",
    "porcentaje_pasajeros_subte = pasajeros_subte_amba * 100 / total_pasajeros_amba\n",
    "\n",
    "print('\\033[1mPorcentaje anual en colectivo:\\033[0m', str(round(porcentaje_pasajeros_colectivo, 2)) + '%')\n",
    "print('\\033[1mPorcentaje anual en tren:\\033[0m', str(round(porcentaje_pasajeros_tren, 2)) + '%')\n",
    "print('\\033[1mPorcentaje anual en subte:\\033[0m', str(round(porcentaje_pasajeros_subte, 2)) + '%')"
   ]
  },
  {
   "cell_type": "markdown",
   "id": "w8OBsexpldq4",
   "metadata": {
    "id": "w8OBsexpldq4",
    "jp-MarkdownHeadingCollapsed": true
   },
   "source": [
    "#### <br> b) identificamos la tupla (mes, línea de subte) donde viajó la mayor cantidad de pasajeros <br>"
   ]
  },
  {
   "cell_type": "code",
   "execution_count": 97,
   "id": "sIiON3wnlgLX",
   "metadata": {
    "colab": {
     "base_uri": "https://localhost:8080/"
    },
    "id": "sIiON3wnlgLX",
    "outputId": "1d9bad8b-f129-4630-923b-44cb6fd2bce9"
   },
   "outputs": [
    {
     "name": "stdout",
     "output_type": "stream",
     "text": [
      "\u001b[1mMes y linea con mayor cantidad de pasajeros en subte:\u001b[0m ('12', 'LINEA_B')\n"
     ]
    }
   ],
   "source": [
    "fila_record_subte_amba = datos_amba_subte.nlargest(1, 'pasajeros').iloc[0]\n",
    "\n",
    "record_subte = mes_record_subte, linea_record_subte = fila_record_subte_amba['fecha_mes'], fila_record_subte_amba['linea']\n",
    "\n",
    "print('\\033[1mMes y linea con mayor cantidad de pasajeros en subte:\\033[0m', record_subte)"
   ]
  },
  {
   "cell_type": "markdown",
   "id": "A0u1b9hLsHOA",
   "metadata": {
    "id": "A0u1b9hLsHOA",
    "jp-MarkdownHeadingCollapsed": true
   },
   "source": [
    "#### <br> c) Identificamos el día hábil con menor desvío estándar en cantidad de pasajeros <br>"
   ]
  },
  {
   "cell_type": "code",
   "execution_count": 102,
   "id": "4O1HxABGsITL",
   "metadata": {
    "colab": {
     "base_uri": "https://localhost:8080/",
     "height": 35
    },
    "id": "4O1HxABGsITL",
    "outputId": "bf95a131-0600-41ce-f4ec-f251951d81c9"
   },
   "outputs": [
    {
     "name": "stdout",
     "output_type": "stream",
     "text": [
      "\u001b[1mDía hábil con menor desvío estándar en cantidad de pasajeros:\u001b[0m Lunes\n"
     ]
    }
   ],
   "source": [
    "dia_habil_menor_std = datos_amba.groupby('fecha_dia')['pasajeros'].std().drop(['Sun','Sat']).idxmin()\n",
    "\n",
    "dias_completos_esp = {\n",
    "    'Mon': 'Lunes',\n",
    "    'Tue': 'Martes',\n",
    "    'Wed': 'Miércoles',\n",
    "    'Thu': 'Jueves',\n",
    "    'Fri': 'Viernes',\n",
    "    'Sat': 'Sábado',\n",
    "    'Sun': 'Domingo'\n",
    "}\n",
    "\n",
    "print('\\033[1mDía hábil con menor desvío estándar en cantidad de pasajeros:\\033[0m',dias_completos_esp[dia_habil_menor_std])"
   ]
  },
  {
   "cell_type": "markdown",
   "id": "d399d1b1-5f85-4aec-854e-8a1586699c69",
   "metadata": {},
   "source": [
    "## Análisis Exploratorio"
   ]
  },
  {
   "cell_type": "markdown",
   "id": "fcd91ed9-3fc9-405c-ade2-cc28f572c9d9",
   "metadata": {},
   "source": [
    "### <br>Ejercicio 4"
   ]
  },
  {
   "cell_type": "code",
   "execution_count": 103,
   "id": "7afbf900",
   "metadata": {},
   "outputs": [
    {
     "data": {
      "text/html": [
       "<div>\n",
       "<style scoped>\n",
       "    .dataframe tbody tr th:only-of-type {\n",
       "        vertical-align: middle;\n",
       "    }\n",
       "\n",
       "    .dataframe tbody tr th {\n",
       "        vertical-align: top;\n",
       "    }\n",
       "\n",
       "    .dataframe thead th {\n",
       "        text-align: right;\n",
       "    }\n",
       "</style>\n",
       "<table border=\"1\" class=\"dataframe\">\n",
       "  <thead>\n",
       "    <tr style=\"text-align: right;\">\n",
       "      <th></th>\n",
       "      <th>fecha</th>\n",
       "      <th>fecha_dia</th>\n",
       "      <th>fecha_mes</th>\n",
       "      <th>fecha_ordinal</th>\n",
       "      <th>jurisdiccion</th>\n",
       "      <th>linea</th>\n",
       "      <th>pasajeros</th>\n",
       "      <th>tipo_transporte</th>\n",
       "      <th>promedio</th>\n",
       "    </tr>\n",
       "  </thead>\n",
       "  <tbody>\n",
       "    <tr>\n",
       "      <th>0</th>\n",
       "      <td>2023-01-01</td>\n",
       "      <td>Sun</td>\n",
       "      <td>01</td>\n",
       "      <td>1</td>\n",
       "      <td>NaN</td>\n",
       "      <td>LINEA SUBTE C</td>\n",
       "      <td>20434</td>\n",
       "      <td>SUBTE</td>\n",
       "      <td>2.669957e+06</td>\n",
       "    </tr>\n",
       "    <tr>\n",
       "      <th>1</th>\n",
       "      <td>2023-01-01</td>\n",
       "      <td>Sun</td>\n",
       "      <td>01</td>\n",
       "      <td>1</td>\n",
       "      <td>NaN</td>\n",
       "      <td>LINEA SUBTE D</td>\n",
       "      <td>13121</td>\n",
       "      <td>SUBTE</td>\n",
       "      <td>2.669957e+06</td>\n",
       "    </tr>\n",
       "    <tr>\n",
       "      <th>2</th>\n",
       "      <td>2023-01-01</td>\n",
       "      <td>Sun</td>\n",
       "      <td>01</td>\n",
       "      <td>1</td>\n",
       "      <td>NaN</td>\n",
       "      <td>LINEA SUBTE E</td>\n",
       "      <td>7681</td>\n",
       "      <td>SUBTE</td>\n",
       "      <td>2.669957e+06</td>\n",
       "    </tr>\n",
       "    <tr>\n",
       "      <th>3</th>\n",
       "      <td>2023-01-01</td>\n",
       "      <td>Sun</td>\n",
       "      <td>01</td>\n",
       "      <td>1</td>\n",
       "      <td>NaN</td>\n",
       "      <td>LINEA SUBTE H</td>\n",
       "      <td>7358</td>\n",
       "      <td>SUBTE</td>\n",
       "      <td>2.669957e+06</td>\n",
       "    </tr>\n",
       "    <tr>\n",
       "      <th>4</th>\n",
       "      <td>2023-01-01</td>\n",
       "      <td>Sun</td>\n",
       "      <td>01</td>\n",
       "      <td>1</td>\n",
       "      <td>NaN</td>\n",
       "      <td>LINEA SUBTE A</td>\n",
       "      <td>14359</td>\n",
       "      <td>SUBTE</td>\n",
       "      <td>2.669957e+06</td>\n",
       "    </tr>\n",
       "    <tr>\n",
       "      <th>...</th>\n",
       "      <td>...</td>\n",
       "      <td>...</td>\n",
       "      <td>...</td>\n",
       "      <td>...</td>\n",
       "      <td>...</td>\n",
       "      <td>...</td>\n",
       "      <td>...</td>\n",
       "      <td>...</td>\n",
       "      <td>...</td>\n",
       "    </tr>\n",
       "    <tr>\n",
       "      <th>2184</th>\n",
       "      <td>2023-12-31</td>\n",
       "      <td>Sun</td>\n",
       "      <td>12</td>\n",
       "      <td>31</td>\n",
       "      <td>NaN</td>\n",
       "      <td>LINEA SUBTE D</td>\n",
       "      <td>27756</td>\n",
       "      <td>SUBTE</td>\n",
       "      <td>3.329384e+06</td>\n",
       "    </tr>\n",
       "    <tr>\n",
       "      <th>2185</th>\n",
       "      <td>2023-12-31</td>\n",
       "      <td>Sun</td>\n",
       "      <td>12</td>\n",
       "      <td>31</td>\n",
       "      <td>NaN</td>\n",
       "      <td>LINEA SUBTE E</td>\n",
       "      <td>12418</td>\n",
       "      <td>SUBTE</td>\n",
       "      <td>3.329384e+06</td>\n",
       "    </tr>\n",
       "    <tr>\n",
       "      <th>2186</th>\n",
       "      <td>2023-12-31</td>\n",
       "      <td>Sun</td>\n",
       "      <td>12</td>\n",
       "      <td>31</td>\n",
       "      <td>NaN</td>\n",
       "      <td>LINEA SUBTE H</td>\n",
       "      <td>15254</td>\n",
       "      <td>SUBTE</td>\n",
       "      <td>3.329384e+06</td>\n",
       "    </tr>\n",
       "    <tr>\n",
       "      <th>2187</th>\n",
       "      <td>2023-12-31</td>\n",
       "      <td>Sun</td>\n",
       "      <td>12</td>\n",
       "      <td>31</td>\n",
       "      <td>NaN</td>\n",
       "      <td>LINEA SUBTE A</td>\n",
       "      <td>30931</td>\n",
       "      <td>SUBTE</td>\n",
       "      <td>3.329384e+06</td>\n",
       "    </tr>\n",
       "    <tr>\n",
       "      <th>2188</th>\n",
       "      <td>2023-12-31</td>\n",
       "      <td>Sun</td>\n",
       "      <td>12</td>\n",
       "      <td>31</td>\n",
       "      <td>NaN</td>\n",
       "      <td>LINEA SUBTE B</td>\n",
       "      <td>34714</td>\n",
       "      <td>SUBTE</td>\n",
       "      <td>3.329384e+06</td>\n",
       "    </tr>\n",
       "  </tbody>\n",
       "</table>\n",
       "<p>2189 rows × 9 columns</p>\n",
       "</div>"
      ],
      "text/plain": [
       "          fecha fecha_dia fecha_mes  fecha_ordinal jurisdiccion  \\\n",
       "0    2023-01-01       Sun        01              1          NaN   \n",
       "1    2023-01-01       Sun        01              1          NaN   \n",
       "2    2023-01-01       Sun        01              1          NaN   \n",
       "3    2023-01-01       Sun        01              1          NaN   \n",
       "4    2023-01-01       Sun        01              1          NaN   \n",
       "...         ...       ...       ...            ...          ...   \n",
       "2184 2023-12-31       Sun        12             31          NaN   \n",
       "2185 2023-12-31       Sun        12             31          NaN   \n",
       "2186 2023-12-31       Sun        12             31          NaN   \n",
       "2187 2023-12-31       Sun        12             31          NaN   \n",
       "2188 2023-12-31       Sun        12             31          NaN   \n",
       "\n",
       "              linea  pasajeros tipo_transporte      promedio  \n",
       "0     LINEA SUBTE C      20434           SUBTE  2.669957e+06  \n",
       "1     LINEA SUBTE D      13121           SUBTE  2.669957e+06  \n",
       "2     LINEA SUBTE E       7681           SUBTE  2.669957e+06  \n",
       "3     LINEA SUBTE H       7358           SUBTE  2.669957e+06  \n",
       "4     LINEA SUBTE A      14359           SUBTE  2.669957e+06  \n",
       "...             ...        ...             ...           ...  \n",
       "2184  LINEA SUBTE D      27756           SUBTE  3.329384e+06  \n",
       "2185  LINEA SUBTE E      12418           SUBTE  3.329384e+06  \n",
       "2186  LINEA SUBTE H      15254           SUBTE  3.329384e+06  \n",
       "2187  LINEA SUBTE A      30931           SUBTE  3.329384e+06  \n",
       "2188  LINEA SUBTE B      34714           SUBTE  3.329384e+06  \n",
       "\n",
       "[2189 rows x 9 columns]"
      ]
     },
     "execution_count": 103,
     "metadata": {},
     "output_type": "execute_result"
    }
   ],
   "source": [
    "subtes = datos_amba[datos_amba[\"tipo_transporte\"]==\"SUBTE\"].reset_index().drop([\"index\"], axis = 1) #CREO A PARTIR DE AMBA UN DATAFRAME DE SUBTE PARA ESTUDIARLO\n",
    "subtes = subtes[subtes[\"linea\"] != \"LIN_PREMETRO\"] #EXCLUIMOS PREMETRO POR LA ESCASES DE DATOS EN COMPARACION A LAS OTRAS LINEAS\n",
    "subtes[\"linea\"].replace({\"LINEA_A\": \"LINEA SUBTE A\", \"LINEA_B\": \"LINEA SUBTE B\"}, inplace = True)\n",
    "\n",
    "\n",
    "promedio_por_mes = subtes.groupby('fecha_mes')['pasajeros'].sum() / subtes['linea'].nunique()\n",
    "promedio_subtes = pd.DataFrame({'fecha_mes': promedio_por_mes.index, 'promedio': promedio_por_mes}).drop([\"fecha_mes\"], axis = 1)\n",
    "subtes = pd.merge(subtes, promedio_subtes, on='fecha_mes')\n",
    "\n",
    "\n",
    "subtes"
   ]
  },
  {
   "cell_type": "code",
   "execution_count": 105,
   "id": "75aebe1d",
   "metadata": {},
   "outputs": [
    {
     "name": "stderr",
     "output_type": "stream",
     "text": [
      "C:\\ProgramData\\anaconda3\\Lib\\site-packages\\seaborn\\_core\\plot.py:1491: FutureWarning: use_inf_as_na option is deprecated and will be removed in a future version. Convert inf values to NaN before operating instead.\n",
      "  with pd.option_context(\"mode.use_inf_as_na\", True):\n"
     ]
    },
    {
     "data": {
      "image/png": "[encoded data removed]",
      "text/plain": [
       "<seaborn._core.plot.Plot at 0x20941929950>"
      ]
     },
     "execution_count": 105,
     "metadata": {
      "image/png": {
       "height": 378.25,
       "width": 509.15
      }
     },
     "output_type": "execute_result"
    }
   ],
   "source": [
    "#GRAICOS SUELTOS COMO PARA HACER ALGO\n",
    "df_agrupado = SUBE_2023.groupby('AMBA')['CANTIDAD'].sum().reset_index()\n",
    "(\n",
    "    so.Plot(data = df_agrupado, x = \"AMBA\", y = \"CANTIDAD\")\n",
    "    .add(so.Bar())\n",
    ")"
   ]
  },
  {
   "cell_type": "code",
   "execution_count": 106,
   "id": "c77cad73",
   "metadata": {},
   "outputs": [
    {
     "name": "stderr",
     "output_type": "stream",
     "text": [
      "C:\\ProgramData\\anaconda3\\Lib\\site-packages\\seaborn\\_core\\plot.py:1491: FutureWarning: use_inf_as_na option is deprecated and will be removed in a future version. Convert inf values to NaN before operating instead.\n",
      "  with pd.option_context(\"mode.use_inf_as_na\", True):\n"
     ]
    },
    {
     "data": {
      "image/png": "[encoded data removed]",
      "text/plain": [
       "<seaborn._core.plot.Plot at 0x20941923a50>"
      ]
     },
     "execution_count": 106,
     "metadata": {
      "image/png": {
       "height": 378.25,
       "width": 509.15
      }
     },
     "output_type": "execute_result"
    }
   ],
   "source": [
    "amba_agrupados = datos_amba.groupby('tipo_transporte')['pasajeros'].sum().reset_index()\n",
    "(\n",
    "    so.Plot(data = amba_agrupados, x = \"tipo_transporte\", y = \"pasajeros\")\n",
    "    .add(so.Bar())\n",
    ")"
   ]
  },
  {
   "cell_type": "code",
   "execution_count": null,
   "id": "955423d8",
   "metadata": {},
   "outputs": [
    {
     "ename": "",
     "evalue": "",
     "output_type": "error",
     "traceback": [
      "\u001b[1;31mRunning cells with 'Python 3.8.3' requires the ipykernel package.\n",
      "\u001b[1;31mRun the following command to install 'ipykernel' into the Python environment. \n",
      "\u001b[1;31mCommand: 'c:/Python38/python.exe -m pip install ipykernel -U --user --force-reinstall'"
     ]
    }
   ],
   "source": [
    "#GRAFICO PASAJEROS POR LINEA\n",
    "\n",
    "#MODIFICAMOS COLORES SEGUN LINEA\n",
    "linea_colores = {\n",
    "    'LINEA SUBTE A': '#0fb7d9', # azul\n",
    "    'LINEA SUBTE B': '#d60b15', # azul\n",
    "    'LINEA SUBTE C': '#0220c7', # azul\n",
    "    'LINEA SUBTE D': '#075202', # azul\n",
    "    'LINEA SUBTE E': '#23096b', # azul\n",
    "    'LINEA SUBTE H': '#e3dd22', # azul\n",
    "}\n",
    "\n",
    "\n",
    "\n",
    "(\n",
    "    so.Plot(data = subtes, x = \"fecha_mes\", y = \"pasajeros\", color=\"linea\") #REWVISAR COLORES LINEAS PARA MATCHEAR CON COLORES ORIGINALES\n",
    "    .add(so.Line(color = \"#000000\"), x = \"fecha_mes\", y = \"promedio\",  label = \"PROMEDIO\" ) #PROMEDIO ENTRE TODAS LAS LINEAS\n",
    "    .add(so.Dot(color = \"#000000\"), x = \"fecha_mes\", y = \"promedio\") #PROMEDIO ENTRE TODAS LAS LINEAS\n",
    "    .add(so.Dot(), so.Agg(\"sum\"))\n",
    "    .add(so.Line(), so.Agg(\"sum\"))\n",
    "    .scale(color=linea_colores)\n",
    "    .label(x=\"Meses\", y=\"Cantidad de Pasajeros\", title=\"Pasajeros por linea de subte 2023\")\n",
    ")\n",
    "\n",
    "#AUMENTA EL USO DEL SUBTE EN MARZO POR FINALIZACION DE LA EPOCA VACACIONAL\n",
    "#CAIDA LINEA D EN DICIEMBRE PUEDE RELACIONARES CON LAS OBRAS QUE ESTABAN POR COMENZAR\n",
    "#CAIDA LINEA A EN MARZO/ABRIL SE DEBE A REFORMAS EN CIERTAS ESTACIONES DE LA MISMA"
   ]
  },
  {
   "cell_type": "code",
   "execution_count": null,
   "id": "ce7a5f1b-12e7-47a5-bf7d-2453c25cf344",
   "metadata": {},
   "outputs": [],
   "source": [
    "pinamar = SUBE_2023[(SUBE_2023[\"MUNICIPIO\"] == \"PINAMAR\")].groupby(\"FECHA_MES\")[\"CANTIDAD\"].sum().reset_index()\n",
    "(\n",
    "    so.Plot(data = pinamar, x = \"FECHA_MES\", y = \"CANTIDAD\")\n",
    "    .add(so.Bar())\n",
    "    .label(x =\"Meses\", y = \"Pasajeros\", title = \"Pasajeros anuales en Pinamar\")\n",
    ")\n",
    "#AL SER UN LUGAR VACACIONAL, ES NATURAL VER QUE ENERO TENGA MUCHISIMOS PASAJEROS\n",
    "#COMO ES COSTERO, SUPONEMOS QUE JULIO NO TIENE MUCHO MOVIMIENTO (NO ES LA EPOCA MAS POPULAR PARA IR A LA PLAYA)\n",
    "#HAY UNA PEQUEÑA SUBIDA EN NOVIEMBRE YA QUE ES CERCA DEL VERANO, PERO SE PUEDE VER UNA PEQUEÑA BAJADA EN DICIEMBRE. ESTO PUEDE SER POR LA INCERTIDUMBRE ANTE EL NUEVO GOBIERNO NACIONAL Y LA DIFICIL SITUACION ECONOMICA\n",
    "#POR LO QUE NO MUCHA GENTE SE MOVILIZO EN LA TEMPORADA 2023/2024 (A CHEQUEAR PERO ME SUENA Q PASO ALGO ASI)\n",
    "#POR OTRO LADO, MAS ALLA DE LO ECONOMICO O LO NACIONAL, DICIEMBRE NO TIENE TANTO MOVIMIENTO COMO ENERO, YA QUE LAS VACACIONES ESTAN RECIEN COMENZANDO, Y EN ENERO YA EMPEZARON."
   ]
  },
  {
   "cell_type": "code",
   "execution_count": null,
   "id": "121aa85a",
   "metadata": {},
   "outputs": [],
   "source": [
    "gesell = SUBE_2023[(SUBE_2023[\"MUNICIPIO\"] == \"VILLA GESELL\")].groupby(\"FECHA_MES\")[\"CANTIDAD\"].sum().reset_index()\n",
    "(\n",
    "    so.Plot(data = gesell, x = \"FECHA_MES\", y = \"CANTIDAD\")\n",
    "    .add(so.Bar())\n",
    "    .label(x =\"Meses\", y = \"Pasajeros\", title = \"Pasajeros anuales en Villa Gesell\")\n",
    ")\n",
    "#COMPARANDOLO CON PINAMAR, SE PUEDE VER UNA TENDENCIA SIMILAR, CON LA DIFERENCIA DE QUE GESELL ES UN DESTINO MAS POPULAR QUE PINAMAR, POR LO QUE EN TEMPORADA ALTA HAY MUCHA MAS MOVILIDAD QUE CON EL OTRO MUNICIPIO\n",
    "#PERO LAS CANTIDADES SON BASTANTE SIMILARES EN TEMPORADA BAJA"
   ]
  }
 ],
 "metadata": {
  "colab": {
   "provenance": []
  },
  "kernelspec": {
   "display_name": "Python 3 (ipykernel)",
   "language": "python",
   "name": "python3"
  },
  "language_info": {
   "codemirror_mode": {
    "name": "ipython",
    "version": 3
   },
   "file_extension": ".py",
   "mimetype": "text/x-python",
   "name": "python",
   "nbconvert_exporter": "python",
   "pygments_lexer": "ipython3",
   "version": "3.11.7"
  }
 },
 "nbformat": 4,
 "nbformat_minor": 5
}
