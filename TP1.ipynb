{
  "cells": [
    {
      "cell_type": "markdown",
      "source": [
        "TP1\n",
        "\n",
        "Laboratorio de Datos\n",
        "\n",
        "1er Cuatrimestre - 2024\n",
        "\n",
        "Iván Exequiel Pintos - Joaquín Rovner - Juan José García Vizioli"
      ],
      "metadata": {
        "id": "s2w9pPvGs9g9"
      },
      "id": "s2w9pPvGs9g9"
    },
    {
      "cell_type": "markdown",
      "id": "711a03a3",
      "metadata": {
        "id": "711a03a3"
      },
      "source": [
        "- Importamos todas las librerías que venimos usando:"
      ]
    },
    {
      "cell_type": "code",
      "execution_count": 2,
      "id": "6b39afcc",
      "metadata": {
        "id": "6b39afcc"
      },
      "outputs": [],
      "source": [
        "import seaborn as sns\n",
        "from sklearn.model_selection import KFold\n",
        "import matplotlib.pyplot as plt\n",
        "\n",
        "from scipy import stats\n",
        "import numpy as np\n",
        "import pandas as pd\n",
        "from sklearn.linear_model import LinearRegression\n",
        "from sklearn.model_selection import train_test_split\n",
        "#from formulaic import model_matrix"
      ]
    },
    {
      "cell_type": "markdown",
      "id": "c4694286",
      "metadata": {
        "id": "c4694286"
      },
      "source": [
        "- Leemos los dataset:"
      ]
    },
    {
      "cell_type": "code",
      "source": [
        "#@title Usando Colab\n",
        "\n",
        "from google.colab import drive\n",
        "drive.mount('/content/drive')\n",
        "\n",
        "sube_2023_file_path = '/content/drive/My Drive/LDD-TP1/sube-2023.csv'\n",
        "sube_2023_regresion_file_path = '/content/drive/My Drive/LDD-TP1/sube-2023-regresion.csv'"
      ],
      "metadata": {
        "colab": {
          "base_uri": "https://localhost:8080/"
        },
        "id": "pjecMvo0ujF7",
        "outputId": "0451fcd6-ceed-443d-ba7f-c1b009ceb835"
      },
      "id": "pjecMvo0ujF7",
      "execution_count": 4,
      "outputs": [
        {
          "output_type": "stream",
          "name": "stdout",
          "text": [
            "Mounted at /content/drive\n"
          ]
        }
      ]
    },
    {
      "cell_type": "code",
      "source": [
        "#@title Usando Jupyter\n",
        "\n",
        "sube_2023_file_path = '../LDD-TP1/sube-2023.csv'\n",
        "sube_2023_regresion_file_path = '../LDD-TP1/sube-2023-regresion.csv'"
      ],
      "metadata": {
        "id": "raKXEkiYvB_j"
      },
      "id": "raKXEkiYvB_j",
      "execution_count": null,
      "outputs": []
    },
    {
      "cell_type": "code",
      "execution_count": 5,
      "id": "89f2a77d",
      "metadata": {
        "id": "89f2a77d"
      },
      "outputs": [],
      "source": [
        "SUBE_2023 = pd.read_csv(sube_2023_file_path)\n",
        "SUBE_2023_regresion = pd.read_csv(sube_2023_regresion_file_path)"
      ]
    },
    {
      "cell_type": "markdown",
      "source": [
        "#Procesamiento de Datos"
      ],
      "metadata": {
        "id": "0QRFRjYj2Q2Y"
      },
      "id": "0QRFRjYj2Q2Y"
    },
    {
      "cell_type": "markdown",
      "id": "a8a1134a",
      "metadata": {
        "id": "a8a1134a"
      },
      "source": [
        "##1)"
      ]
    },
    {
      "cell_type": "markdown",
      "id": "6574211a",
      "metadata": {
        "id": "6574211a"
      },
      "source": [
        "###a)"
      ]
    },
    {
      "cell_type": "markdown",
      "source": [
        "Texto 1)a)"
      ],
      "metadata": {
        "id": "ld6A6pen-VnC"
      },
      "id": "ld6A6pen-VnC"
    },
    {
      "cell_type": "markdown",
      "source": [
        "###b)"
      ],
      "metadata": {
        "id": "3JrkI3ewwXtJ"
      },
      "id": "3JrkI3ewwXtJ"
    },
    {
      "cell_type": "markdown",
      "source": [
        "####i)"
      ],
      "metadata": {
        "id": "PMKNBQfI1lEH"
      },
      "id": "PMKNBQfI1lEH"
    },
    {
      "cell_type": "markdown",
      "source": [
        "Texto 1)b)i)"
      ],
      "metadata": {
        "id": "iQ_4LHcU10Yc"
      },
      "id": "iQ_4LHcU10Yc"
    },
    {
      "cell_type": "markdown",
      "source": [
        "####ii)\n"
      ],
      "metadata": {
        "id": "DHUrGU0b1_-b"
      },
      "id": "DHUrGU0b1_-b"
    },
    {
      "cell_type": "markdown",
      "source": [
        "Texto 1)b)ii)"
      ],
      "metadata": {
        "id": "HFs_uk925o0J"
      },
      "id": "HFs_uk925o0J"
    },
    {
      "cell_type": "markdown",
      "source": [
        "####iii)"
      ],
      "metadata": {
        "id": "06fbDLkW2W6s"
      },
      "id": "06fbDLkW2W6s"
    },
    {
      "cell_type": "markdown",
      "source": [
        "Texto 1)b)iii)"
      ],
      "metadata": {
        "id": "rvEvSgpH2kDd"
      },
      "id": "rvEvSgpH2kDd"
    },
    {
      "cell_type": "markdown",
      "source": [
        "##2)"
      ],
      "metadata": {
        "id": "Cjg1AMFl-pU9"
      },
      "id": "Cjg1AMFl-pU9"
    },
    {
      "cell_type": "markdown",
      "source": [
        "Texto 2)"
      ],
      "metadata": {
        "id": "GOTM_0hy-uBJ"
      },
      "id": "GOTM_0hy-uBJ"
    },
    {
      "cell_type": "markdown",
      "source": [
        "##3)"
      ],
      "metadata": {
        "id": "926oH1DB-270"
      },
      "id": "926oH1DB-270"
    },
    {
      "cell_type": "markdown",
      "source": [
        "###a)"
      ],
      "metadata": {
        "id": "1J9Xnv5C-3tw"
      },
      "id": "1J9Xnv5C-3tw"
    },
    {
      "cell_type": "markdown",
      "source": [
        "Texto 3)a)"
      ],
      "metadata": {
        "id": "msx9Mz6I-8We"
      },
      "id": "msx9Mz6I-8We"
    },
    {
      "cell_type": "markdown",
      "source": [
        "###b)"
      ],
      "metadata": {
        "id": "5iUzIPLQ-4vW"
      },
      "id": "5iUzIPLQ-4vW"
    },
    {
      "cell_type": "markdown",
      "source": [
        "Texto 3)b)"
      ],
      "metadata": {
        "id": "5XWNlGIA-__Q"
      },
      "id": "5XWNlGIA-__Q"
    },
    {
      "cell_type": "markdown",
      "source": [
        "###c)"
      ],
      "metadata": {
        "id": "Xz0xsKkN_BNz"
      },
      "id": "Xz0xsKkN_BNz"
    },
    {
      "cell_type": "markdown",
      "source": [
        "Texto 3)c)"
      ],
      "metadata": {
        "id": "u1RHrRf0_DAO"
      },
      "id": "u1RHrRf0_DAO"
    },
    {
      "cell_type": "markdown",
      "source": [
        "#Análisis Exploratorio"
      ],
      "metadata": {
        "id": "ESVG_e6j_Gk9"
      },
      "id": "ESVG_e6j_Gk9"
    },
    {
      "cell_type": "markdown",
      "source": [
        "##4)"
      ],
      "metadata": {
        "id": "eXeFBHUm_JNa"
      },
      "id": "eXeFBHUm_JNa"
    },
    {
      "cell_type": "markdown",
      "source": [
        "Texto 4)"
      ],
      "metadata": {
        "id": "E0Sd7igH_P-Y"
      },
      "id": "E0Sd7igH_P-Y"
    },
    {
      "cell_type": "markdown",
      "source": [
        "#Modelado"
      ],
      "metadata": {
        "id": "BnPK3vXB_R8K"
      },
      "id": "BnPK3vXB_R8K"
    },
    {
      "cell_type": "markdown",
      "source": [
        "##5)"
      ],
      "metadata": {
        "id": "yLkmQvXT_Tk4"
      },
      "id": "yLkmQvXT_Tk4"
    },
    {
      "cell_type": "markdown",
      "source": [
        "###a)"
      ],
      "metadata": {
        "id": "3_TQOHFi_ZmW"
      },
      "id": "3_TQOHFi_ZmW"
    },
    {
      "cell_type": "markdown",
      "source": [
        "Texto 5)a)"
      ],
      "metadata": {
        "id": "W5Ovma9s_dD8"
      },
      "id": "W5Ovma9s_dD8"
    },
    {
      "cell_type": "code",
      "source": [
        "SUBE_2023_regresion.head()"
      ],
      "metadata": {
        "colab": {
          "base_uri": "https://localhost:8080/",
          "height": 206
        },
        "id": "nXmSgm61l648",
        "outputId": "c753a60f-ffd2-41e4-8104-07a2da30a680"
      },
      "id": "nXmSgm61l648",
      "execution_count": 6,
      "outputs": [
        {
          "output_type": "execute_result",
          "data": {
            "text/plain": [
              "  DIA_TRANSPORTE                                     NOMBRE_EMPRESA  \\\n",
              "0     2023-01-01  MUNICIPALIDAD DE MERCEDES PROVINCIA DE BUENOS ...   \n",
              "1     2023-01-01  MUNICIPALIDAD DE MERCEDES PROVINCIA DE BUENOS ...   \n",
              "2     2023-01-01                                 EMPRESA BATAN S.A.   \n",
              "3     2023-01-01               COMPAÑIA  DE TRANSPORTE VECINAL S.A.   \n",
              "4     2023-01-01           EMPRESA DE TRANSPORTE PERALTA RAMOS SACI   \n",
              "\n",
              "              LINEA AMBA TIPO_TRANSPORTE JURISDICCION     PROVINCIA  \\\n",
              "0                 1   SI       COLECTIVO    MUNICIPAL  BUENOS AIRES   \n",
              "1                2B   SI       COLECTIVO    MUNICIPAL  BUENOS AIRES   \n",
              "2  BS_AS_LINEA 715M   NO       COLECTIVO    MUNICIPAL  BUENOS AIRES   \n",
              "3   BS_AS_LINEA_326   SI       COLECTIVO   PROVINCIAL  BUENOS AIRES   \n",
              "4   BS_AS_LINEA_512   NO       COLECTIVO    MUNICIPAL  BUENOS AIRES   \n",
              "\n",
              "            MUNICIPIO  CANTIDAD DATO_PRELIMINAR  \n",
              "0            MERCEDES        61              NO  \n",
              "1            MERCEDES        11              NO  \n",
              "2  GENERAL PUEYRREDON      1707              NO  \n",
              "3                  SN       438              NO  \n",
              "4  GENERAL PUEYRREDON      1189              NO  "
            ],
            "text/html": [
              "\n",
              "  <div id=\"df-f41723d4-e250-4622-95d5-612ba5f3197e\" class=\"colab-df-container\">\n",
              "    <div>\n",
              "<style scoped>\n",
              "    .dataframe tbody tr th:only-of-type {\n",
              "        vertical-align: middle;\n",
              "    }\n",
              "\n",
              "    .dataframe tbody tr th {\n",
              "        vertical-align: top;\n",
              "    }\n",
              "\n",
              "    .dataframe thead th {\n",
              "        text-align: right;\n",
              "    }\n",
              "</style>\n",
              "<table border=\"1\" class=\"dataframe\">\n",
              "  <thead>\n",
              "    <tr style=\"text-align: right;\">\n",
              "      <th></th>\n",
              "      <th>DIA_TRANSPORTE</th>\n",
              "      <th>NOMBRE_EMPRESA</th>\n",
              "      <th>LINEA</th>\n",
              "      <th>AMBA</th>\n",
              "      <th>TIPO_TRANSPORTE</th>\n",
              "      <th>JURISDICCION</th>\n",
              "      <th>PROVINCIA</th>\n",
              "      <th>MUNICIPIO</th>\n",
              "      <th>CANTIDAD</th>\n",
              "      <th>DATO_PRELIMINAR</th>\n",
              "    </tr>\n",
              "  </thead>\n",
              "  <tbody>\n",
              "    <tr>\n",
              "      <th>0</th>\n",
              "      <td>2023-01-01</td>\n",
              "      <td>MUNICIPALIDAD DE MERCEDES PROVINCIA DE BUENOS ...</td>\n",
              "      <td>1</td>\n",
              "      <td>SI</td>\n",
              "      <td>COLECTIVO</td>\n",
              "      <td>MUNICIPAL</td>\n",
              "      <td>BUENOS AIRES</td>\n",
              "      <td>MERCEDES</td>\n",
              "      <td>61</td>\n",
              "      <td>NO</td>\n",
              "    </tr>\n",
              "    <tr>\n",
              "      <th>1</th>\n",
              "      <td>2023-01-01</td>\n",
              "      <td>MUNICIPALIDAD DE MERCEDES PROVINCIA DE BUENOS ...</td>\n",
              "      <td>2B</td>\n",
              "      <td>SI</td>\n",
              "      <td>COLECTIVO</td>\n",
              "      <td>MUNICIPAL</td>\n",
              "      <td>BUENOS AIRES</td>\n",
              "      <td>MERCEDES</td>\n",
              "      <td>11</td>\n",
              "      <td>NO</td>\n",
              "    </tr>\n",
              "    <tr>\n",
              "      <th>2</th>\n",
              "      <td>2023-01-01</td>\n",
              "      <td>EMPRESA BATAN S.A.</td>\n",
              "      <td>BS_AS_LINEA 715M</td>\n",
              "      <td>NO</td>\n",
              "      <td>COLECTIVO</td>\n",
              "      <td>MUNICIPAL</td>\n",
              "      <td>BUENOS AIRES</td>\n",
              "      <td>GENERAL PUEYRREDON</td>\n",
              "      <td>1707</td>\n",
              "      <td>NO</td>\n",
              "    </tr>\n",
              "    <tr>\n",
              "      <th>3</th>\n",
              "      <td>2023-01-01</td>\n",
              "      <td>COMPAÑIA  DE TRANSPORTE VECINAL S.A.</td>\n",
              "      <td>BS_AS_LINEA_326</td>\n",
              "      <td>SI</td>\n",
              "      <td>COLECTIVO</td>\n",
              "      <td>PROVINCIAL</td>\n",
              "      <td>BUENOS AIRES</td>\n",
              "      <td>SN</td>\n",
              "      <td>438</td>\n",
              "      <td>NO</td>\n",
              "    </tr>\n",
              "    <tr>\n",
              "      <th>4</th>\n",
              "      <td>2023-01-01</td>\n",
              "      <td>EMPRESA DE TRANSPORTE PERALTA RAMOS SACI</td>\n",
              "      <td>BS_AS_LINEA_512</td>\n",
              "      <td>NO</td>\n",
              "      <td>COLECTIVO</td>\n",
              "      <td>MUNICIPAL</td>\n",
              "      <td>BUENOS AIRES</td>\n",
              "      <td>GENERAL PUEYRREDON</td>\n",
              "      <td>1189</td>\n",
              "      <td>NO</td>\n",
              "    </tr>\n",
              "  </tbody>\n",
              "</table>\n",
              "</div>\n",
              "    <div class=\"colab-df-buttons\">\n",
              "\n",
              "  <div class=\"colab-df-container\">\n",
              "    <button class=\"colab-df-convert\" onclick=\"convertToInteractive('df-f41723d4-e250-4622-95d5-612ba5f3197e')\"\n",
              "            title=\"Convert this dataframe to an interactive table.\"\n",
              "            style=\"display:none;\">\n",
              "\n",
              "  <svg xmlns=\"http://www.w3.org/2000/svg\" height=\"24px\" viewBox=\"0 -960 960 960\">\n",
              "    <path d=\"M120-120v-720h720v720H120Zm60-500h600v-160H180v160Zm220 220h160v-160H400v160Zm0 220h160v-160H400v160ZM180-400h160v-160H180v160Zm440 0h160v-160H620v160ZM180-180h160v-160H180v160Zm440 0h160v-160H620v160Z\"/>\n",
              "  </svg>\n",
              "    </button>\n",
              "\n",
              "  <style>\n",
              "    .colab-df-container {\n",
              "      display:flex;\n",
              "      gap: 12px;\n",
              "    }\n",
              "\n",
              "    .colab-df-convert {\n",
              "      background-color: #E8F0FE;\n",
              "      border: none;\n",
              "      border-radius: 50%;\n",
              "      cursor: pointer;\n",
              "      display: none;\n",
              "      fill: #1967D2;\n",
              "      height: 32px;\n",
              "      padding: 0 0 0 0;\n",
              "      width: 32px;\n",
              "    }\n",
              "\n",
              "    .colab-df-convert:hover {\n",
              "      background-color: #E2EBFA;\n",
              "      box-shadow: 0px 1px 2px rgba(60, 64, 67, 0.3), 0px 1px 3px 1px rgba(60, 64, 67, 0.15);\n",
              "      fill: #174EA6;\n",
              "    }\n",
              "\n",
              "    .colab-df-buttons div {\n",
              "      margin-bottom: 4px;\n",
              "    }\n",
              "\n",
              "    [theme=dark] .colab-df-convert {\n",
              "      background-color: #3B4455;\n",
              "      fill: #D2E3FC;\n",
              "    }\n",
              "\n",
              "    [theme=dark] .colab-df-convert:hover {\n",
              "      background-color: #434B5C;\n",
              "      box-shadow: 0px 1px 3px 1px rgba(0, 0, 0, 0.15);\n",
              "      filter: drop-shadow(0px 1px 2px rgba(0, 0, 0, 0.3));\n",
              "      fill: #FFFFFF;\n",
              "    }\n",
              "  </style>\n",
              "\n",
              "    <script>\n",
              "      const buttonEl =\n",
              "        document.querySelector('#df-f41723d4-e250-4622-95d5-612ba5f3197e button.colab-df-convert');\n",
              "      buttonEl.style.display =\n",
              "        google.colab.kernel.accessAllowed ? 'block' : 'none';\n",
              "\n",
              "      async function convertToInteractive(key) {\n",
              "        const element = document.querySelector('#df-f41723d4-e250-4622-95d5-612ba5f3197e');\n",
              "        const dataTable =\n",
              "          await google.colab.kernel.invokeFunction('convertToInteractive',\n",
              "                                                    [key], {});\n",
              "        if (!dataTable) return;\n",
              "\n",
              "        const docLinkHtml = 'Like what you see? Visit the ' +\n",
              "          '<a target=\"_blank\" href=https://colab.research.google.com/notebooks/data_table.ipynb>data table notebook</a>'\n",
              "          + ' to learn more about interactive tables.';\n",
              "        element.innerHTML = '';\n",
              "        dataTable['output_type'] = 'display_data';\n",
              "        await google.colab.output.renderOutput(dataTable, element);\n",
              "        const docLink = document.createElement('div');\n",
              "        docLink.innerHTML = docLinkHtml;\n",
              "        element.appendChild(docLink);\n",
              "      }\n",
              "    </script>\n",
              "  </div>\n",
              "\n",
              "\n",
              "<div id=\"df-613a6cf8-bddc-459b-8045-37c693d8e91c\">\n",
              "  <button class=\"colab-df-quickchart\" onclick=\"quickchart('df-613a6cf8-bddc-459b-8045-37c693d8e91c')\"\n",
              "            title=\"Suggest charts\"\n",
              "            style=\"display:none;\">\n",
              "\n",
              "<svg xmlns=\"http://www.w3.org/2000/svg\" height=\"24px\"viewBox=\"0 0 24 24\"\n",
              "     width=\"24px\">\n",
              "    <g>\n",
              "        <path d=\"M19 3H5c-1.1 0-2 .9-2 2v14c0 1.1.9 2 2 2h14c1.1 0 2-.9 2-2V5c0-1.1-.9-2-2-2zM9 17H7v-7h2v7zm4 0h-2V7h2v10zm4 0h-2v-4h2v4z\"/>\n",
              "    </g>\n",
              "</svg>\n",
              "  </button>\n",
              "\n",
              "<style>\n",
              "  .colab-df-quickchart {\n",
              "      --bg-color: #E8F0FE;\n",
              "      --fill-color: #1967D2;\n",
              "      --hover-bg-color: #E2EBFA;\n",
              "      --hover-fill-color: #174EA6;\n",
              "      --disabled-fill-color: #AAA;\n",
              "      --disabled-bg-color: #DDD;\n",
              "  }\n",
              "\n",
              "  [theme=dark] .colab-df-quickchart {\n",
              "      --bg-color: #3B4455;\n",
              "      --fill-color: #D2E3FC;\n",
              "      --hover-bg-color: #434B5C;\n",
              "      --hover-fill-color: #FFFFFF;\n",
              "      --disabled-bg-color: #3B4455;\n",
              "      --disabled-fill-color: #666;\n",
              "  }\n",
              "\n",
              "  .colab-df-quickchart {\n",
              "    background-color: var(--bg-color);\n",
              "    border: none;\n",
              "    border-radius: 50%;\n",
              "    cursor: pointer;\n",
              "    display: none;\n",
              "    fill: var(--fill-color);\n",
              "    height: 32px;\n",
              "    padding: 0;\n",
              "    width: 32px;\n",
              "  }\n",
              "\n",
              "  .colab-df-quickchart:hover {\n",
              "    background-color: var(--hover-bg-color);\n",
              "    box-shadow: 0 1px 2px rgba(60, 64, 67, 0.3), 0 1px 3px 1px rgba(60, 64, 67, 0.15);\n",
              "    fill: var(--button-hover-fill-color);\n",
              "  }\n",
              "\n",
              "  .colab-df-quickchart-complete:disabled,\n",
              "  .colab-df-quickchart-complete:disabled:hover {\n",
              "    background-color: var(--disabled-bg-color);\n",
              "    fill: var(--disabled-fill-color);\n",
              "    box-shadow: none;\n",
              "  }\n",
              "\n",
              "  .colab-df-spinner {\n",
              "    border: 2px solid var(--fill-color);\n",
              "    border-color: transparent;\n",
              "    border-bottom-color: var(--fill-color);\n",
              "    animation:\n",
              "      spin 1s steps(1) infinite;\n",
              "  }\n",
              "\n",
              "  @keyframes spin {\n",
              "    0% {\n",
              "      border-color: transparent;\n",
              "      border-bottom-color: var(--fill-color);\n",
              "      border-left-color: var(--fill-color);\n",
              "    }\n",
              "    20% {\n",
              "      border-color: transparent;\n",
              "      border-left-color: var(--fill-color);\n",
              "      border-top-color: var(--fill-color);\n",
              "    }\n",
              "    30% {\n",
              "      border-color: transparent;\n",
              "      border-left-color: var(--fill-color);\n",
              "      border-top-color: var(--fill-color);\n",
              "      border-right-color: var(--fill-color);\n",
              "    }\n",
              "    40% {\n",
              "      border-color: transparent;\n",
              "      border-right-color: var(--fill-color);\n",
              "      border-top-color: var(--fill-color);\n",
              "    }\n",
              "    60% {\n",
              "      border-color: transparent;\n",
              "      border-right-color: var(--fill-color);\n",
              "    }\n",
              "    80% {\n",
              "      border-color: transparent;\n",
              "      border-right-color: var(--fill-color);\n",
              "      border-bottom-color: var(--fill-color);\n",
              "    }\n",
              "    90% {\n",
              "      border-color: transparent;\n",
              "      border-bottom-color: var(--fill-color);\n",
              "    }\n",
              "  }\n",
              "</style>\n",
              "\n",
              "  <script>\n",
              "    async function quickchart(key) {\n",
              "      const quickchartButtonEl =\n",
              "        document.querySelector('#' + key + ' button');\n",
              "      quickchartButtonEl.disabled = true;  // To prevent multiple clicks.\n",
              "      quickchartButtonEl.classList.add('colab-df-spinner');\n",
              "      try {\n",
              "        const charts = await google.colab.kernel.invokeFunction(\n",
              "            'suggestCharts', [key], {});\n",
              "      } catch (error) {\n",
              "        console.error('Error during call to suggestCharts:', error);\n",
              "      }\n",
              "      quickchartButtonEl.classList.remove('colab-df-spinner');\n",
              "      quickchartButtonEl.classList.add('colab-df-quickchart-complete');\n",
              "    }\n",
              "    (() => {\n",
              "      let quickchartButtonEl =\n",
              "        document.querySelector('#df-613a6cf8-bddc-459b-8045-37c693d8e91c button');\n",
              "      quickchartButtonEl.style.display =\n",
              "        google.colab.kernel.accessAllowed ? 'block' : 'none';\n",
              "    })();\n",
              "  </script>\n",
              "</div>\n",
              "\n",
              "    </div>\n",
              "  </div>\n"
            ],
            "application/vnd.google.colaboratory.intrinsic+json": {
              "type": "dataframe",
              "variable_name": "SUBE_2023_regresion"
            }
          },
          "metadata": {},
          "execution_count": 6
        }
      ]
    },
    {
      "cell_type": "code",
      "source": [
        "condicion = ((SUBE_2023_regresion.AMBA == 'SI') & (SUBE_2023_regresion.TIPO_TRANSPORTE == 'COLECTIVO')) & ((SUBE_2023_regresion.JURISDICCION == 'NACIONAL') & (SUBE_2023_regresion.PROVINCIA == 'JN'))\n",
        "datos_ColectivoJN = SUBE_2023_regresion[condicion]\n",
        "cols = datos_ColectivoJN.LINEA.unique()  # Los nombres de las lineas de colectivo\n",
        "\n",
        "pasajeros_por_linea = pd.DataFrame()\n",
        "\n",
        "for col in cols:\n",
        "    datos_linea = datos_ColectivoJN[datos_ColectivoJN.LINEA == col][[\"DIA_TRANSPORTE\", \"CANTIDAD\"]]\n",
        "    datos_linea = datos_linea.set_index(\"DIA_TRANSPORTE\").rename(columns={\"CANTIDAD\": col})\n",
        "    pasajeros_por_linea = pd.concat([pasajeros_por_linea, datos_linea], axis=1)\n",
        "\n",
        "display(pasajeros_por_linea.head())\n"
      ],
      "metadata": {
        "colab": {
          "base_uri": "https://localhost:8080/",
          "height": 304
        },
        "id": "nf6bIn8v45H0",
        "outputId": "1a5e296f-f75a-4c7b-8fb0-aabde22498d0"
      },
      "id": "nf6bIn8v45H0",
      "execution_count": 14,
      "outputs": [
        {
          "output_type": "display_data",
          "data": {
            "text/plain": [
              "                BS_ASLINEA_123  BSAS_LINEA_002  BSAS_LINEA_009  \\\n",
              "DIA_TRANSPORTE                                                   \n",
              "2023-01-01                1681            5670            5644   \n",
              "2023-01-02                9440           21759           23284   \n",
              "2023-01-04               10540           24755           25405   \n",
              "2023-01-05               10408           25772           26489   \n",
              "2023-01-06               10530           26021           26458   \n",
              "\n",
              "                BSAS_LINEA_010  BSAS_LINEA_015  BSAS_LINEA_017  \\\n",
              "DIA_TRANSPORTE                                                   \n",
              "2023-01-01                5177            9109            7013   \n",
              "2023-01-02               21176           45269           29962   \n",
              "2023-01-04               23806           52873           33659   \n",
              "2023-01-05               24688           53436           35182   \n",
              "2023-01-06               24167           53163           35212   \n",
              "\n",
              "                BSAS_LINEA_019  BSAS_LINEA_020  BSAS_LINEA_021  \\\n",
              "DIA_TRANSPORTE                                                   \n",
              "2023-01-01                1604            2617           11235   \n",
              "2023-01-02               13921           11934           55611   \n",
              "2023-01-04               16172           13366           61721   \n",
              "2023-01-05               16569           12929           62510   \n",
              "2023-01-06               16459           12955           63528   \n",
              "\n",
              "                BSAS_LINEA_022  ...  LINEA 5  LINEA 50  LINEA 6  LINEA 7  \\\n",
              "DIA_TRANSPORTE                  ...                                        \n",
              "2023-01-01                2202  ...   4832.0      4839     2449     2184   \n",
              "2023-01-02               13823  ...  20333.0     16221    10486    12774   \n",
              "2023-01-04               16206  ...  23041.0     18448    12193    13949   \n",
              "2023-01-05               16863  ...  23928.0     18481    12888    14668   \n",
              "2023-01-06               16846  ...  24247.0     19300    12703    14199   \n",
              "\n",
              "                LINEA 76  LINEA 8  LINEA_099  LINEA_119_AMBA  LINEA_164_AMBA  \\\n",
              "DIA_TRANSPORTE                                                                 \n",
              "2023-01-01          3797     5317       1882          1573.0            3210   \n",
              "2023-01-02         17374    23250      10322          7345.0           19362   \n",
              "2023-01-04         19860    26294      11981          7925.0           21784   \n",
              "2023-01-05         21235    27216      11787          7597.0           22972   \n",
              "2023-01-06         23472    27073      11567          7811.0           23411   \n",
              "\n",
              "                LINEA 119  \n",
              "DIA_TRANSPORTE             \n",
              "2023-01-01            NaN  \n",
              "2023-01-02            NaN  \n",
              "2023-01-04            NaN  \n",
              "2023-01-05            NaN  \n",
              "2023-01-06            NaN  \n",
              "\n",
              "[5 rows x 136 columns]"
            ],
            "text/html": [
              "\n",
              "  <div id=\"df-6c371902-7170-441b-b4f9-1e83ddcb481a\" class=\"colab-df-container\">\n",
              "    <div>\n",
              "<style scoped>\n",
              "    .dataframe tbody tr th:only-of-type {\n",
              "        vertical-align: middle;\n",
              "    }\n",
              "\n",
              "    .dataframe tbody tr th {\n",
              "        vertical-align: top;\n",
              "    }\n",
              "\n",
              "    .dataframe thead th {\n",
              "        text-align: right;\n",
              "    }\n",
              "</style>\n",
              "<table border=\"1\" class=\"dataframe\">\n",
              "  <thead>\n",
              "    <tr style=\"text-align: right;\">\n",
              "      <th></th>\n",
              "      <th>BS_ASLINEA_123</th>\n",
              "      <th>BSAS_LINEA_002</th>\n",
              "      <th>BSAS_LINEA_009</th>\n",
              "      <th>BSAS_LINEA_010</th>\n",
              "      <th>BSAS_LINEA_015</th>\n",
              "      <th>BSAS_LINEA_017</th>\n",
              "      <th>BSAS_LINEA_019</th>\n",
              "      <th>BSAS_LINEA_020</th>\n",
              "      <th>BSAS_LINEA_021</th>\n",
              "      <th>BSAS_LINEA_022</th>\n",
              "      <th>...</th>\n",
              "      <th>LINEA 5</th>\n",
              "      <th>LINEA 50</th>\n",
              "      <th>LINEA 6</th>\n",
              "      <th>LINEA 7</th>\n",
              "      <th>LINEA 76</th>\n",
              "      <th>LINEA 8</th>\n",
              "      <th>LINEA_099</th>\n",
              "      <th>LINEA_119_AMBA</th>\n",
              "      <th>LINEA_164_AMBA</th>\n",
              "      <th>LINEA 119</th>\n",
              "    </tr>\n",
              "    <tr>\n",
              "      <th>DIA_TRANSPORTE</th>\n",
              "      <th></th>\n",
              "      <th></th>\n",
              "      <th></th>\n",
              "      <th></th>\n",
              "      <th></th>\n",
              "      <th></th>\n",
              "      <th></th>\n",
              "      <th></th>\n",
              "      <th></th>\n",
              "      <th></th>\n",
              "      <th></th>\n",
              "      <th></th>\n",
              "      <th></th>\n",
              "      <th></th>\n",
              "      <th></th>\n",
              "      <th></th>\n",
              "      <th></th>\n",
              "      <th></th>\n",
              "      <th></th>\n",
              "      <th></th>\n",
              "      <th></th>\n",
              "    </tr>\n",
              "  </thead>\n",
              "  <tbody>\n",
              "    <tr>\n",
              "      <th>2023-01-01</th>\n",
              "      <td>1681</td>\n",
              "      <td>5670</td>\n",
              "      <td>5644</td>\n",
              "      <td>5177</td>\n",
              "      <td>9109</td>\n",
              "      <td>7013</td>\n",
              "      <td>1604</td>\n",
              "      <td>2617</td>\n",
              "      <td>11235</td>\n",
              "      <td>2202</td>\n",
              "      <td>...</td>\n",
              "      <td>4832.0</td>\n",
              "      <td>4839</td>\n",
              "      <td>2449</td>\n",
              "      <td>2184</td>\n",
              "      <td>3797</td>\n",
              "      <td>5317</td>\n",
              "      <td>1882</td>\n",
              "      <td>1573.0</td>\n",
              "      <td>3210</td>\n",
              "      <td>NaN</td>\n",
              "    </tr>\n",
              "    <tr>\n",
              "      <th>2023-01-02</th>\n",
              "      <td>9440</td>\n",
              "      <td>21759</td>\n",
              "      <td>23284</td>\n",
              "      <td>21176</td>\n",
              "      <td>45269</td>\n",
              "      <td>29962</td>\n",
              "      <td>13921</td>\n",
              "      <td>11934</td>\n",
              "      <td>55611</td>\n",
              "      <td>13823</td>\n",
              "      <td>...</td>\n",
              "      <td>20333.0</td>\n",
              "      <td>16221</td>\n",
              "      <td>10486</td>\n",
              "      <td>12774</td>\n",
              "      <td>17374</td>\n",
              "      <td>23250</td>\n",
              "      <td>10322</td>\n",
              "      <td>7345.0</td>\n",
              "      <td>19362</td>\n",
              "      <td>NaN</td>\n",
              "    </tr>\n",
              "    <tr>\n",
              "      <th>2023-01-04</th>\n",
              "      <td>10540</td>\n",
              "      <td>24755</td>\n",
              "      <td>25405</td>\n",
              "      <td>23806</td>\n",
              "      <td>52873</td>\n",
              "      <td>33659</td>\n",
              "      <td>16172</td>\n",
              "      <td>13366</td>\n",
              "      <td>61721</td>\n",
              "      <td>16206</td>\n",
              "      <td>...</td>\n",
              "      <td>23041.0</td>\n",
              "      <td>18448</td>\n",
              "      <td>12193</td>\n",
              "      <td>13949</td>\n",
              "      <td>19860</td>\n",
              "      <td>26294</td>\n",
              "      <td>11981</td>\n",
              "      <td>7925.0</td>\n",
              "      <td>21784</td>\n",
              "      <td>NaN</td>\n",
              "    </tr>\n",
              "    <tr>\n",
              "      <th>2023-01-05</th>\n",
              "      <td>10408</td>\n",
              "      <td>25772</td>\n",
              "      <td>26489</td>\n",
              "      <td>24688</td>\n",
              "      <td>53436</td>\n",
              "      <td>35182</td>\n",
              "      <td>16569</td>\n",
              "      <td>12929</td>\n",
              "      <td>62510</td>\n",
              "      <td>16863</td>\n",
              "      <td>...</td>\n",
              "      <td>23928.0</td>\n",
              "      <td>18481</td>\n",
              "      <td>12888</td>\n",
              "      <td>14668</td>\n",
              "      <td>21235</td>\n",
              "      <td>27216</td>\n",
              "      <td>11787</td>\n",
              "      <td>7597.0</td>\n",
              "      <td>22972</td>\n",
              "      <td>NaN</td>\n",
              "    </tr>\n",
              "    <tr>\n",
              "      <th>2023-01-06</th>\n",
              "      <td>10530</td>\n",
              "      <td>26021</td>\n",
              "      <td>26458</td>\n",
              "      <td>24167</td>\n",
              "      <td>53163</td>\n",
              "      <td>35212</td>\n",
              "      <td>16459</td>\n",
              "      <td>12955</td>\n",
              "      <td>63528</td>\n",
              "      <td>16846</td>\n",
              "      <td>...</td>\n",
              "      <td>24247.0</td>\n",
              "      <td>19300</td>\n",
              "      <td>12703</td>\n",
              "      <td>14199</td>\n",
              "      <td>23472</td>\n",
              "      <td>27073</td>\n",
              "      <td>11567</td>\n",
              "      <td>7811.0</td>\n",
              "      <td>23411</td>\n",
              "      <td>NaN</td>\n",
              "    </tr>\n",
              "  </tbody>\n",
              "</table>\n",
              "<p>5 rows × 136 columns</p>\n",
              "</div>\n",
              "    <div class=\"colab-df-buttons\">\n",
              "\n",
              "  <div class=\"colab-df-container\">\n",
              "    <button class=\"colab-df-convert\" onclick=\"convertToInteractive('df-6c371902-7170-441b-b4f9-1e83ddcb481a')\"\n",
              "            title=\"Convert this dataframe to an interactive table.\"\n",
              "            style=\"display:none;\">\n",
              "\n",
              "  <svg xmlns=\"http://www.w3.org/2000/svg\" height=\"24px\" viewBox=\"0 -960 960 960\">\n",
              "    <path d=\"M120-120v-720h720v720H120Zm60-500h600v-160H180v160Zm220 220h160v-160H400v160Zm0 220h160v-160H400v160ZM180-400h160v-160H180v160Zm440 0h160v-160H620v160ZM180-180h160v-160H180v160Zm440 0h160v-160H620v160Z\"/>\n",
              "  </svg>\n",
              "    </button>\n",
              "\n",
              "  <style>\n",
              "    .colab-df-container {\n",
              "      display:flex;\n",
              "      gap: 12px;\n",
              "    }\n",
              "\n",
              "    .colab-df-convert {\n",
              "      background-color: #E8F0FE;\n",
              "      border: none;\n",
              "      border-radius: 50%;\n",
              "      cursor: pointer;\n",
              "      display: none;\n",
              "      fill: #1967D2;\n",
              "      height: 32px;\n",
              "      padding: 0 0 0 0;\n",
              "      width: 32px;\n",
              "    }\n",
              "\n",
              "    .colab-df-convert:hover {\n",
              "      background-color: #E2EBFA;\n",
              "      box-shadow: 0px 1px 2px rgba(60, 64, 67, 0.3), 0px 1px 3px 1px rgba(60, 64, 67, 0.15);\n",
              "      fill: #174EA6;\n",
              "    }\n",
              "\n",
              "    .colab-df-buttons div {\n",
              "      margin-bottom: 4px;\n",
              "    }\n",
              "\n",
              "    [theme=dark] .colab-df-convert {\n",
              "      background-color: #3B4455;\n",
              "      fill: #D2E3FC;\n",
              "    }\n",
              "\n",
              "    [theme=dark] .colab-df-convert:hover {\n",
              "      background-color: #434B5C;\n",
              "      box-shadow: 0px 1px 3px 1px rgba(0, 0, 0, 0.15);\n",
              "      filter: drop-shadow(0px 1px 2px rgba(0, 0, 0, 0.3));\n",
              "      fill: #FFFFFF;\n",
              "    }\n",
              "  </style>\n",
              "\n",
              "    <script>\n",
              "      const buttonEl =\n",
              "        document.querySelector('#df-6c371902-7170-441b-b4f9-1e83ddcb481a button.colab-df-convert');\n",
              "      buttonEl.style.display =\n",
              "        google.colab.kernel.accessAllowed ? 'block' : 'none';\n",
              "\n",
              "      async function convertToInteractive(key) {\n",
              "        const element = document.querySelector('#df-6c371902-7170-441b-b4f9-1e83ddcb481a');\n",
              "        const dataTable =\n",
              "          await google.colab.kernel.invokeFunction('convertToInteractive',\n",
              "                                                    [key], {});\n",
              "        if (!dataTable) return;\n",
              "\n",
              "        const docLinkHtml = 'Like what you see? Visit the ' +\n",
              "          '<a target=\"_blank\" href=https://colab.research.google.com/notebooks/data_table.ipynb>data table notebook</a>'\n",
              "          + ' to learn more about interactive tables.';\n",
              "        element.innerHTML = '';\n",
              "        dataTable['output_type'] = 'display_data';\n",
              "        await google.colab.output.renderOutput(dataTable, element);\n",
              "        const docLink = document.createElement('div');\n",
              "        docLink.innerHTML = docLinkHtml;\n",
              "        element.appendChild(docLink);\n",
              "      }\n",
              "    </script>\n",
              "  </div>\n",
              "\n",
              "\n",
              "<div id=\"df-c0cffcea-1ef1-442f-8784-a1610a7caac3\">\n",
              "  <button class=\"colab-df-quickchart\" onclick=\"quickchart('df-c0cffcea-1ef1-442f-8784-a1610a7caac3')\"\n",
              "            title=\"Suggest charts\"\n",
              "            style=\"display:none;\">\n",
              "\n",
              "<svg xmlns=\"http://www.w3.org/2000/svg\" height=\"24px\"viewBox=\"0 0 24 24\"\n",
              "     width=\"24px\">\n",
              "    <g>\n",
              "        <path d=\"M19 3H5c-1.1 0-2 .9-2 2v14c0 1.1.9 2 2 2h14c1.1 0 2-.9 2-2V5c0-1.1-.9-2-2-2zM9 17H7v-7h2v7zm4 0h-2V7h2v10zm4 0h-2v-4h2v4z\"/>\n",
              "    </g>\n",
              "</svg>\n",
              "  </button>\n",
              "\n",
              "<style>\n",
              "  .colab-df-quickchart {\n",
              "      --bg-color: #E8F0FE;\n",
              "      --fill-color: #1967D2;\n",
              "      --hover-bg-color: #E2EBFA;\n",
              "      --hover-fill-color: #174EA6;\n",
              "      --disabled-fill-color: #AAA;\n",
              "      --disabled-bg-color: #DDD;\n",
              "  }\n",
              "\n",
              "  [theme=dark] .colab-df-quickchart {\n",
              "      --bg-color: #3B4455;\n",
              "      --fill-color: #D2E3FC;\n",
              "      --hover-bg-color: #434B5C;\n",
              "      --hover-fill-color: #FFFFFF;\n",
              "      --disabled-bg-color: #3B4455;\n",
              "      --disabled-fill-color: #666;\n",
              "  }\n",
              "\n",
              "  .colab-df-quickchart {\n",
              "    background-color: var(--bg-color);\n",
              "    border: none;\n",
              "    border-radius: 50%;\n",
              "    cursor: pointer;\n",
              "    display: none;\n",
              "    fill: var(--fill-color);\n",
              "    height: 32px;\n",
              "    padding: 0;\n",
              "    width: 32px;\n",
              "  }\n",
              "\n",
              "  .colab-df-quickchart:hover {\n",
              "    background-color: var(--hover-bg-color);\n",
              "    box-shadow: 0 1px 2px rgba(60, 64, 67, 0.3), 0 1px 3px 1px rgba(60, 64, 67, 0.15);\n",
              "    fill: var(--button-hover-fill-color);\n",
              "  }\n",
              "\n",
              "  .colab-df-quickchart-complete:disabled,\n",
              "  .colab-df-quickchart-complete:disabled:hover {\n",
              "    background-color: var(--disabled-bg-color);\n",
              "    fill: var(--disabled-fill-color);\n",
              "    box-shadow: none;\n",
              "  }\n",
              "\n",
              "  .colab-df-spinner {\n",
              "    border: 2px solid var(--fill-color);\n",
              "    border-color: transparent;\n",
              "    border-bottom-color: var(--fill-color);\n",
              "    animation:\n",
              "      spin 1s steps(1) infinite;\n",
              "  }\n",
              "\n",
              "  @keyframes spin {\n",
              "    0% {\n",
              "      border-color: transparent;\n",
              "      border-bottom-color: var(--fill-color);\n",
              "      border-left-color: var(--fill-color);\n",
              "    }\n",
              "    20% {\n",
              "      border-color: transparent;\n",
              "      border-left-color: var(--fill-color);\n",
              "      border-top-color: var(--fill-color);\n",
              "    }\n",
              "    30% {\n",
              "      border-color: transparent;\n",
              "      border-left-color: var(--fill-color);\n",
              "      border-top-color: var(--fill-color);\n",
              "      border-right-color: var(--fill-color);\n",
              "    }\n",
              "    40% {\n",
              "      border-color: transparent;\n",
              "      border-right-color: var(--fill-color);\n",
              "      border-top-color: var(--fill-color);\n",
              "    }\n",
              "    60% {\n",
              "      border-color: transparent;\n",
              "      border-right-color: var(--fill-color);\n",
              "    }\n",
              "    80% {\n",
              "      border-color: transparent;\n",
              "      border-right-color: var(--fill-color);\n",
              "      border-bottom-color: var(--fill-color);\n",
              "    }\n",
              "    90% {\n",
              "      border-color: transparent;\n",
              "      border-bottom-color: var(--fill-color);\n",
              "    }\n",
              "  }\n",
              "</style>\n",
              "\n",
              "  <script>\n",
              "    async function quickchart(key) {\n",
              "      const quickchartButtonEl =\n",
              "        document.querySelector('#' + key + ' button');\n",
              "      quickchartButtonEl.disabled = true;  // To prevent multiple clicks.\n",
              "      quickchartButtonEl.classList.add('colab-df-spinner');\n",
              "      try {\n",
              "        const charts = await google.colab.kernel.invokeFunction(\n",
              "            'suggestCharts', [key], {});\n",
              "      } catch (error) {\n",
              "        console.error('Error during call to suggestCharts:', error);\n",
              "      }\n",
              "      quickchartButtonEl.classList.remove('colab-df-spinner');\n",
              "      quickchartButtonEl.classList.add('colab-df-quickchart-complete');\n",
              "    }\n",
              "    (() => {\n",
              "      let quickchartButtonEl =\n",
              "        document.querySelector('#df-c0cffcea-1ef1-442f-8784-a1610a7caac3 button');\n",
              "      quickchartButtonEl.style.display =\n",
              "        google.colab.kernel.accessAllowed ? 'block' : 'none';\n",
              "    })();\n",
              "  </script>\n",
              "</div>\n",
              "\n",
              "    </div>\n",
              "  </div>\n"
            ],
            "application/vnd.google.colaboratory.intrinsic+json": {
              "type": "dataframe"
            }
          },
          "metadata": {}
        }
      ]
    },
    {
      "cell_type": "markdown",
      "source": [
        "###b)"
      ],
      "metadata": {
        "id": "wqs54nFu_fYO"
      },
      "id": "wqs54nFu_fYO"
    },
    {
      "cell_type": "markdown",
      "source": [
        "Texto 5)b)"
      ],
      "metadata": {
        "id": "YFzdmBrb_guL"
      },
      "id": "YFzdmBrb_guL"
    },
    {
      "cell_type": "code",
      "source": [
        "pasajeros_por_linea = pasajeros_por_linea.dropna(axis = 1)"
      ],
      "metadata": {
        "id": "TuON8QLd3IaS"
      },
      "id": "TuON8QLd3IaS",
      "execution_count": 15,
      "outputs": []
    },
    {
      "cell_type": "markdown",
      "source": [
        "###c)"
      ],
      "metadata": {
        "id": "T3UGfDrE_hhz"
      },
      "id": "T3UGfDrE_hhz"
    },
    {
      "cell_type": "markdown",
      "source": [
        "Texto 5)c)"
      ],
      "metadata": {
        "id": "Qd5JGm-f_ilS"
      },
      "id": "Qd5JGm-f_ilS"
    },
    {
      "cell_type": "code",
      "source": [],
      "metadata": {
        "id": "RI7YMNi_4pMf"
      },
      "id": "RI7YMNi_4pMf",
      "execution_count": null,
      "outputs": []
    },
    {
      "cell_type": "markdown",
      "source": [
        "###d)"
      ],
      "metadata": {
        "id": "C_yxyFm9_jRL"
      },
      "id": "C_yxyFm9_jRL"
    },
    {
      "cell_type": "markdown",
      "source": [
        "Texto 5)d)"
      ],
      "metadata": {
        "id": "-e0v4n0b_ken"
      },
      "id": "-e0v4n0b_ken"
    },
    {
      "cell_type": "markdown",
      "source": [
        "###e)"
      ],
      "metadata": {
        "id": "_7q0Pdwa_lai"
      },
      "id": "_7q0Pdwa_lai"
    },
    {
      "cell_type": "markdown",
      "source": [
        "Texto 5)e)"
      ],
      "metadata": {
        "id": "CshH-01z_mmM"
      },
      "id": "CshH-01z_mmM"
    },
    {
      "cell_type": "markdown",
      "source": [
        "###f)"
      ],
      "metadata": {
        "id": "v078RUAX_nIK"
      },
      "id": "v078RUAX_nIK"
    },
    {
      "cell_type": "markdown",
      "source": [
        "Texto 5)f)"
      ],
      "metadata": {
        "id": "dBC3R0Gj_pAU"
      },
      "id": "dBC3R0Gj_pAU"
    },
    {
      "cell_type": "markdown",
      "source": [
        "###g)"
      ],
      "metadata": {
        "id": "qTk2oZHd_q1D"
      },
      "id": "qTk2oZHd_q1D"
    },
    {
      "cell_type": "markdown",
      "source": [
        "Texto 5)g)"
      ],
      "metadata": {
        "id": "Wj0zRfeC_r2D"
      },
      "id": "Wj0zRfeC_r2D"
    }
  ],
  "metadata": {
    "kernelspec": {
      "display_name": "Python 3 (ipykernel)",
      "language": "python",
      "name": "python3"
    },
    "language_info": {
      "codemirror_mode": {
        "name": "ipython",
        "version": 3
      },
      "file_extension": ".py",
      "mimetype": "text/x-python",
      "name": "python",
      "nbconvert_exporter": "python",
      "pygments_lexer": "ipython3",
      "version": "3.9.13"
    },
    "colab": {
      "provenance": []
    }
  },
  "nbformat": 4,
  "nbformat_minor": 5
}