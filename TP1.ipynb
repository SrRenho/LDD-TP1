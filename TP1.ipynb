{
  "cells": [
    {
      "cell_type": "markdown",
      "source": [
        "TP1\n",
        "\n",
        "Laboratorio de Datos\n",
        "\n",
        "1er Cuatrimestre - 2024\n",
        "\n",
        "Iván Exequiel Pintos - Joaquín Rovner - Juan José García Vizioli"
      ],
      "metadata": {
        "id": "s2w9pPvGs9g9"
      },
      "id": "s2w9pPvGs9g9"
    },
    {
      "cell_type": "markdown",
      "id": "711a03a3",
      "metadata": {
        "id": "711a03a3"
      },
      "source": [
        "- Importamos todas las librerías que venimos usando:"
      ]
    },
    {
      "cell_type": "code",
      "execution_count": null,
      "id": "6b39afcc",
      "metadata": {
        "id": "6b39afcc"
      },
      "outputs": [],
      "source": [
        "import seaborn as sns\n",
        "from sklearn.model_selection import KFold\n",
        "import matplotlib.pyplot as plt\n",
        "\n",
        "from scipy import stats\n",
        "import numpy as np\n",
        "import pandas as pd\n",
        "from sklearn.linear_model import LinearRegression\n",
        "from sklearn.model_selection import train_test_split\n",
        "from formulaic import model_matrix"
      ]
    },
    {
      "cell_type": "markdown",
      "id": "c4694286",
      "metadata": {
        "id": "c4694286"
      },
      "source": [
        "- Leemos el dataset:"
      ]
    },
    {
      "cell_type": "code",
      "source": [
        "#@title Usando Colab\n",
        "\n",
        "from google.colab import drive\n",
        "drive.mount('/content/drive')\n",
        "\n",
        "sube_2023_file_path = '/content/drive/My Drive/LDD-TP1/sube-2023.csv'"
      ],
      "metadata": {
        "colab": {
          "base_uri": "https://localhost:8080/"
        },
        "cellView": "form",
        "id": "pjecMvo0ujF7",
        "outputId": "344b1bed-6385-4272-da87-0cf26e7cebca"
      },
      "id": "pjecMvo0ujF7",
      "execution_count": null,
      "outputs": [
        {
          "output_type": "stream",
          "name": "stdout",
          "text": [
            "Mounted at /content/drive\n"
          ]
        }
      ]
    },
    {
      "cell_type": "code",
      "source": [
        "#@title Usando Jupyter\n",
        "\n",
        "sube_2023_file_path = '../LDD-TP1/sube-2023.csv'"
      ],
      "metadata": {
        "cellView": "form",
        "id": "raKXEkiYvB_j"
      },
      "id": "raKXEkiYvB_j",
      "execution_count": null,
      "outputs": []
    },
    {
      "cell_type": "code",
      "execution_count": null,
      "id": "89f2a77d",
      "metadata": {
        "id": "89f2a77d"
      },
      "outputs": [],
      "source": [
        "SUBE_2023 = pd.read_csv(sube_2023_file_path)"
      ]
    },
    {
      "cell_type": "markdown",
      "source": [
        "#Procesamiento de Datos"
      ],
      "metadata": {
        "id": "0QRFRjYj2Q2Y"
      },
      "id": "0QRFRjYj2Q2Y"
    },
    {
      "cell_type": "markdown",
      "id": "a8a1134a",
      "metadata": {
        "id": "a8a1134a"
      },
      "source": [
        "##1)"
      ]
    },
    {
      "cell_type": "markdown",
      "id": "6574211a",
      "metadata": {
        "id": "6574211a"
      },
      "source": [
        "###a)"
      ]
    },
    {
      "cell_type": "markdown",
      "source": [
        "Texto 1)a)"
      ],
      "metadata": {
        "id": "ld6A6pen-VnC"
      },
      "id": "ld6A6pen-VnC"
    },
    {
      "cell_type": "markdown",
      "source": [
        "###b)"
      ],
      "metadata": {
        "id": "3JrkI3ewwXtJ"
      },
      "id": "3JrkI3ewwXtJ"
    },
    {
      "cell_type": "markdown",
      "source": [
        "####i)"
      ],
      "metadata": {
        "id": "PMKNBQfI1lEH"
      },
      "id": "PMKNBQfI1lEH"
    },
    {
      "cell_type": "markdown",
      "source": [
        "Texto 1)b)i)"
      ],
      "metadata": {
        "id": "iQ_4LHcU10Yc"
      },
      "id": "iQ_4LHcU10Yc"
    },
    {
      "cell_type": "markdown",
      "source": [
        "####ii)\n"
      ],
      "metadata": {
        "id": "DHUrGU0b1_-b"
      },
      "id": "DHUrGU0b1_-b"
    },
    {
      "cell_type": "markdown",
      "source": [
        "Texto 1)b)ii)"
      ],
      "metadata": {
        "id": "HFs_uk925o0J"
      },
      "id": "HFs_uk925o0J"
    },
    {
      "cell_type": "markdown",
      "source": [
        "####iii)"
      ],
      "metadata": {
        "id": "06fbDLkW2W6s"
      },
      "id": "06fbDLkW2W6s"
    },
    {
      "cell_type": "markdown",
      "source": [
        "Texto 1)b)iii)"
      ],
      "metadata": {
        "id": "rvEvSgpH2kDd"
      },
      "id": "rvEvSgpH2kDd"
    },
    {
      "cell_type": "markdown",
      "source": [
        "##2)"
      ],
      "metadata": {
        "id": "Cjg1AMFl-pU9"
      },
      "id": "Cjg1AMFl-pU9"
    },
    {
      "cell_type": "markdown",
      "source": [
        "Texto 2)"
      ],
      "metadata": {
        "id": "GOTM_0hy-uBJ"
      },
      "id": "GOTM_0hy-uBJ"
    },
    {
      "cell_type": "markdown",
      "source": [
        "##3)"
      ],
      "metadata": {
        "id": "926oH1DB-270"
      },
      "id": "926oH1DB-270"
    },
    {
      "cell_type": "markdown",
      "source": [
        "###a)"
      ],
      "metadata": {
        "id": "1J9Xnv5C-3tw"
      },
      "id": "1J9Xnv5C-3tw"
    },
    {
      "cell_type": "markdown",
      "source": [
        "Texto 3)a)"
      ],
      "metadata": {
        "id": "msx9Mz6I-8We"
      },
      "id": "msx9Mz6I-8We"
    },
    {
      "cell_type": "markdown",
      "source": [
        "###b)"
      ],
      "metadata": {
        "id": "5iUzIPLQ-4vW"
      },
      "id": "5iUzIPLQ-4vW"
    },
    {
      "cell_type": "markdown",
      "source": [
        "Texto 3)b)"
      ],
      "metadata": {
        "id": "5XWNlGIA-__Q"
      },
      "id": "5XWNlGIA-__Q"
    },
    {
      "cell_type": "markdown",
      "source": [
        "###c)"
      ],
      "metadata": {
        "id": "Xz0xsKkN_BNz"
      },
      "id": "Xz0xsKkN_BNz"
    },
    {
      "cell_type": "markdown",
      "source": [
        "Texto 3)c)"
      ],
      "metadata": {
        "id": "u1RHrRf0_DAO"
      },
      "id": "u1RHrRf0_DAO"
    },
    {
      "cell_type": "markdown",
      "source": [
        "#Análisis Exploratorio"
      ],
      "metadata": {
        "id": "ESVG_e6j_Gk9"
      },
      "id": "ESVG_e6j_Gk9"
    },
    {
      "cell_type": "markdown",
      "source": [
        "##4)"
      ],
      "metadata": {
        "id": "eXeFBHUm_JNa"
      },
      "id": "eXeFBHUm_JNa"
    },
    {
      "cell_type": "markdown",
      "source": [
        "Texto 4)"
      ],
      "metadata": {
        "id": "E0Sd7igH_P-Y"
      },
      "id": "E0Sd7igH_P-Y"
    },
    {
      "cell_type": "markdown",
      "source": [
        "#Modelado"
      ],
      "metadata": {
        "id": "BnPK3vXB_R8K"
      },
      "id": "BnPK3vXB_R8K"
    },
    {
      "cell_type": "markdown",
      "source": [
        "##5)"
      ],
      "metadata": {
        "id": "yLkmQvXT_Tk4"
      },
      "id": "yLkmQvXT_Tk4"
    },
    {
      "cell_type": "markdown",
      "source": [
        "###a)"
      ],
      "metadata": {
        "id": "3_TQOHFi_ZmW"
      },
      "id": "3_TQOHFi_ZmW"
    },
    {
      "cell_type": "markdown",
      "source": [
        "Texto 5)a)"
      ],
      "metadata": {
        "id": "W5Ovma9s_dD8"
      },
      "id": "W5Ovma9s_dD8"
    },
    {
      "cell_type": "markdown",
      "source": [
        "###b)"
      ],
      "metadata": {
        "id": "wqs54nFu_fYO"
      },
      "id": "wqs54nFu_fYO"
    },
    {
      "cell_type": "markdown",
      "source": [
        "Texto 5)b)"
      ],
      "metadata": {
        "id": "YFzdmBrb_guL"
      },
      "id": "YFzdmBrb_guL"
    },
    {
      "cell_type": "markdown",
      "source": [
        "###c)"
      ],
      "metadata": {
        "id": "T3UGfDrE_hhz"
      },
      "id": "T3UGfDrE_hhz"
    },
    {
      "cell_type": "markdown",
      "source": [
        "Texto 5)c)"
      ],
      "metadata": {
        "id": "Qd5JGm-f_ilS"
      },
      "id": "Qd5JGm-f_ilS"
    },
    {
      "cell_type": "markdown",
      "source": [
        "###d)"
      ],
      "metadata": {
        "id": "C_yxyFm9_jRL"
      },
      "id": "C_yxyFm9_jRL"
    },
    {
      "cell_type": "markdown",
      "source": [
        "Texto 5)d)"
      ],
      "metadata": {
        "id": "-e0v4n0b_ken"
      },
      "id": "-e0v4n0b_ken"
    },
    {
      "cell_type": "markdown",
      "source": [
        "###e)"
      ],
      "metadata": {
        "id": "_7q0Pdwa_lai"
      },
      "id": "_7q0Pdwa_lai"
    },
    {
      "cell_type": "markdown",
      "source": [
        "Texto 5)e)"
      ],
      "metadata": {
        "id": "CshH-01z_mmM"
      },
      "id": "CshH-01z_mmM"
    },
    {
      "cell_type": "markdown",
      "source": [
        "###f)"
      ],
      "metadata": {
        "id": "v078RUAX_nIK"
      },
      "id": "v078RUAX_nIK"
    },
    {
      "cell_type": "markdown",
      "source": [
        "Texto 5)f)"
      ],
      "metadata": {
        "id": "dBC3R0Gj_pAU"
      },
      "id": "dBC3R0Gj_pAU"
    },
    {
      "cell_type": "markdown",
      "source": [
        "###g)"
      ],
      "metadata": {
        "id": "qTk2oZHd_q1D"
      },
      "id": "qTk2oZHd_q1D"
    },
    {
      "cell_type": "markdown",
      "source": [
        "Texto 5)g)"
      ],
      "metadata": {
        "id": "Wj0zRfeC_r2D"
      },
      "id": "Wj0zRfeC_r2D"
    }
  ],
  "metadata": {
    "kernelspec": {
      "display_name": "Python 3 (ipykernel)",
      "language": "python",
      "name": "python3"
    },
    "language_info": {
      "codemirror_mode": {
        "name": "ipython",
        "version": 3
      },
      "file_extension": ".py",
      "mimetype": "text/x-python",
      "name": "python",
      "nbconvert_exporter": "python",
      "pygments_lexer": "ipython3",
      "version": "3.9.13"
    },
    "colab": {
      "provenance": []
    }
  },
  "nbformat": 4,
  "nbformat_minor": 5
}